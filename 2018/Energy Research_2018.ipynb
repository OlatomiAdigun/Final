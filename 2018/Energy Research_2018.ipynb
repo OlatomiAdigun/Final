{
 "cells": [
  {
   "cell_type": "code",
   "execution_count": 1,
   "metadata": {},
   "outputs": [],
   "source": [
    "from PyPDF2 import PdfReader\n",
    "import re\n",
    "\n",
    "def extract_text_from_pdf(pdf_path):\n",
    "    text = \"\"\n",
    "    with open(pdf_path, 'rb') as file:\n",
    "        reader = PdfReader(file)\n",
    "        for page in reader.pages:\n",
    "            text += page.extract_text()\n",
    "    return text\n"
   ]
  },
  {
   "cell_type": "code",
   "execution_count": 126,
   "metadata": {},
   "outputs": [
    {
     "data": {
      "text/plain": [
       "'17'"
      ]
     },
     "execution_count": 126,
     "metadata": {},
     "output_type": "execute_result"
    }
   ],
   "source": [
    "matches = re.search(r'fatality.(.*?\\n?.*?\\n?.*?\\n)(\\d+)%(.*?\\n?.*?\\n?.*?\\n)?(\\d+)?%', m)\n",
    "matches.group(4)"
   ]
  },
  {
   "cell_type": "code",
   "execution_count": 356,
   "metadata": {},
   "outputs": [
    {
     "name": "stdout",
     "output_type": "stream",
     "text": [
      "The step it was gotten is: 1\n",
      "{'Backincluding spine,spinal cord': 13, 'Legs': 14, 'Ankle(s), Foot (feet)except toes': 11}\n",
      "The step it was gotten is: 4\n",
      "{'Wrist(s) and Hand(s) except ﬁnger(s)': 14, 'Finger(s),ﬁngernail(s)': 11, 'Backincluding spine,spinal cord': 18}\n",
      "Const\n",
      "The step it was gotten is: 2\n",
      "{'Leg(s)': 12, 'Finger(s),ﬁngernails': 11, 'Backincluding spine,spinal cord': 20}\n",
      "Provi\n",
      "The step it was gotten is: 2\n",
      "{'Leg(s)': 9, 'Wrist(s) and hand(s) except ﬁnger(s)': 8, 'Backincluding spine,spinal cord': 23}\n",
      "The step it was gotten is: 7\n",
      "{'Wrist(s) and hand(s) except ﬁnger(s)': 13, 'Finger(s),ﬁngernails': 15, 'Backincluding spine,spinal cord': 19}\n",
      "The step it was gotten is: 3\n",
      "{'Ankle(s) and foot except toes': 12, 'Leg(s)': 13, 'Backincluding spine,spinal cord': 17}\n",
      "The step it was gotten is: 6\n",
      "{'Leg(s)': 11, 'Backincluding spine,spinal cord': 24, 'Ankle(s), Foot (feet)except toes': 10}\n",
      "The step it was gotten is: 5\n",
      "{'Finger(s), ﬁngernail(s)': 9, 'Wrist(s) and hand(s) except ﬁnger(s)': 10, 'Backincluding spine,spinal cord': 24}\n"
     ]
    }
   ],
   "source": [
    "for i in sector_names:\n",
    "    file_text = extract_text_from_pdf(i[0:5] + '_2018.pdf')\n",
    "\n",
    "    commonly_injured_parts = None\n",
    "    step = 0\n",
    "\n",
    "    # Step 1\n",
    "    matches = re.findall(r'were injured\\n(.*?\\n.*?\\n.*?\\n)(\\d+)%\\n(.*?)\\n(\\d+)%\\n(.*?\\n.*?\\n)(\\d+)%', file_text)\n",
    "    if matches and len(matches[0]) == 6 :\n",
    "        step = 1\n",
    "        commonly_injured_parts = {\n",
    "            matches[0][0].strip().replace('\\n', ''): int(matches[0][1]),\n",
    "            matches[0][2].strip().replace('\\n', ''): int(matches[0][3]),\n",
    "            matches[0][4].strip().replace('\\n', ''): int(matches[0][5])\n",
    "        }\n",
    "    else:\n",
    "        # Step 2\n",
    "        matches = re.findall(r'injured\\n(.*?\\n?.*?)\\n(\\d+)%(.*?\\n.*?\\n?.*?)\\n(\\d+)%', file_text)\n",
    "        matches.extend(re.findall(r'fatality.(.*?\\n.*?\\n.*?)\\n(\\d+)%', file_text))\n",
    "        matches= [sum(matches,())]\n",
    "        if matches and len(matches[0]) == 6 and i[0:5]!='Trans':\n",
    "            print(i[0:5])\n",
    "            step = 2\n",
    "            matches = [sum(matches, ())]\n",
    "            commonly_injured_parts = {\n",
    "                matches[0][0].strip().replace('\\n', ''): int(matches[0][1]),\n",
    "                matches[0][2].strip().replace('\\n', ''): int(matches[0][3]),\n",
    "                matches[0][4].strip().replace('\\n', ''): int(matches[0][5])\n",
    "            }\n",
    "        else:\n",
    "            # Step 3\n",
    "            matches = re.findall(r'were injured\\n(.*?\\n.*?\\n.*?\\n)(\\d+)%\\n', file_text)\n",
    "            matches.extend(re.findall(r'fatality.(.*?)\\n(\\d+)%(.*?\\n.*?\\n.*?)\\n(\\d+)%', file_text))\n",
    "            matches= [sum(matches,())]\n",
    "            if matches and len(matches[0]) == 6 :\n",
    "                step = 3\n",
    "                matches = [sum(matches, ())]\n",
    "                commonly_injured_parts = {\n",
    "                    matches[0][0].strip().replace('\\n', ''): int(matches[0][1]),\n",
    "                    matches[0][2].strip().replace('\\n', ''): int(matches[0][3]),\n",
    "                    matches[0][4].strip().replace('\\n', ''): int(matches[0][5])\n",
    "                }\n",
    "            else:\n",
    "                # Step 4\n",
    "                matches = re.findall(r'injured\\n\\d+?%(.*?\\n.*?\\n.*?)\\n(\\d+)%(.*?\\n.*?)\\n(\\d+)%\\n', file_text)\n",
    "                matches.extend(re.findall(r'fatality.(.*?\\n.*?\\n.*?)\\n(\\d+)%', file_text))\n",
    "                matches= [sum(matches,())]\n",
    "                if matches and len(matches[0]) == 6:\n",
    "                    step = 4\n",
    "                    matches = [sum(matches, ())]\n",
    "                    commonly_injured_parts = {\n",
    "                        matches[0][0].strip().replace('\\n', ''): int(matches[0][1]),\n",
    "                        matches[0][2].strip().replace('\\n', ''): int(matches[0][3]),\n",
    "                        matches[0][4].strip().replace('\\n', ''): int(matches[0][5])\n",
    "                    }\n",
    "                else:\n",
    "                    # Step 5\n",
    "                    matches = re.findall(r'injured(.*?\\n.*?)\\n(\\d+)%\\n(.*?\\n.*?\\n.*?)\\n(\\d+)%', file_text)\n",
    "                    matches.extend(re.findall(r'fatality.(.*?\\n.*?\\n.*?)\\n(\\d+)%', file_text))\n",
    "                    matches= [sum(matches,())]\n",
    "                    if matches and len(matches[0]) == 6:\n",
    "                        step = 5\n",
    "                        matches = [sum(matches, ())]\n",
    "                        commonly_injured_parts = {\n",
    "                            matches[0][0].strip().replace('\\n', ''): int(matches[0][1]),\n",
    "                            matches[0][2].strip().replace('\\n', ''): int(matches[0][3]),\n",
    "                            matches[0][4].strip().replace('\\n', ''): int(matches[0][5])\n",
    "                        }\n",
    "                    else:\n",
    "                        # Step 6\n",
    "                        matches = re.findall(r'were injured\\n(.*?)\\n(\\d+)%\\n', file_text)\n",
    "                        matches.extend(re.findall(r'fatality.(.*?\\n.*?\\n.*?)\\n(\\d+)%(.*?\\n.*?\\n.*?)\\n(\\d+)%', file_text))\n",
    "                        matches= [sum(matches,())]\n",
    "                        \n",
    "                        if matches and len(matches[0]) == 6:\n",
    "                            step = 6\n",
    "                            matches = [sum(matches, ())]\n",
    "                            commonly_injured_parts = {\n",
    "                                matches[0][0].strip().replace('\\n', ''): int(matches[0][1]),\n",
    "                                matches[0][2].strip().replace('\\n', ''): int(matches[0][3]),\n",
    "                                matches[0][4].strip().replace('\\n', ''): int(matches[0][5])\n",
    "                            }\n",
    "                        else:\n",
    "                            # Step 7\n",
    "                            matches = re.findall(r'were injured\\n\\d+%(.*?\\n.*?\\n.*?)\\n(\\d+)%\\n', file_text)\n",
    "                            matches.extend(re.findall(r'fatality.(.*?\\n.*?)\\n(\\d+)%\\n(.*?\\n.*?\\n.*?)\\n(\\d+)%', file_text))\n",
    "                            matches= [sum(matches,())]\n",
    "                            if matches and len(matches[0]) == 6:\n",
    "                                step = 7\n",
    "                                matches = [sum(matches, ())]\n",
    "                                commonly_injured_parts = {\n",
    "                                    matches[0][0].strip().replace('\\n', ''): int(matches[0][1]),\n",
    "                                    matches[0][2].strip().replace('\\n', ''): int(matches[0][3]),\n",
    "                                    matches[0][4].strip().replace('\\n', ''): int(matches[0][5])\n",
    "                                }\n",
    "\n",
    "    if commonly_injured_parts:\n",
    "        print(f\"The step it was gotten is: {step}\")\n",
    "        print(commonly_injured_parts)\n",
    "    else:\n",
    "        print(\"No matches found in any step\")"
   ]
  },
  {
   "cell_type": "code",
   "execution_count": 439,
   "metadata": {},
   "outputs": [
    {
     "data": {
      "text/plain": [
       "['Agriculture & forestry',\n",
       " 'Business & professional services',\n",
       " 'Construction & construction trades',\n",
       " 'Provincial & municipal government, education & health',\n",
       " 'Manufacturing, packaging & processing',\n",
       " 'Mining & petroleum development',\n",
       " 'Transportation, communication & utilities',\n",
       " 'Wholesale and retail']"
      ]
     },
     "execution_count": 439,
     "metadata": {},
     "output_type": "execute_result"
    }
   ],
   "source": [
    "sector_names"
   ]
  },
  {
   "cell_type": "code",
   "execution_count": 441,
   "metadata": {},
   "outputs": [
    {
     "name": "stdout",
     "output_type": "stream",
     "text": [
      "1\n",
      "[26]\n",
      "1\n",
      "[25, 25]\n",
      "1\n",
      "[31]\n",
      "1\n",
      "[24, 24]\n",
      "1\n",
      "[25]\n",
      "1\n",
      "[30]\n",
      "1\n",
      "[23]\n",
      "1\n",
      "[22]\n"
     ]
    }
   ],
   "source": [
    "for i in sector_names:\n",
    "    o= extract_text_from_pdf(i[0:5]+'_2018.pdf')\n",
    "    a= re.findall(r'(\\d+)%', re.findall(r'were injured\\n?([\\s\\S]+?)All numbers',o)[0])\n",
    "    print(nos_btw_21_and_32(a))"
   ]
  },
  {
   "cell_type": "code",
   "execution_count": 453,
   "metadata": {},
   "outputs": [
    {
     "name": "stdout",
     "output_type": "stream",
     "text": [
      "[24, 24]\n"
     ]
    },
    {
     "data": {
      "text/plain": [
       "{'35-44': 24, '45-54': 24}"
      ]
     },
     "execution_count": 453,
     "metadata": {},
     "output_type": "execute_result"
    }
   ],
   "source": [
    "def nos_btw_21_and_32(string_list):\n",
    "    result = []\n",
    "    for string in string_list:\n",
    "        numbers = re.findall(r'\\b(?:2[1-9]|[3][0-2])\\b', string)\n",
    "        result.extend(map(int, numbers))\n",
    "    return result\n",
    "\n",
    "def extract_age_percent(file_text):\n",
    "    agegroup = re.findall(r'\\s?(\\d+-\\d+)', file_text)\n",
    "    percent = re.findall(r'(\\d+)%', re.findall(r'were injured\\n?([\\s\\S]+?)All numbers', file_text)[0])\n",
    "    percent=nos_btw_21_and_32(percent)\n",
    "    print(percent)\n",
    "    result = {age: per for age, per in zip(agegroup, percent)}\n",
    "    return result\n",
    "\n",
    "extract_age_percent(m)\n"
   ]
  },
  {
   "cell_type": "code",
   "execution_count": 440,
   "metadata": {},
   "outputs": [],
   "source": []
  },
  {
   "cell_type": "code",
   "execution_count": 452,
   "metadata": {},
   "outputs": [
    {
     "data": {
      "text/plain": [
       "'Top three causes of \\ninjuries among workers \\nOverexertion 24%\\nFalls 19%\\nBodily reaction     13%Common types of injuries\\nSprains / Strains / Tears 57%\\nSuperﬁcial wounds 10%\\nFractures/ Dislocations/ \\nNerve damage    5%Commonly injured \\nparts of the body\\nOccupations with higher injuries\\nRegistered nurses \\n& registered \\npsychiatric nurses\\n7%Nurse aides, \\norderlies, etc.\\n19%Social & \\ncommunity \\nservice workers\\n6%Injuries by gender\\nAge with \\nhighest \\ninjury \\nclaims 35-44 \\nyears\\n45-54\\nyearsWorkplace injuries, diseases & fatalities in Alberta\\nProvincial & municipal government, education & health sector overview 2018 \\nData reﬂects 2018 injury, disease and fatality statistics as accepted and reported by the Workers’ Compensation Board of Alberta.18\\nNumber of \\nworkers \\nwho died1\\n12Disease\\n2\\nMotor vehicle incidents\\n4Workplace incidents11,953\\nInjury claims by workers in 2018\\nApproximately 3 in 100 \\nworkers were injured\\nLeg(s)\\n9%Wrist(s) and \\nhand(s) except \\nﬁnger(s)\\n8%\\n24%\\n24%\\n33%\\n     male67%\\n female\\n1All numbers are based on the year of the fatality.  Back\\nincluding spine,\\nspinal cord\\n23%'"
      ]
     },
     "execution_count": 452,
     "metadata": {},
     "output_type": "execute_result"
    }
   ],
   "source": [
    "m= extract_text_from_pdf(\"provi_2018.pdf\") \n",
    "m          "
   ]
  },
  {
   "cell_type": "code",
   "execution_count": 447,
   "metadata": {},
   "outputs": [
    {
     "data": {
      "text/plain": [
       "'Top three causes of \\ninjuries among workers \\nFalls  21%\\nOverexertion  18%\\nStruck by object    15%49%\\n12%Common types of injuries \\nSprains/ Strains/ Tears   \\nOpen wounds  \\nSuperﬁcial wounds 11%Commonly injured \\nparts of the body\\nOccupations with higher injuries\\nCarpenters\\n8%Construction \\ntrades helpers \\n& workers\\n13%Heavy \\nequipment \\noperator\\n5%Age with \\nhighest injury claims 25-34\\nyearsWorkplace injuries, diseases & fatalities in Alberta\\nConstruction & construction trades sector overview 2018 \\nData reﬂects 2017 injury, disease and fatality statistics as accepted and reported by the Workers’ Compensation Board of Alberta.43\\nNumber of \\nworkers \\nwho died1\\n24Disease\\n7\\nMotorvehicleincidents\\n12Workplace incidents9,309\\nInjury claims by workers in 2018\\nApproximately 3 in 100 \\nworkers were injured\\nLeg(s)\\n12%Finger(s),\\nﬁngernails\\n11%\\n31%\\n      91%\\nmale 9%\\n femaleInjuries by gender\\n1All numbers are based on the year of the fatality.Back\\nincluding spine,\\nspinal cord\\n20%'"
      ]
     },
     "execution_count": 447,
     "metadata": {},
     "output_type": "execute_result"
    }
   ],
   "source": [
    "n= extract_text_from_pdf(\"const_2018.pdf\")\n",
    "n"
   ]
  },
  {
   "cell_type": "code",
   "execution_count": 446,
   "metadata": {},
   "outputs": [
    {
     "data": {
      "text/plain": [
       "'Top three causes of \\ninjuries among workers \\nFalls  22%\\nOverexertion 16%\\nBodily reaction     13%Common types of injuries\\nSprains/ Strains/ Tears 47%\\nOpen wounds  12%\\nSuper/f_icial wounds 10%Commonly injured \\nparts of the body\\nOccupations with higher injuries\\nCooks\\n11%Attendants, \\nhelpers & \\nrelated jobs \\n12%Light duty \\ncleaners\\n8%\\n45%\\n male55%\\n femaleInjuries by gender\\nAge with highest injury claims \\n25-34\\nyearsWorkplace injuries, diseases & fatalities in Alberta\\nBusiness and professional services sector overview 2018\\nData reﬂects 2018 injury, disease and fatality statistics as accepted and reported by the Workers’ Compensation Board of Alberta.4\\nNumber of \\nworkers \\nwho died1\\n1Disease\\n2\\nMotorvehicleincidents\\n1Workplace incidents5,947\\nInjury claims by workers in 2018\\nApproximately 2 in 100 \\nworkers were injured\\n25%Wrist(s) and \\nHand(s) except \\nﬁnger(s)\\n14%Finger(s),\\nﬁngernail(s)\\n11%\\n25%15-24\\nyears\\n1All numbers are based on the year of the fatality.Back\\nincluding spine,\\nspinal cord\\n18%'"
      ]
     },
     "execution_count": 446,
     "metadata": {},
     "output_type": "execute_result"
    }
   ],
   "source": [
    "o= extract_text_from_pdf(\"busin_2018.pdf\")\n",
    "o"
   ]
  },
  {
   "cell_type": "code",
   "execution_count": 40,
   "metadata": {},
   "outputs": [
    {
     "data": {
      "text/plain": [
       "'49'"
      ]
     },
     "execution_count": 40,
     "metadata": {},
     "output_type": "execute_result"
    }
   ],
   "source": [
    "match = re.search(r'(\\d+)%\\n(\\d+)%Common types of injuries \\n(.*?)\\s{3}\\n(.*?)  \\n(.*?)\\s(\\d+)%Commonly', m)\n",
    "match.group(1)"
   ]
  },
  {
   "cell_type": "code",
   "execution_count": 227,
   "metadata": {},
   "outputs": [
    {
     "data": {
      "text/plain": [
       "'10'"
      ]
     },
     "execution_count": 227,
     "metadata": {},
     "output_type": "execute_result"
    }
   ],
   "source": [
    "match= re.search(r'\\n100 workers were injured\\n(.*?)\\n(\\d{1,2})%\\n?\\d{0,2}%?(.*?)\\n(\\d{1,2})%\\n?(.*?)\\n(\\d{1,2})%', n)\n",
    "match.group(6)"
   ]
  },
  {
   "cell_type": "code",
   "execution_count": 159,
   "metadata": {},
   "outputs": [
    {
     "data": {
      "text/plain": [
       "'25-34'"
      ]
     },
     "execution_count": 159,
     "metadata": {},
     "output_type": "execute_result"
    }
   ],
   "source": [
    "match= re.search(r'\\nclaims (.*?) \\nyearsWorkplace injuries',o)\n",
    "match.group(1)"
   ]
  },
  {
   "cell_type": "code",
   "execution_count": 166,
   "metadata": {},
   "outputs": [
    {
     "data": {
      "text/plain": [
       "['35-44']"
      ]
     },
     "execution_count": 166,
     "metadata": {},
     "output_type": "execute_result"
    }
   ],
   "source": [
    "find_age_groups(n)"
   ]
  },
  {
   "cell_type": "code",
   "execution_count": 177,
   "metadata": {},
   "outputs": [],
   "source": [
    "def extract_age_group_percentages(text):\n",
    "    age_groups = find_age_groups(text)\n",
    "    age_group_percent = {}\n",
    "\n",
    "    if len(age_groups) == 1:\n",
    "        # First pattern to search for percentage\n",
    "        match = re.search(r'%\\n{0,1}(\\d{2})%\\n\\d{1,2}%\\n\\s{1,6}male', text)\n",
    "        if not match:\n",
    "            # Second pattern if no value is found\n",
    "            match = re.search(r'(\\d{1,2})%.*?\\n\\d{1,2}%.*?\\n{0,1}\\d{2}%\\n\\d{1,2}%\\n\\s{1,6}male', text)\n",
    "        if not match:\n",
    "            # Third pattern if still no value is found\n",
    "            match = re.search(r'(\\d*)%Injuries by gender', text)\n",
    "\n",
    "        if match:\n",
    "            age_group_percent[age_groups[0]] = match.group(1)\n",
    "\n",
    "    elif len(age_groups) == 2:\n",
    "        # Pattern to search for percentages for two age groups\n",
    "        match = re.search(r'\\n(\\d{1,2})%.*?\\n\\d{1,2}%.*?\\n\\d{1,2}%\\n(\\d{1,2})%\\d{1,2}-\\d{1,2}\\nyears\\n\\d{1,2}All fatality', text)\n",
    "        \n",
    "        if match:\n",
    "            age_group_percent[age_groups[0]] = match.group(1)\n",
    "            age_group_percent[age_groups[1]] = match.group(2)\n",
    "\n",
    "    return age_group_percent\n"
   ]
  },
  {
   "cell_type": "code",
   "execution_count": 178,
   "metadata": {},
   "outputs": [
    {
     "data": {
      "text/plain": [
       "{'25-34': '25', '15-24': '25'}"
      ]
     },
     "execution_count": 178,
     "metadata": {},
     "output_type": "execute_result"
    }
   ],
   "source": [
    "extract_age_group_percentages(o)"
   ]
  },
  {
   "cell_type": "code",
   "execution_count": 182,
   "metadata": {},
   "outputs": [],
   "source": [
    " match = re.search(r'%\\n{0,1}(\\d{2})%\\n\\d{1,2}%\\n\\s{1,6}male', file_text)\n",
    "match=re.search(r'(\\d{1,2})%.*?\\n\\d{1,2}%.*?\\n{0,1}\\d{2}%\\n\\d{1,2}%\\n\\s{1,6}male',n) #if %=6\n",
    "match=re.search(r'(\\d*)%Injuries by gender',n) #if %=4\n",
    "match=re.search(r'\\n(\\d{1,2})%.*?\\n\\d{1,2}%.*?\\n\\d{1,2}%\\n(\\d{1,2})%\\d{1,2}-\\d{1,2}\\nyears\\n\\d{1,2}All fatality',o) \n",
    "match=re.search(r'(\\d{1,2})%.*?\\n\\d{1,2}%.*?\\n{0,1}\\d{2}%\\n\\d{1,2}%\\n\\s{1,6}male',n) #if %=6\n",
    "match=re.search(r'(\\d*)%Injuries by gender',n) #if %=4\n",
    "match=re.search(r'\\n(\\d{1,2})%.*?\\n\\d{1,2}%.*?\\n\\d{1,2}%\\n(\\d{1,2})%\\d{1,2}-\\d{1,2}\\nyears\\n\\d{1,2}All fatality',o) #if %=5\n",
    "match.group(2),match.group(1)"
   ]
  },
  {
   "cell_type": "code",
   "execution_count": 128,
   "metadata": {},
   "outputs": [
    {
     "data": {
      "text/plain": [
       "'Top three causes of \\ninjuries among workers \\nFalls  20%\\nOverexertion 16%\\nBodily reaction     14%Common types of injuries\\nSprain / Strain / Tear   48%\\nOpen wounds   12%\\nSuperﬁcial wounds  10%Commonly injured \\nparts of the body\\nOccupations with higher injuries\\nCooks\\n10%Attendants, \\nhelpers & \\nrelated jobs  \\n13%Light duty \\ncleaners\\n10%\\n44%\\n     male56%\\n femaleInjuries by gender\\nAge with \\nhighest \\ninjury \\nclaims 25-34 \\nyearsWorkplace injuries, diseases & fatalities in Alberta\\nBusiness and professional services overview 2017 \\nData reﬂects 2017 injury, disease and fatality statistics as accepted and reported by the Workers’ Compensation Board of Alberta.3\\nNumber of \\nworkers \\nwho died1\\n1Disease\\n1\\nMotor vehicle incidents\\n1Workplace incidents5,791\\nInjury claims by workers in 2017\\nApproximately two in \\n100 workers were injured\\nBack\\n19%\\n25%Hands\\n14%Fingers\\n11%\\n25%15-24\\nyears\\n1All fatality numbers in this report are based on the year the worker died.  '"
      ]
     },
     "execution_count": 128,
     "metadata": {},
     "output_type": "execute_result"
    }
   ],
   "source": [
    "o =extract_text_from_pdf(\"busin_2017.pdf\")\n",
    "o  "
   ]
  },
  {
   "cell_type": "markdown",
   "metadata": {},
   "source": [
    "injuries\\n()(d)%\\n()(d)%\\n()(d)%Commonly"
   ]
  },
  {
   "cell_type": "code",
   "execution_count": 5,
   "metadata": {},
   "outputs": [
    {
     "data": {
      "text/plain": [
       "'3'"
      ]
     },
     "execution_count": 5,
     "metadata": {},
     "output_type": "execute_result"
    }
   ],
   "source": [
    "match = re.search(r'Alberta\\.(\\d+)\\nNumber of \\nworkers \\nwho died1', n)\n",
    "if match:\n",
    "    workers_died = match.group(1)\n",
    "workers_died"
   ]
  },
  {
   "cell_type": "code",
   "execution_count": 32,
   "metadata": {},
   "outputs": [
    {
     "name": "stdout",
     "output_type": "stream",
     "text": [
      "<re.Match object; span=(693, 727), match='\\n17Workplace incidents9,089\\nInjury'>\n"
     ]
    },
    {
     "data": {
      "text/plain": [
       "'9089'"
      ]
     },
     "execution_count": 32,
     "metadata": {},
     "output_type": "execute_result"
    }
   ],
   "source": [
    "match = re.search(r'\\n\\d{1,2}Workplace incidents(\\d{1,3}(?:,\\d{3})?)\\nInjury', o)\n",
    "print(match)\n",
    "if match:\n",
    "    workers_injured = match.group(1).replace(',', '')\n",
    "\n",
    "workers_injured\n"
   ]
  },
  {
   "cell_type": "code",
   "execution_count": 59,
   "metadata": {},
   "outputs": [
    {
     "name": "stdout",
     "output_type": "stream",
     "text": [
      "<re.Match object; span=(847, 873), match='84%\\n      male16%\\n  female'>\n"
     ]
    },
    {
     "data": {
      "text/plain": [
       "{'male': 84, 'female': 16}"
      ]
     },
     "execution_count": 59,
     "metadata": {},
     "output_type": "execute_result"
    }
   ],
   "source": [
    "match = re.search(r'(\\d{1,2})%\\n\\s{1,6}male\\s{0,1}(\\d{1,3})%\\n\\s{1,4}female', o)\n",
    "print(match)\n",
    "if match:\n",
    "    male_percentage = int(match.group(1))\n",
    "    female_percentage = int(match.group(2))\n",
    "    injuries_by_gender = {'male': male_percentage, 'female': female_percentage}\n",
    "injuries_by_gender"
   ]
  },
  {
   "cell_type": "code",
   "execution_count": 64,
   "metadata": {},
   "outputs": [
    {
     "name": "stdout",
     "output_type": "stream",
     "text": [
      "<re.Match object; span=(375, 413), match='\\nclaims 35-44 \\nyearsWorkplace injuries'>\n"
     ]
    },
    {
     "ename": "IndexError",
     "evalue": "no such group",
     "output_type": "error",
     "traceback": [
      "\u001b[1;31m---------------------------------------------------------------------------\u001b[0m",
      "\u001b[1;31mIndexError\u001b[0m                                Traceback (most recent call last)",
      "Cell \u001b[1;32mIn[64], line 7\u001b[0m\n\u001b[0;32m      5\u001b[0m \u001b[38;5;28;01mif\u001b[39;00m match:\n\u001b[0;32m      6\u001b[0m     age_range \u001b[38;5;241m=\u001b[39m match\u001b[38;5;241m.\u001b[39mgroup(\u001b[38;5;241m1\u001b[39m)\n\u001b[1;32m----> 7\u001b[0m     value \u001b[38;5;241m=\u001b[39m \u001b[38;5;28mfloat\u001b[39m(\u001b[43mmatch\u001b[49m\u001b[38;5;241;43m.\u001b[39;49m\u001b[43mgroup\u001b[49m\u001b[43m(\u001b[49m\u001b[38;5;241;43m2\u001b[39;49m\u001b[43m)\u001b[49m)\n\u001b[0;32m      8\u001b[0m     age_highest_injury_claims \u001b[38;5;241m=\u001b[39m {age_range: value}\n\u001b[0;32m     10\u001b[0m age_highest_injury_claims\n",
      "\u001b[1;31mIndexError\u001b[0m: no such group"
     ]
    }
   ],
   "source": [
    "match = re.search(r'(\\d+-\\d+|\\d+\\+)\\s*year olds\\n([0-9]+\\.[0-9]+)\\s*per 100 person-years', o)\n",
    "match = re.search(r'\\nclaims (\\d{2}-\\d{2}) \\nyearsWorkplace injuries', o)\n",
    "\n",
    "print(match)\n",
    "if match:\n",
    "    age_range = match.group(1)\n",
    "    value = float(match.group(2))\n",
    "    age_highest_injury_claims = {age_range: value}\n",
    "\n",
    "age_highest_injury_claims\n"
   ]
  },
  {
   "cell_type": "code",
   "execution_count": 192,
   "metadata": {},
   "outputs": [
    {
     "data": {
      "text/plain": [
       "'Injury claims Common injuries Highest injuriesOccupationsAge group with the highest injuriesParts of the bodyInjury trends 2018-2022*TypeSprain, strain or tear 35%Wound or bruise   22%Other injury  19%25%21%CauseBodily reaction or exertion Slip, trip or fall  Struck by or against object 15%Injuries by gender 36%General farm  workers10%Transport truck  d rivers6%Nursery and greenhouse workersIndustries *11.24Mushroom producers or bait farms4.67Livestock auctions or stockyards4.51Riding academies or horse stablesHand or wrist  11%Trunk  16%Back  13%Industry with higher COVID-19 claims*2.06Mushroom producers or bait farms15-24  year olds4.47 per 100 person-years65%male35%female*Disabling injury rate per 100 person-yearsData reflects 2022 injury, illness and fatality claims as accepted and reported by the Workers’ Compensation Board – Alberta.  All numbers are based on the year of the injury, illness, or fatality.©2023 Government of Alberta | December 2023 | Jobs, Economy and TradeWorkplace injuries, illnesses and fatalities: Agriculture and forestry sector overview 2022Injuries (including illnesses)589 total injuries2%COVID-1973%Lost-time 59%Modified-work 2018 2018 2019 2019 2020 2020 2021 2021 2022 20222.53.03.54.0Fatal injuriesHighest fatalitiesOccupationsIndustries *40Occupational illnesses2Motor vehicle incidents2Workplace incidentsFor more information, see the Workplace injury, illness and fatality statistics: provincial summary report.https://open.alberta.ca/publications/workplace-injury-ill -ness-  and-fatality-statistics-provincial-summary50%General farm  workers19.58Logging  woodlands operation44.81Hay,grain    or crop farming*Adjusted fatality rate per 100,000 person-yearsData reflects 2022 injury, illness and fatality claims as accepted and reported by the Workers’ Compensation Board – Alberta. All numbers are based on the year of the injury, illness, or fatality.©2023 Government of Alberta | December 2023 | Jobs, Economy and TradeWorkplace injuries, illnesses and fatalities: Agriculture and forestry sector overview 2022FatalitiesFatality trends 2018-2022*2018 2019 2020 2021 202251015202530980.39Elk or bison producers1 fatality 147 injury claims to'"
      ]
     },
     "execution_count": 192,
     "metadata": {},
     "output_type": "execute_result"
    }
   ],
   "source": [
    "m.replace('\\n','')"
   ]
  },
  {
   "cell_type": "code",
   "execution_count": 191,
   "metadata": {},
   "outputs": [
    {
     "data": {
      "text/plain": [
       "'Injury claims Common injuries Highest injuriesOccupationsAge group with the highest injuriesParts of the bodyInjury trends 2018-2022*TypeSprain, strain or tear 43%Wound or bruise   19%Other injury  14%CauseBodily reaction or exertion  34%Slip, trip or fall  21%Struck by or against object  16%Injuries by gender 16%Construction trades helpers and workers7%Other trades helpers and labourers7%CarpentersIndustries *Trunk  11%Back  17%Foot, ankle or toe  10%Industry with higher COVID-19 claims*2.13Industrial plant maintenance 15-24  year olds3.40 per 100 person-years10%COVID-1952%Lost-time72%Modified-work91%male9%female5.85Acoustic materials - sales and installation7.52Framing contractor - construction*Disabling injury rate per 100 person-yearsData reflects 2022 injury, illness and fatality claims as accepted and reported by the Workers’ Compensation Board – Alberta.  All numbers are based on the year of the injury, illness, or fatality.©2023 Government of Alberta | December 2023 | Jobs, Economy and TradeWorkplace injuries, illnesses and fatalities: Construction and construction trades sector overview 2022 Injuries (including illnesses)8,807 5.11Sod growers2018 2019 2020 2021 20222.02.53.0Fatal injuriesHighest fatalitiesOccupationFatality trends 2018-2022*3324Occupational illnesses2Motor vehicle incidents7Workplace incidentsFor more information, see the Workplace injury, illness and fatality statistics: provincial summary report.https://open.alberta.ca/publications/workplace-injury-illness-  a nd-fatality-statistics-provincial-summary13%Construction trades helpers and labourers13%Electricians (except industrial and power system) *Adjusted fatality rate per 100,000 person-yearsData reflects 2022 injury, illness and fatality claims as accepted and reported by the Workers’ Compensation Board – Alberta.  All numbers are based on the year of the injury, illness, or fatality.©2023 Government of Alberta | December 2023 | Jobs, Economy and TradeIndustries*101.83Mechanical insulation - installation and serviceWorkplace injuries, illnesses and fatalities: Construction and construction trades sector overview 2022 Fatalities1 fatality 267 injury claims to2018 2019 2020 2021 2022510152093.46Brick or masonry contracting59.31Refrigeration equipment - sales or service'"
      ]
     },
     "execution_count": 191,
     "metadata": {},
     "output_type": "execute_result"
    }
   ],
   "source": [
    "n.replace('\\n','')"
   ]
  },
  {
   "cell_type": "code",
   "execution_count": 240,
   "metadata": {},
   "outputs": [
    {
     "data": {
      "text/plain": [
       "[('Hand or wrist', '10', 'Trunk  \\n', '13', 'Back  \\n', '21')]"
      ]
     },
     "execution_count": 240,
     "metadata": {},
     "output_type": "execute_result"
    }
   ],
   "source": [
    "import re\n",
    "\n",
    "\n",
    "\n",
    "# text=text.replace(\"\\n\",\"\")\n",
    "  \n",
    "# pattern = r'(.*?)\\s(\\d+)%(.*?)\\s(\\d+)%(.*?)\\s(\\d+)%\\n' \n",
    "# pattern = r'\\n(.*?)\\s\\n(\\d{1,2})%\\n(.*?)\\s\\n(\\d{1,2})%(.*?)\\s+(\\d{1,2})%\\nIndustry'\n",
    "# pattern = r'\\n(.*?)\\s(\\d{1,2})%\\n(.*?)\\s\\n(\\d{1,2})%(.*?)\\s\\n(\\d{1,2})%\\nIndustry'\n",
    "# pattern = r'\\b([A-Z][a-z\\s,]*)\\s+(\\d{1,2})%\\s*([A-Z][a-zA-Z\\s,]*)\\s+(\\d{1,2})%\\s*([A-Z][a-zA-Z\\s,]*)\\s+(\\d{1,2})%\\s*Industry with higher'\n",
    "pattern = r'([A-Z][a-z\\s,]*)\\s+(\\d{1,2})%\\s*([A-Z][a-zA-Z\\s,]*)\\s*(\\d{1,2})%\\s*([A-Z][a-zA-Z\\s,]*)\\s*(\\d{1,2})%\\s*Industry with higher'\n",
    "\n",
    "\n",
    "\n",
    "\n",
    "\n",
    "matches = re.findall(pattern, o)\n",
    "matches\n",
    "# commonly_injured_parts = {matches[0][0].strip(): int(matches[0][1]), matches[0][2].strip(): int(matches[0][3]), matches[0][4].strip(): int(matches[0][5])}\n",
    "\n"
   ]
  },
  {
   "cell_type": "code",
   "execution_count": 101,
   "metadata": {},
   "outputs": [
    {
     "name": "stdout",
     "output_type": "stream",
     "text": [
      "[('Falls', '20', 'Struck by object', '15', 'Assaults & violent acts', '13')]\n"
     ]
    },
    {
     "data": {
      "text/plain": [
       "{'Falls': 20, 'Struck by object': 15, 'Assaults & violent acts': 13}"
      ]
     },
     "execution_count": 101,
     "metadata": {},
     "output_type": "execute_result"
    }
   ],
   "source": [
    "import re\n",
    "\n",
    "\n",
    "\n",
    "\n",
    "  \n",
    "pattern = r'workers\\s\\n(.*?)\\s{1,3}(\\d+)%\\n(.*?)\\s(\\d+)%\\n(.*?)\\s{1,5}(\\d+)%Common'\n",
    "# pattern = r'\\n(\\d{1,2})%\\n(\\d{1,2})%Cause\\n(.*?)\\s\\n(.*?)\\s+\\n(.*?)\\s+(\\d{1,2})%Injuries'\n",
    "\n",
    "\n",
    "\n",
    "\n",
    "\n",
    "matches = re.findall(pattern, m)\n",
    "print(matches)\n",
    "top_three_causes = {matches[0][0].strip(): int(matches[0][1]), matches[0][2].strip(): int(matches[0][3]), matches[0][4].strip(): int(matches[0][5])}\n",
    "\n",
    "top_three_causes"
   ]
  },
  {
   "cell_type": "code",
   "execution_count": null,
   "metadata": {},
   "outputs": [],
   "source": []
  },
  {
   "cell_type": "code",
   "execution_count": 231,
   "metadata": {},
   "outputs": [],
   "source": [
    "def sort_dict(input_dict):\n",
    "    sorted_dict = {k: v for k, v in sorted(input_dict.items(), key=lambda item: item[1], reverse=True)}\n",
    "    return sorted_dict"
   ]
  },
  {
   "cell_type": "code",
   "execution_count": 232,
   "metadata": {},
   "outputs": [
    {
     "data": {
      "text/plain": [
       "{'b': 3, 'a': 2, 'c': 1}"
      ]
     },
     "execution_count": 232,
     "metadata": {},
     "output_type": "execute_result"
    }
   ],
   "source": [
    "sort_dict({'a':2,'b':3,'c':1})"
   ]
  },
  {
   "cell_type": "code",
   "execution_count": 106,
   "metadata": {},
   "outputs": [
    {
     "data": {
      "text/plain": [
       "{'Sprain / Strain / Tear': 57,\n",
       " 'Superﬁcial wounds': 11,\n",
       " 'Fractures & dislocations': 10}"
      ]
     },
     "execution_count": 106,
     "metadata": {},
     "output_type": "execute_result"
    }
   ],
   "source": [
    "import re\n",
    "\n",
    "\n",
    "\n",
    "\n",
    "\n",
    "\n",
    "pattern =  r'injuries\\n(.*?)(\\d+)%\\n(.*?)(\\d+)%\\n(.*?)(\\d+)%Commonly'\n",
    "\n",
    "\n",
    "\n",
    "matches = re.findall(pattern, o)\n",
    "matches\n",
    "common_types_of_injuries = {matches[0][0].strip(): int(matches[0][1]), matches[0][2].strip(): int(matches[0][3]), matches[0][4].strip(): int(matches[0][5])}\n",
    "common_types_of_injuries\n"
   ]
  },
  {
   "cell_type": "code",
   "execution_count": 3,
   "metadata": {},
   "outputs": [
    {
     "name": "stdout",
     "output_type": "stream",
     "text": [
      "[]\n"
     ]
    }
   ],
   "source": [
    "import re\n",
    "\n",
    "# List of text elements\n",
    "# pages_text = [...]  # Your list of text elements goes here\n",
    "\n",
    "# Initialize an empty list to store sector names\n",
    "sector_names = []\n",
    "\n",
    "# Define the pattern to extract sector names\n",
    "pattern = r'Alberta\\n(.*?) sector'\n",
    "\n",
    "# Iterate over each element in the list\n",
    "for text in m:\n",
    "    # Use regular expression to find the sector name\n",
    "    match = re.search(pattern, text, re.DOTALL)\n",
    "    if match:\n",
    "        sector_name = match.group(1).strip()\n",
    "        sector_names.append(sector_name)\n",
    "\n",
    "# Print the list of sector names\n",
    "print(sector_names)\n"
   ]
  },
  {
   "cell_type": "code",
   "execution_count": 5,
   "metadata": {},
   "outputs": [
    {
     "name": "stdout",
     "output_type": "stream",
     "text": [
      "Number of workers who died: []\n",
      "Number of workers injured: []\n",
      "Injuries by gender: [{'male_percentage': '071', 'female_percentage': '29'}]\n",
      "Age with highest injury claims: []\n",
      "Commonly injured parts of the body: []\n",
      "Top three causes of injuries among workers: []\n",
      "Common types of injuries: []\n"
     ]
    },
    {
     "ename": "NameError",
     "evalue": "name 'injuries_dict' is not defined",
     "output_type": "error",
     "traceback": [
      "\u001b[1;31m---------------------------------------------------------------------------\u001b[0m",
      "\u001b[1;31mNameError\u001b[0m                                 Traceback (most recent call last)",
      "Cell \u001b[1;32mIn[5], line 72\u001b[0m\n\u001b[0;32m     70\u001b[0m \u001b[38;5;28mprint\u001b[39m(\u001b[38;5;124m\"\u001b[39m\u001b[38;5;124mTop three causes of injuries among workers:\u001b[39m\u001b[38;5;124m\"\u001b[39m, top_three_causes)\n\u001b[0;32m     71\u001b[0m \u001b[38;5;28mprint\u001b[39m(\u001b[38;5;124m\"\u001b[39m\u001b[38;5;124mCommon types of injuries:\u001b[39m\u001b[38;5;124m\"\u001b[39m, common_types_of_injuries)\n\u001b[1;32m---> 72\u001b[0m \u001b[38;5;28mprint\u001b[39m(\u001b[38;5;124m\"\u001b[39m\u001b[38;5;124mCommon types of injuries:\u001b[39m\u001b[38;5;124m\"\u001b[39m, \u001b[43minjuries_dict\u001b[49m)\n",
      "\u001b[1;31mNameError\u001b[0m: name 'injuries_dict' is not defined"
     ]
    }
   ],
   "source": [
    "import re\n",
    "\n",
    "\n",
    "# Initialize lists to store extracted information\n",
    "workers_died = []\n",
    "workers_injured = []\n",
    "injuries_by_gender = []\n",
    "age_highest_injury_claims = []\n",
    "commonly_injured_parts = []\n",
    "top_three_causes = []\n",
    "common_types_of_injuries = []\n",
    "\n",
    "# Patterns for extracting information\n",
    "patterns = {\n",
    "    'workers_died': r'(\\d+)(?=\\s*Number\\s+of\\s+workers\\s+who\\s+died)', \n",
    "    'workers_injured': r'(\\d{1,3}(,\\d{3})*)(?=\\n[iI]njury claims by workers in 2020)',\n",
    "    'injuries_by_gender': r'(?P<male>\\d+)%\\n\\s*male\\s*(?P<female>\\d+)%', \n",
    "    'age_highest_injury_claims': r'Age\\s+with\\s+highest\\s+injury\\s+claims\\s*(\\d+)',\n",
    "    'commonly_injured_parts': r'Commonly\\s+injured\\s+parts\\s+of\\s+the\\s+body\\n(.*?)%\\s+male',\n",
    "    'top_three_causes': r'Top three causes of \\ninjuries among workers \\n([\\w\\s]+?)\\s+(\\d+)%\\n([\\w\\s]+?)\\s+(\\d+)%\\n([\\w\\s]+?)\\s+(\\d+)%',\n",
    "    'common_types_of_injuries': r'Common types of injuries\\n(.*?)Commonly injured \\nparts of the body'\n",
    "}\n",
    "\n",
    "# Iterate over each element in the list\n",
    "for text in m:\n",
    "    for key, pattern in patterns.items():\n",
    "        # Use regular expression to find the information\n",
    "        match = re.search(pattern, text, re.DOTALL)\n",
    "        if match:\n",
    "            if key == 'injuries_by_gender':\n",
    "                injuries_by_gender.append({\n",
    "                    'male_percentage': match.group(1),\n",
    "                    'female_percentage': match.group(2)\n",
    "                    # 'details': match.group(1)\n",
    "                })\n",
    "            elif key == 'commonly_injured_parts':\n",
    "                commonly_injured_parts.append(match.group(1))\n",
    "            elif key == 'top_three_causes':\n",
    "                top_three_causes_sub={}\n",
    "                top_three_causes_sub[match.group(1).strip()] = int(match.group(2))\n",
    "                top_three_causes_sub[match.group(3).strip()]=  int(match.group(4))\n",
    "                top_three_causes_sub[match.group(5).strip()] = int(match.group(6))\n",
    "                top_three_causes.append(top_three_causes_sub)\n",
    "            elif key == 'common_types_of_injuries':\n",
    "                injuries_dict ={}\n",
    "                common_injuries = match.group(1).strip().split('\\n')\n",
    "                common_types_of_injuries.append(match.group(1).strip().split('\\n'))\n",
    "                for injury in common_injuries:\n",
    "                    parts = injury.split('  ')\n",
    "                    if len(parts) == 2:\n",
    "                        name, percentage = parts\n",
    "                        injuries_dict[name.strip()] = int(percentage.strip('%'))\n",
    "            else:\n",
    "                data = match.group(1)\n",
    "                if '%' in data:\n",
    "                    data = data.split('%')[0]\n",
    "                data = data.strip()\n",
    "                if data.isnumeric():\n",
    "                    data = int(data)\n",
    "                globals()[key].append(data)\n",
    "\n",
    "workers_injured_int = [int(value.replace(',', '')) if isinstance(value, str) else value for value in workers_injured]\n",
    "\n",
    "# Print the extracted information\n",
    "print(\"Number of workers who died:\", workers_died)\n",
    "print(\"Number of workers injured:\", workers_injured_int)\n",
    "print(\"Injuries by gender:\", injuries_by_gender)\n",
    "print(\"Age with highest injury claims:\", age_highest_injury_claims)\n",
    "print(\"Commonly injured parts of the body:\", commonly_injured_parts)\n",
    "print(\"Top three causes of injuries among workers:\", top_three_causes)\n",
    "print(\"Common types of injuries:\", common_types_of_injuries)\n",
    "print(\"Common types of injuries:\", injuries_dict)"
   ]
  },
  {
   "cell_type": "code",
   "execution_count": 17,
   "metadata": {},
   "outputs": [
    {
     "data": {
      "text/html": [
       "<div>\n",
       "<style scoped>\n",
       "    .dataframe tbody tr th:only-of-type {\n",
       "        vertical-align: middle;\n",
       "    }\n",
       "\n",
       "    .dataframe tbody tr th {\n",
       "        vertical-align: top;\n",
       "    }\n",
       "\n",
       "    .dataframe thead th {\n",
       "        text-align: right;\n",
       "    }\n",
       "</style>\n",
       "<table border=\"1\" class=\"dataframe\">\n",
       "  <thead>\n",
       "    <tr style=\"text-align: right;\">\n",
       "      <th></th>\n",
       "      <th>no_of_deaths</th>\n",
       "      <th>no_injured_workers</th>\n",
       "      <th>injuries_by_gender</th>\n",
       "      <th>top_three_causes</th>\n",
       "    </tr>\n",
       "    <tr>\n",
       "      <th>sector</th>\n",
       "      <th></th>\n",
       "      <th></th>\n",
       "      <th></th>\n",
       "      <th></th>\n",
       "    </tr>\n",
       "  </thead>\n",
       "  <tbody>\n",
       "    <tr>\n",
       "      <th>Agriculture &amp; forestry</th>\n",
       "      <td>7</td>\n",
       "      <td>714</td>\n",
       "      <td>{'male_percentage': '70', 'female_percentage':...</td>\n",
       "      <td>{'Falls': 17, 'Overexertion': 13, 'Bodily reac...</td>\n",
       "    </tr>\n",
       "    <tr>\n",
       "      <th>Business &amp; professional services</th>\n",
       "      <td>3</td>\n",
       "      <td>3913</td>\n",
       "      <td>{'male_percentage': '46', 'female_percentage':...</td>\n",
       "      <td>{'Falls': 21, 'Overexertion': 15, 'Bodily reac...</td>\n",
       "    </tr>\n",
       "    <tr>\n",
       "      <th>Construction &amp; construction trades</th>\n",
       "      <td>52</td>\n",
       "      <td>6364</td>\n",
       "      <td>{'male_percentage': '92', 'female_percentage':...</td>\n",
       "      <td>{'Falls': 20, 'Overexertion': 17, 'Bodily reac...</td>\n",
       "    </tr>\n",
       "    <tr>\n",
       "      <th>Provincial &amp; municipal government, education &amp; health</th>\n",
       "      <td>18</td>\n",
       "      <td>13624</td>\n",
       "      <td>{'male_percentage': '30', 'female_percentage':...</td>\n",
       "      <td>{'Exposure to harmful substances': 29, 'Overex...</td>\n",
       "    </tr>\n",
       "    <tr>\n",
       "      <th>Manufacturing, packaging &amp; processing</th>\n",
       "      <td>19</td>\n",
       "      <td>5618</td>\n",
       "      <td>{'male_percentage': '81', 'female_percentage':...</td>\n",
       "      <td>{'Exposure to harmful substances': 26, 'Overex...</td>\n",
       "    </tr>\n",
       "    <tr>\n",
       "      <th>Mining &amp; petroleum development</th>\n",
       "      <td>7</td>\n",
       "      <td>1460</td>\n",
       "      <td>{'male_percentage': '91', 'female_percentage':...</td>\n",
       "      <td>{'Exposure to harmful substances': 22, 'Falls'...</td>\n",
       "    </tr>\n",
       "    <tr>\n",
       "      <th>Transportation, communication &amp; utilities</th>\n",
       "      <td>16</td>\n",
       "      <td>3596</td>\n",
       "      <td>{'male_percentage': '84', 'female_percentage':...</td>\n",
       "      <td>{'Falls': 21, 'Overexertion': 21, 'Bodily reac...</td>\n",
       "    </tr>\n",
       "    <tr>\n",
       "      <th>Wholesale and retail</th>\n",
       "      <td>8</td>\n",
       "      <td>9034</td>\n",
       "      <td>{'male_percentage': '60', 'female_percentage':...</td>\n",
       "      <td>{'Overexertion': 26, 'Falls': 15, 'Bodily reac...</td>\n",
       "    </tr>\n",
       "  </tbody>\n",
       "</table>\n",
       "</div>"
      ],
      "text/plain": [
       "                                                    no_of_deaths  \\\n",
       "sector                                                             \n",
       "Agriculture & forestry                                         7   \n",
       "Business & professional services                               3   \n",
       "Construction & construction trades                            52   \n",
       "Provincial & municipal government, education & ...            18   \n",
       "Manufacturing, packaging & processing                         19   \n",
       "Mining & petroleum development                                 7   \n",
       "Transportation, communication & utilities                     16   \n",
       "Wholesale and retail                                           8   \n",
       "\n",
       "                                                    no_injured_workers  \\\n",
       "sector                                                                   \n",
       "Agriculture & forestry                                             714   \n",
       "Business & professional services                                  3913   \n",
       "Construction & construction trades                                6364   \n",
       "Provincial & municipal government, education & ...               13624   \n",
       "Manufacturing, packaging & processing                             5618   \n",
       "Mining & petroleum development                                    1460   \n",
       "Transportation, communication & utilities                         3596   \n",
       "Wholesale and retail                                              9034   \n",
       "\n",
       "                                                                                   injuries_by_gender  \\\n",
       "sector                                                                                                  \n",
       "Agriculture & forestry                              {'male_percentage': '70', 'female_percentage':...   \n",
       "Business & professional services                    {'male_percentage': '46', 'female_percentage':...   \n",
       "Construction & construction trades                  {'male_percentage': '92', 'female_percentage':...   \n",
       "Provincial & municipal government, education & ...  {'male_percentage': '30', 'female_percentage':...   \n",
       "Manufacturing, packaging & processing               {'male_percentage': '81', 'female_percentage':...   \n",
       "Mining & petroleum development                      {'male_percentage': '91', 'female_percentage':...   \n",
       "Transportation, communication & utilities           {'male_percentage': '84', 'female_percentage':...   \n",
       "Wholesale and retail                                {'male_percentage': '60', 'female_percentage':...   \n",
       "\n",
       "                                                                                     top_three_causes  \n",
       "sector                                                                                                 \n",
       "Agriculture & forestry                              {'Falls': 17, 'Overexertion': 13, 'Bodily reac...  \n",
       "Business & professional services                    {'Falls': 21, 'Overexertion': 15, 'Bodily reac...  \n",
       "Construction & construction trades                  {'Falls': 20, 'Overexertion': 17, 'Bodily reac...  \n",
       "Provincial & municipal government, education & ...  {'Exposure to harmful substances': 29, 'Overex...  \n",
       "Manufacturing, packaging & processing               {'Exposure to harmful substances': 26, 'Overex...  \n",
       "Mining & petroleum development                      {'Exposure to harmful substances': 22, 'Falls'...  \n",
       "Transportation, communication & utilities           {'Falls': 21, 'Overexertion': 21, 'Bodily reac...  \n",
       "Wholesale and retail                                {'Overexertion': 26, 'Falls': 15, 'Bodily reac...  "
      ]
     },
     "execution_count": 17,
     "metadata": {},
     "output_type": "execute_result"
    }
   ],
   "source": [
    "import pandas as pd\n",
    "df= pd.DataFrame({'sector':sector_names, 'no_of_deaths': workers_died[1:], 'no_injured_workers': workers_injured_int[1:], 'injuries_by_gender': injuries_by_gender, 'top_three_causes': top_three_causes})\n",
    "df.set_index('sector')\n"
   ]
  },
  {
   "cell_type": "code",
   "execution_count": 210,
   "metadata": {},
   "outputs": [],
   "source": [
    "sector_names=['Agriculture & forestry', 'Business & professional services', 'Construction & construction trades', 'Provincial & municipal government, education & health', 'Manufacturing, packaging & processing', 'Mining & petroleum development', 'Transportation, communication & utilities', 'Wholesale and retail']\n"
   ]
  },
  {
   "cell_type": "code",
   "execution_count": 211,
   "metadata": {},
   "outputs": [
    {
     "data": {
      "text/plain": [
       "['agric', 'busin', 'const', 'provi', 'manuf', 'minin', 'trans', 'whole']"
      ]
     },
     "execution_count": 211,
     "metadata": {},
     "output_type": "execute_result"
    }
   ],
   "source": [
    "file_names= [sector_name[0:5].lower() for sector_name in sector_names]\n",
    "file_names"
   ]
  },
  {
   "cell_type": "code",
   "execution_count": 161,
   "metadata": {},
   "outputs": [],
   "source": [
    "def find_age_groups(text):\n",
    "    # Define the regular expression patterns for the age groups\n",
    "    pattern = r'\\b\\d+-\\d+\\b|\\b\\d+\\+\\b'\n",
    "    \n",
    "    # Find all matches in the text\n",
    "    age_groups = re.findall(pattern, text)\n",
    "    \n",
    "    return age_groups"
   ]
  },
  {
   "cell_type": "code",
   "execution_count": 164,
   "metadata": {},
   "outputs": [
    {
     "data": {
      "text/plain": [
       "['25-34', '15-24']"
      ]
     },
     "execution_count": 164,
     "metadata": {},
     "output_type": "execute_result"
    }
   ],
   "source": [
    "find_age_groups(o)"
   ]
  },
  {
   "cell_type": "code",
   "execution_count": null,
   "metadata": {},
   "outputs": [],
   "source": [
    "#find agegroupPercent"
   ]
  },
  {
   "cell_type": "code",
   "execution_count": 165,
   "metadata": {},
   "outputs": [
    {
     "data": {
      "text/plain": [
       "['25-34']"
      ]
     },
     "execution_count": 165,
     "metadata": {},
     "output_type": "execute_result"
    }
   ],
   "source": [
    "find_age_groups(file_text)"
   ]
  },
  {
   "cell_type": "markdown",
   "metadata": {},
   "source": [
    "# Start here"
   ]
  },
  {
   "cell_type": "code",
   "execution_count": 455,
   "metadata": {},
   "outputs": [
    {
     "data": {
      "text/html": [
       "<div>\n",
       "<style scoped>\n",
       "    .dataframe tbody tr th:only-of-type {\n",
       "        vertical-align: middle;\n",
       "    }\n",
       "\n",
       "    .dataframe tbody tr th {\n",
       "        vertical-align: top;\n",
       "    }\n",
       "\n",
       "    .dataframe thead th {\n",
       "        text-align: right;\n",
       "    }\n",
       "</style>\n",
       "<table border=\"1\" class=\"dataframe\">\n",
       "  <thead>\n",
       "    <tr style=\"text-align: right;\">\n",
       "      <th></th>\n",
       "      <th>Sector</th>\n",
       "      <th>no_dead_workers</th>\n",
       "      <th>no_injured_workers</th>\n",
       "      <th>injuries_by_gender</th>\n",
       "      <th>age_with_highest_injury_claims</th>\n",
       "      <th>commonly_injured_parts</th>\n",
       "      <th>top_three_causes</th>\n",
       "      <th>common_types of_injuries</th>\n",
       "    </tr>\n",
       "  </thead>\n",
       "  <tbody>\n",
       "    <tr>\n",
       "      <th>0</th>\n",
       "      <td>Agriculture &amp; forestry</td>\n",
       "      <td>2</td>\n",
       "      <td>659</td>\n",
       "      <td>{'male': 75, 'female': 25}</td>\n",
       "      <td>{'15-24': 26}</td>\n",
       "      <td>{'Legs': 14, 'Backincluding spine,spinal cord'...</td>\n",
       "      <td>{'Falls': 22, 'Struck by object': 14, 'Bodily ...</td>\n",
       "      <td>{'Sprains/ Strains/ Tears': 36, 'Fractures/ Di...</td>\n",
       "    </tr>\n",
       "    <tr>\n",
       "      <th>1</th>\n",
       "      <td>Business &amp; professional services</td>\n",
       "      <td>4</td>\n",
       "      <td>5947</td>\n",
       "      <td>{'male': 45, 'female': 55}</td>\n",
       "      <td>{'25-34': 25, '15-24': 25}</td>\n",
       "      <td>{'Backincluding spine,spinal cord': 18, 'Wrist...</td>\n",
       "      <td>{'Falls': 22, 'Overexertion': 16, 'Bodily reac...</td>\n",
       "      <td>{'Sprains/ Strains/ Tears': 47, 'Open wounds':...</td>\n",
       "    </tr>\n",
       "    <tr>\n",
       "      <th>2</th>\n",
       "      <td>Construction &amp; construction trades</td>\n",
       "      <td>43</td>\n",
       "      <td>9309</td>\n",
       "      <td>{'male': 91, 'female': 9}</td>\n",
       "      <td>{'25-34': 31}</td>\n",
       "      <td>{'Backincluding spine,spinal cord': 20, 'Leg(s...</td>\n",
       "      <td>{'Falls': 21, 'Overexertion': 18, 'Struck by o...</td>\n",
       "      <td>{'Sprains/ Strains/ Tears': 49, 'Open wounds':...</td>\n",
       "    </tr>\n",
       "    <tr>\n",
       "      <th>3</th>\n",
       "      <td>Provincial &amp; municipal government, education &amp;...</td>\n",
       "      <td>18</td>\n",
       "      <td>11953</td>\n",
       "      <td>{'male': 33, 'female': 67}</td>\n",
       "      <td>{'35-44': 24, '45-54': 24}</td>\n",
       "      <td>{'Backincluding spine,spinal cord': 23, 'Leg(s...</td>\n",
       "      <td>{'Overexertion': 24, 'Falls': 19, 'Bodily reac...</td>\n",
       "      <td>{'Sprains / Strains / Tears': 57, 'Superﬁcial ...</td>\n",
       "    </tr>\n",
       "    <tr>\n",
       "      <th>4</th>\n",
       "      <td>Manufacturing, packaging &amp; processing</td>\n",
       "      <td>23</td>\n",
       "      <td>5859</td>\n",
       "      <td>{'male': 83, 'female': 17}</td>\n",
       "      <td>{'35-44': 25}</td>\n",
       "      <td>{'Backincluding spine,spinal cord': 19, 'Finge...</td>\n",
       "      <td>{'Overexertion': 21, 'Struck by object': 15, '...</td>\n",
       "      <td>{'Sprains/ Strains/ Tears': 47, 'Open wounds':...</td>\n",
       "    </tr>\n",
       "    <tr>\n",
       "      <th>5</th>\n",
       "      <td>Mining &amp; petroleum development</td>\n",
       "      <td>9</td>\n",
       "      <td>1865</td>\n",
       "      <td>{'male': 92, 'female': 8}</td>\n",
       "      <td>{'25-34': 30}</td>\n",
       "      <td>{'Backincluding spine,spinal cord': 17, 'Leg(s...</td>\n",
       "      <td>{'Falls': 18, 'Bodily reaction': 17, 'Overexer...</td>\n",
       "      <td>{'Sprains/ Strains/ Tears': 49, 'Fractures/ Di...</td>\n",
       "    </tr>\n",
       "    <tr>\n",
       "      <th>6</th>\n",
       "      <td>Transportation, communication &amp; utilities</td>\n",
       "      <td>19</td>\n",
       "      <td>4700</td>\n",
       "      <td>{'male': 83, 'female': 17}</td>\n",
       "      <td>{'35-44': 23}</td>\n",
       "      <td>{'Backincluding spine,spinal cord': 24, 'Leg(s...</td>\n",
       "      <td>{'Falls': 23, 'Overexertion': 21, 'Bodily reac...</td>\n",
       "      <td>{'Sprains/ Strains/ Tears': 57, 'Super/f_icial...</td>\n",
       "    </tr>\n",
       "    <tr>\n",
       "      <th>7</th>\n",
       "      <td>Wholesale and retail</td>\n",
       "      <td>8</td>\n",
       "      <td>10217</td>\n",
       "      <td>{'male': 62, 'female': 38}</td>\n",
       "      <td>{'25-34': 22}</td>\n",
       "      <td>{'Backincluding spine,spinal cord': 24, 'Wrist...</td>\n",
       "      <td>{'Overexertion': 27, 'Falls': 17, 'Struck by o...</td>\n",
       "      <td>{'Sprains/ Strains/ Tears': 54, 'Superﬁcial wo...</td>\n",
       "    </tr>\n",
       "  </tbody>\n",
       "</table>\n",
       "</div>"
      ],
      "text/plain": [
       "                                              Sector  no_dead_workers  \\\n",
       "0                             Agriculture & forestry                2   \n",
       "1                   Business & professional services                4   \n",
       "2                 Construction & construction trades               43   \n",
       "3  Provincial & municipal government, education &...               18   \n",
       "4              Manufacturing, packaging & processing               23   \n",
       "5                     Mining & petroleum development                9   \n",
       "6          Transportation, communication & utilities               19   \n",
       "7                               Wholesale and retail                8   \n",
       "\n",
       "   no_injured_workers          injuries_by_gender  \\\n",
       "0                 659  {'male': 75, 'female': 25}   \n",
       "1                5947  {'male': 45, 'female': 55}   \n",
       "2                9309   {'male': 91, 'female': 9}   \n",
       "3               11953  {'male': 33, 'female': 67}   \n",
       "4                5859  {'male': 83, 'female': 17}   \n",
       "5                1865   {'male': 92, 'female': 8}   \n",
       "6                4700  {'male': 83, 'female': 17}   \n",
       "7               10217  {'male': 62, 'female': 38}   \n",
       "\n",
       "  age_with_highest_injury_claims  \\\n",
       "0                  {'15-24': 26}   \n",
       "1     {'25-34': 25, '15-24': 25}   \n",
       "2                  {'25-34': 31}   \n",
       "3     {'35-44': 24, '45-54': 24}   \n",
       "4                  {'35-44': 25}   \n",
       "5                  {'25-34': 30}   \n",
       "6                  {'35-44': 23}   \n",
       "7                  {'25-34': 22}   \n",
       "\n",
       "                              commonly_injured_parts  \\\n",
       "0  {'Legs': 14, 'Backincluding spine,spinal cord'...   \n",
       "1  {'Backincluding spine,spinal cord': 18, 'Wrist...   \n",
       "2  {'Backincluding spine,spinal cord': 20, 'Leg(s...   \n",
       "3  {'Backincluding spine,spinal cord': 23, 'Leg(s...   \n",
       "4  {'Backincluding spine,spinal cord': 19, 'Finge...   \n",
       "5  {'Backincluding spine,spinal cord': 17, 'Leg(s...   \n",
       "6  {'Backincluding spine,spinal cord': 24, 'Leg(s...   \n",
       "7  {'Backincluding spine,spinal cord': 24, 'Wrist...   \n",
       "\n",
       "                                    top_three_causes  \\\n",
       "0  {'Falls': 22, 'Struck by object': 14, 'Bodily ...   \n",
       "1  {'Falls': 22, 'Overexertion': 16, 'Bodily reac...   \n",
       "2  {'Falls': 21, 'Overexertion': 18, 'Struck by o...   \n",
       "3  {'Overexertion': 24, 'Falls': 19, 'Bodily reac...   \n",
       "4  {'Overexertion': 21, 'Struck by object': 15, '...   \n",
       "5  {'Falls': 18, 'Bodily reaction': 17, 'Overexer...   \n",
       "6  {'Falls': 23, 'Overexertion': 21, 'Bodily reac...   \n",
       "7  {'Overexertion': 27, 'Falls': 17, 'Struck by o...   \n",
       "\n",
       "                            common_types of_injuries  \n",
       "0  {'Sprains/ Strains/ Tears': 36, 'Fractures/ Di...  \n",
       "1  {'Sprains/ Strains/ Tears': 47, 'Open wounds':...  \n",
       "2  {'Sprains/ Strains/ Tears': 49, 'Open wounds':...  \n",
       "3  {'Sprains / Strains / Tears': 57, 'Superﬁcial ...  \n",
       "4  {'Sprains/ Strains/ Tears': 47, 'Open wounds':...  \n",
       "5  {'Sprains/ Strains/ Tears': 49, 'Fractures/ Di...  \n",
       "6  {'Sprains/ Strains/ Tears': 57, 'Super/f_icial...  \n",
       "7  {'Sprains/ Strains/ Tears': 54, 'Superﬁcial wo...  "
      ]
     },
     "execution_count": 455,
     "metadata": {},
     "output_type": "execute_result"
    }
   ],
   "source": [
    "import re\n",
    "import pandas as pd\n",
    "from PyPDF2 import PdfReader\n",
    "\n",
    "sector_names=['Agriculture & forestry', 'Business & professional services', 'Construction & construction trades', 'Provincial & municipal government, education & health', 'Manufacturing, packaging & processing', 'Mining & petroleum development', 'Transportation, communication & utilities', 'Wholesale and retail']\n",
    "\n",
    "def nos_btw_21_and_32(string_list):\n",
    "    result = []\n",
    "    for string in string_list:\n",
    "        numbers = re.findall(r'\\b(?:2[1-9]|[3][0-2])\\b', string)\n",
    "        result.extend(map(int, numbers))\n",
    "    return result\n",
    "\n",
    "def extract_age_percent(file_text):\n",
    "    try:\n",
    "        agegroup = re.findall(r'\\s?(\\d+-\\d+)', file_text)\n",
    "        percent = re.findall(r'(\\d+)%', re.findall(r'were injured\\n?([\\s\\S]+?)All numbers', file_text)[0])\n",
    "        percent=nos_btw_21_and_32(percent)\n",
    "    \n",
    "        result = {age: per for age, per in zip(agegroup, percent)}\n",
    "    except Exception as e:\n",
    "        result = None\n",
    "    return result\n",
    "\n",
    "def get_parts(matches):\n",
    "    return {\n",
    "            matches[0][0].strip().replace('\\n', ''): int(matches[0][1]),\n",
    "            matches[0][2].strip().replace('\\n', ''): int(matches[0][3]),\n",
    "            matches[0][4].strip().replace('\\n', ''): int(matches[0][5])\n",
    "        }\n",
    "\n",
    "\n",
    "def extract_common_injuries(file_text,sector_abb):\n",
    "    commonly_injured_parts = None\n",
    "\n",
    "    matches = re.findall(r'were injured\\n(.*?\\n.*?\\n.*?\\n)(\\d+)%\\n(.*?)\\n(\\d+)%\\n(.*?\\n.*?\\n)(\\d+)%', file_text)\n",
    "    if matches and len(matches[0]) == 6:\n",
    "        commonly_injured_parts = get_parts(matches)\n",
    "    else:\n",
    "        matches = re.findall(r'injured\\n(.*?\\n?.*?)\\n(\\d+)%(.*?\\n.*?\\n?.*?)\\n(\\d+)%', file_text)\n",
    "        matches.extend(re.findall(r'fatality.(.*?\\n.*?\\n.*?)\\n(\\d+)%', file_text))\n",
    "        matches= [sum(matches,())]\n",
    "        if matches and len(matches[0]) == 6 and sector_abb.lower() !='trans':\n",
    "            commonly_injured_parts = get_parts(matches)\n",
    "        else:\n",
    "            matches = re.findall(r'were injured\\n(.*?\\n.*?\\n.*?\\n)(\\d+)%\\n', file_text)\n",
    "            matches.extend(re.findall(r'fatality.(.*?)\\n(\\d+)%(.*?\\n.*?\\n.*?)\\n(\\d+)%', file_text))\n",
    "            matches= [sum(matches,())]\n",
    "            if matches and len(matches[0]) == 6:\n",
    "                commonly_injured_parts = get_parts(matches)\n",
    "            else:\n",
    "                matches = re.findall(r'injured\\n\\d+?%(.*?\\n.*?\\n.*?)\\n(\\d+)%(.*?\\n.*?)\\n(\\d+)%\\n', file_text)\n",
    "                matches.extend(re.findall(r'fatality.(.*?\\n.*?\\n.*?)\\n(\\d+)%', file_text))\n",
    "                matches= [sum(matches,())]\n",
    "                if matches and len(matches[0]) == 6:\n",
    "                    commonly_injured_parts = get_parts(matches)\n",
    "                else:\n",
    "                    matches = re.findall(r'injured(.*?\\n.*?)\\n(\\d+)%\\n(.*?\\n.*?\\n.*?)\\n(\\d+)%', file_text)\n",
    "                    matches.extend(re.findall(r'fatality.(.*?\\n.*?\\n.*?)\\n(\\d+)%', file_text))\n",
    "                    matches= [sum(matches,())]\n",
    "                    if matches and len(matches[0]) == 6:\n",
    "                        commonly_injured_parts = get_parts(matches)\n",
    "                    else:\n",
    "                        matches = re.findall(r'were injured\\n(.*?)\\n(\\d+)%\\n', file_text)\n",
    "                        matches.extend(re.findall(r'fatality.(.*?\\n.*?\\n.*?)\\n(\\d+)%(.*?\\n.*?\\n.*?)\\n(\\d+)%', file_text))\n",
    "                        matches= [sum(matches,())]\n",
    "                        if matches and len(matches[0]) == 6:\n",
    "                            commonly_injured_parts = get_parts(matches)\n",
    "                        else:\n",
    "                            matches = re.findall(r'were injured\\n\\d+%(.*?\\n.*?\\n.*?)\\n(\\d+)%\\n', file_text)\n",
    "                            matches.extend(re.findall(r'fatality.(.*?\\n.*?)\\n(\\d+)%\\n(.*?\\n.*?\\n.*?)\\n(\\d+)%', file_text))\n",
    "                            matches= [sum(matches,())]\n",
    "                            if matches and len(matches[0]) == 6:\n",
    "                                step = 7\n",
    "                                matches = [sum(matches, ())]\n",
    "                                commonly_injured_parts = get_parts(matches)\n",
    "\n",
    "\n",
    "    return commonly_injured_parts\n",
    "\n",
    "\n",
    "def extract_text_from_pdf(pdf_path):\n",
    "    text = \"\"\n",
    "    with open(pdf_path, 'rb') as file:\n",
    "        reader = PdfReader(file)\n",
    "        for page in reader.pages:\n",
    "            text += page.extract_text()\n",
    "    return text\n",
    "\n",
    "def sort_dict(input_dict):\n",
    "    sorted_dict = {k: v for k, v in sorted(input_dict.items(), key=lambda item: item[1], reverse=True)}\n",
    "    return sorted_dict\n",
    "\n",
    "def find_age_groups(text):\n",
    "    # Define the regular expression patterns for the age groups\n",
    "    pattern = r'\\b\\d+-\\d+\\b|\\b\\d+\\+\\b'\n",
    "    \n",
    "    # Find all matches in the text\n",
    "    age_groups = re.findall(pattern, text)\n",
    "    \n",
    "    return age_groups\n",
    "\n",
    "def extract_age_group_percentages(text):\n",
    "    age_groups = find_age_groups(text)\n",
    "    age_group_percent = {}\n",
    "\n",
    "    if len(age_groups) == 1:\n",
    "        # First pattern to search for percentage\n",
    "        match = re.search(r'%\\n{0,1}(\\d{2})%\\n\\d{1,2}%\\n\\s{1,6}male', text)\n",
    "        if not match:\n",
    "            # Second pattern if no value is found\n",
    "            match = re.search(r'(\\d{1,2})%.*?\\n\\d{1,2}%.*?\\n{0,1}\\d{2}%\\n\\d{1,2}%\\n\\s{1,6}male', text)\n",
    "        if not match:\n",
    "            # Third pattern if still no value is found\n",
    "            match = re.search(r'(\\d*)%Injuries by gender', text)\n",
    "\n",
    "        if match:\n",
    "            age_group_percent[age_groups[0]] = match.group(1)\n",
    "\n",
    "    elif len(age_groups) == 2:\n",
    "        # Pattern to search for percentages for two age groups\n",
    "        match = re.search(r'\\n(\\d{1,2})%.*?\\n\\d{1,2}%.*?\\n\\d{1,2}%\\n(\\d{1,2})%\\d{1,2}-\\d{1,2}\\nyears\\n\\d{1,2}All fatality', text)\n",
    "        \n",
    "        if match:\n",
    "            age_group_percent[age_groups[0]] = match.group(1)\n",
    "            age_group_percent[age_groups[1]] = match.group(2)\n",
    "\n",
    "    return age_group_percent\n",
    "\n",
    "\n",
    "# Initialize lists to store data from each file\n",
    "data = []\n",
    "\n",
    "# Iterate over file names\n",
    "for file in sector_names:\n",
    "    # Extract text from PDF\n",
    "    file_text = extract_text_from_pdf(file[0:5] + \"_2018.pdf\")\n",
    "    \n",
    "    # Extract workers died\n",
    "    match = re.search(r'Alberta\\.(\\d+)\\nNumber of \\nworkers \\nwho died1', file_text)\n",
    "    workers_died = int(match.group(1)) if match else None\n",
    "    \n",
    "    # Extract workers injured\n",
    "    match = re.search(r'\\n\\d{1,2}Workplace incidents(.*?)\\n[Ii]njury', file_text)\n",
    "    workers_injured = int(match.group(1).replace(',', '')) if match else None\n",
    "    \n",
    "    # Extract injuries by gender\n",
    "    match = re.search(r'(\\d{1,2})%\\n?\\s{1,6}male\\s{0,1}(\\d{1,3})%\\n\\s{1,4}female', file_text)\n",
    "    if match:\n",
    "        male_percentage = int(match.group(1))\n",
    "        female_percentage = int(match.group(2))\n",
    "        injuries_by_gender = {'male': male_percentage, 'female': female_percentage}\n",
    "    else:\n",
    "        injuries_by_gender = None\n",
    "    \n",
    "    # Extract age with highest injury claims  \n",
    "    \n",
    "\n",
    "    age_highest_injury_claims = extract_age_percent(file_text) \n",
    "    \n",
    "    # Extract commonly injured parts\n",
    "    commonly_injured_parts=extract_common_injuries(file_text, sector_abb=file[0:5])\n",
    "    commonly_injured_parts= sort_dict(commonly_injured_parts)\n",
    "    \n",
    "    # Extract top three causes of injuries\n",
    "    pattern = r'workers\\s\\n(.*?)\\s{1,3}(\\d+)%\\n(.*?)\\s(\\d+)%\\n(.*?)\\s{1,5}(\\d+)%Common'\n",
    "    matches = re.findall(pattern, file_text)\n",
    "    \n",
    "    if matches:\n",
    "        top_three_causes = {\n",
    "            matches[0][0].strip(): int(matches[0][1]),\n",
    "            matches[0][2].strip(): int(matches[0][3]),\n",
    "            matches[0][4].strip(): int(matches[0][5])\n",
    "        } if matches else None\n",
    "      \n",
    "    \n",
    "    # Extract common types of injuries\n",
    "    pattern = r'injuries\\n(.*?\\n?.*?)(\\d+)%\\n(.*?\\n?.*?)(\\d+)%\\n(.*?\\n?.*?)(\\d+)%\\s?Commonly'\n",
    "    matches = re.findall(pattern, file_text)\n",
    "    if matches:\n",
    "        common_types_of_injuries = {\n",
    "            matches[0][0].strip(): int(matches[0][1]),\n",
    "            matches[0][2].strip(): int(matches[0][3]),\n",
    "            matches[0][4].strip(): int(matches[0][5])\n",
    "        }\n",
    "    else: \n",
    "        matches = re.findall(r'(\\d+)%\\n(\\d+)%Common types of injuries \\n(.*?)\\s{3}\\n(.*?)  \\n(.*?)\\s(\\d+)%Commonly', file_text)\n",
    "        if matches:\n",
    "            common_types_of_injuries = {\n",
    "                matches[0][2].strip(): int(matches[0][0]),\n",
    "                matches[0][3].strip(): int(matches[0][1]),  \n",
    "                matches[0][4].strip(): int(matches[0][5])\n",
    "            }\n",
    "        else:        \n",
    "            common_types_of_injuries = None\n",
    "    # Append extracted data to the list\n",
    "    data.append({\n",
    "        'Sector': file,\n",
    "        'no_dead_workers': workers_died,\n",
    "        'no_injured_workers': workers_injured,\n",
    "        'injuries_by_gender': injuries_by_gender,\n",
    "        'age_with_highest_injury_claims': age_highest_injury_claims,\n",
    "        'commonly_injured_parts': commonly_injured_parts,\n",
    "        'top_three_causes': top_three_causes,\n",
    "        'common_types of_injuries': common_types_of_injuries\n",
    "    })\n",
    "\n",
    "# Create a DataFrame from the collected data\n",
    "df = pd.DataFrame(data)\n",
    "\n",
    "# Display the DataFrame\n",
    "df\n"
   ]
  },
  {
   "cell_type": "code",
   "execution_count": 243,
   "metadata": {},
   "outputs": [
    {
     "data": {
      "image/png": "[encoded data removed]",
      "text/plain": [
       "<Figure size 1000x600 with 1 Axes>"
      ]
     },
     "metadata": {},
     "output_type": "display_data"
    }
   ],
   "source": [
    "import pandas as pd\n",
    "import matplotlib.pyplot as plt\n",
    "\n",
    "df_sort_dead = df.sort_values(by='no_dead_workers', ascending=False)\n",
    "\n",
    "# Calculate average number of workers who died\n",
    "average_dead_workers = df['no_dead_workers'].mean()\n",
    "\n",
    "# Plotting the bar chart\n",
    "plt.figure(figsize=(10, 6))\n",
    "plt.bar(df_sort_dead['Sector'], df_sort_dead['no_dead_workers'], label='Number of workers who died')\n",
    "plt.axhline(y=average_dead_workers, color='r', linestyle='-', label='Average number of workers who died')\n",
    "\n",
    "# Adding labels and title\n",
    "plt.xlabel('Sector')\n",
    "plt.ylabel('Number of workers who died')\n",
    "plt.title('Number of Workers Who Died by Sector')\n",
    "plt.xticks(rotation=45, ha='right')\n",
    "plt.legend()\n",
    "\n",
    "# Displaying the plot\n",
    "plt.tight_layout()\n",
    "plt.show()\n"
   ]
  },
  {
   "cell_type": "code",
   "execution_count": 244,
   "metadata": {},
   "outputs": [
    {
     "name": "stderr",
     "output_type": "stream",
     "text": [
      "c:\\Users\\towme\\AppData\\Local\\Programs\\Python\\Python312\\Lib\\site-packages\\plotly\\express\\_core.py:2065: FutureWarning:\n",
      "\n",
      "When grouping with a length-1 list-like, you will need to pass a length-1 tuple to get_group in a future version of pandas. Pass `(name,)` instead of `name` to silence this warning.\n",
      "\n"
     ]
    },
    {
     "data": {
      "application/vnd.plotly.v1+json": {
       "config": {
        "plotlyServerURL": "https://plotly.com"
       },
       "data": [
        {
         "alignmentgroup": "True",
         "hovertemplate": "<b>%{hovertext}</b><br><br>Number of workers who died=%{y}<extra></extra>",
         "hovertext": [
          "Construction & construction trades"
         ],
         "legendgroup": "Construction & construction trades",
         "marker": {
          "color": "#636efa",
          "pattern": {
           "shape": ""
          }
         },
         "name": "Construction & construction trades",
         "offsetgroup": "Construction & construction trades",
         "orientation": "v",
         "showlegend": true,
         "textposition": "auto",
         "type": "bar",
         "x": [
          "Construction & construction trades"
         ],
         "xaxis": "x",
         "y": [
          47
         ],
         "yaxis": "y"
        },
        {
         "alignmentgroup": "True",
         "hovertemplate": "<b>%{hovertext}</b><br><br>Number of workers who died=%{y}<extra></extra>",
         "hovertext": [
          "Provincial & municipal government, education & health"
         ],
         "legendgroup": "Provincial & municipal government, education & health",
         "marker": {
          "color": "#EF553B",
          "pattern": {
           "shape": ""
          }
         },
         "name": "Provincial & municipal government, education & health",
         "offsetgroup": "Provincial & municipal government, education & health",
         "orientation": "v",
         "showlegend": true,
         "textposition": "auto",
         "type": "bar",
         "x": [
          "Provincial & municipal government, education & health"
         ],
         "xaxis": "x",
         "y": [
          19
         ],
         "yaxis": "y"
        },
        {
         "alignmentgroup": "True",
         "hovertemplate": "<b>%{hovertext}</b><br><br>Number of workers who died=%{y}<extra></extra>",
         "hovertext": [
          "Manufacturing, packaging & processing"
         ],
         "legendgroup": "Manufacturing, packaging & processing",
         "marker": {
          "color": "#00cc96",
          "pattern": {
           "shape": ""
          }
         },
         "name": "Manufacturing, packaging & processing",
         "offsetgroup": "Manufacturing, packaging & processing",
         "orientation": "v",
         "showlegend": true,
         "textposition": "auto",
         "type": "bar",
         "x": [
          "Manufacturing, packaging & processing"
         ],
         "xaxis": "x",
         "y": [
          19
         ],
         "yaxis": "y"
        },
        {
         "alignmentgroup": "True",
         "hovertemplate": "<b>%{hovertext}</b><br><br>Number of workers who died=%{y}<extra></extra>",
         "hovertext": [
          "Transportation, communication & utilities"
         ],
         "legendgroup": "Transportation, communication & utilities",
         "marker": {
          "color": "#ab63fa",
          "pattern": {
           "shape": ""
          }
         },
         "name": "Transportation, communication & utilities",
         "offsetgroup": "Transportation, communication & utilities",
         "orientation": "v",
         "showlegend": true,
         "textposition": "auto",
         "type": "bar",
         "x": [
          "Transportation, communication & utilities"
         ],
         "xaxis": "x",
         "y": [
          16
         ],
         "yaxis": "y"
        },
        {
         "alignmentgroup": "True",
         "hovertemplate": "<b>%{hovertext}</b><br><br>Number of workers who died=%{y}<extra></extra>",
         "hovertext": [
          "Wholesale and retail"
         ],
         "legendgroup": "Wholesale and retail",
         "marker": {
          "color": "#FFA15A",
          "pattern": {
           "shape": ""
          }
         },
         "name": "Wholesale and retail",
         "offsetgroup": "Wholesale and retail",
         "orientation": "v",
         "showlegend": true,
         "textposition": "auto",
         "type": "bar",
         "x": [
          "Wholesale and retail"
         ],
         "xaxis": "x",
         "y": [
          15
         ],
         "yaxis": "y"
        },
        {
         "alignmentgroup": "True",
         "hovertemplate": "<b>%{hovertext}</b><br><br>Number of workers who died=%{y}<extra></extra>",
         "hovertext": [
          "Mining & petroleum development"
         ],
         "legendgroup": "Mining & petroleum development",
         "marker": {
          "color": "#19d3f3",
          "pattern": {
           "shape": ""
          }
         },
         "name": "Mining & petroleum development",
         "offsetgroup": "Mining & petroleum development",
         "orientation": "v",
         "showlegend": true,
         "textposition": "auto",
         "type": "bar",
         "x": [
          "Mining & petroleum development"
         ],
         "xaxis": "x",
         "y": [
          11
         ],
         "yaxis": "y"
        },
        {
         "alignmentgroup": "True",
         "hovertemplate": "<b>%{hovertext}</b><br><br>Number of workers who died=%{y}<extra></extra>",
         "hovertext": [
          "Agriculture & forestry"
         ],
         "legendgroup": "Agriculture & forestry",
         "marker": {
          "color": "#FF6692",
          "pattern": {
           "shape": ""
          }
         },
         "name": "Agriculture & forestry",
         "offsetgroup": "Agriculture & forestry",
         "orientation": "v",
         "showlegend": true,
         "textposition": "auto",
         "type": "bar",
         "x": [
          "Agriculture & forestry"
         ],
         "xaxis": "x",
         "y": [
          4
         ],
         "yaxis": "y"
        },
        {
         "alignmentgroup": "True",
         "hovertemplate": "<b>%{hovertext}</b><br><br>Number of workers who died=%{y}<extra></extra>",
         "hovertext": [
          "Business & professional services"
         ],
         "legendgroup": "Business & professional services",
         "marker": {
          "color": "#B6E880",
          "pattern": {
           "shape": ""
          }
         },
         "name": "Business & professional services",
         "offsetgroup": "Business & professional services",
         "orientation": "v",
         "showlegend": true,
         "textposition": "auto",
         "type": "bar",
         "x": [
          "Business & professional services"
         ],
         "xaxis": "x",
         "y": [
          4
         ],
         "yaxis": "y"
        }
       ],
       "layout": {
        "annotations": [
         {
          "showarrow": false,
          "text": "Average: 16.88",
          "x": 1,
          "xanchor": "right",
          "xref": "x domain",
          "y": 16.875,
          "yanchor": "top",
          "yref": "y"
         }
        ],
        "barmode": "relative",
        "height": 600,
        "legend": {
         "title": {},
         "tracegroupgap": 0
        },
        "shapes": [
         {
          "line": {
           "color": "red",
           "dash": "dot"
          },
          "type": "line",
          "x0": 0,
          "x1": 1,
          "xref": "x domain",
          "y0": 16.875,
          "y1": 16.875,
          "yref": "y"
         }
        ],
        "template": {
         "data": {
          "bar": [
           {
            "error_x": {
             "color": "#2a3f5f"
            },
            "error_y": {
             "color": "#2a3f5f"
            },
            "marker": {
             "line": {
              "color": "#E5ECF6",
              "width": 0.5
             },
             "pattern": {
              "fillmode": "overlay",
              "size": 10,
              "solidity": 0.2
             }
            },
            "type": "bar"
           }
          ],
          "barpolar": [
           {
            "marker": {
             "line": {
              "color": "#E5ECF6",
              "width": 0.5
             },
             "pattern": {
              "fillmode": "overlay",
              "size": 10,
              "solidity": 0.2
             }
            },
            "type": "barpolar"
           }
          ],
          "carpet": [
           {
            "aaxis": {
             "endlinecolor": "#2a3f5f",
             "gridcolor": "white",
             "linecolor": "white",
             "minorgridcolor": "white",
             "startlinecolor": "#2a3f5f"
            },
            "baxis": {
             "endlinecolor": "#2a3f5f",
             "gridcolor": "white",
             "linecolor": "white",
             "minorgridcolor": "white",
             "startlinecolor": "#2a3f5f"
            },
            "type": "carpet"
           }
          ],
          "choropleth": [
           {
            "colorbar": {
             "outlinewidth": 0,
             "ticks": ""
            },
            "type": "choropleth"
           }
          ],
          "contour": [
           {
            "colorbar": {
             "outlinewidth": 0,
             "ticks": ""
            },
            "colorscale": [
             [
              0,
              "#0d0887"
             ],
             [
              0.1111111111111111,
              "#46039f"
             ],
             [
              0.2222222222222222,
              "#7201a8"
             ],
             [
              0.3333333333333333,
              "#9c179e"
             ],
             [
              0.4444444444444444,
              "#bd3786"
             ],
             [
              0.5555555555555556,
              "#d8576b"
             ],
             [
              0.6666666666666666,
              "#ed7953"
             ],
             [
              0.7777777777777778,
              "#fb9f3a"
             ],
             [
              0.8888888888888888,
              "#fdca26"
             ],
             [
              1,
              "#f0f921"
             ]
            ],
            "type": "contour"
           }
          ],
          "contourcarpet": [
           {
            "colorbar": {
             "outlinewidth": 0,
             "ticks": ""
            },
            "type": "contourcarpet"
           }
          ],
          "heatmap": [
           {
            "colorbar": {
             "outlinewidth": 0,
             "ticks": ""
            },
            "colorscale": [
             [
              0,
              "#0d0887"
             ],
             [
              0.1111111111111111,
              "#46039f"
             ],
             [
              0.2222222222222222,
              "#7201a8"
             ],
             [
              0.3333333333333333,
              "#9c179e"
             ],
             [
              0.4444444444444444,
              "#bd3786"
             ],
             [
              0.5555555555555556,
              "#d8576b"
             ],
             [
              0.6666666666666666,
              "#ed7953"
             ],
             [
              0.7777777777777778,
              "#fb9f3a"
             ],
             [
              0.8888888888888888,
              "#fdca26"
             ],
             [
              1,
              "#f0f921"
             ]
            ],
            "type": "heatmap"
           }
          ],
          "heatmapgl": [
           {
            "colorbar": {
             "outlinewidth": 0,
             "ticks": ""
            },
            "colorscale": [
             [
              0,
              "#0d0887"
             ],
             [
              0.1111111111111111,
              "#46039f"
             ],
             [
              0.2222222222222222,
              "#7201a8"
             ],
             [
              0.3333333333333333,
              "#9c179e"
             ],
             [
              0.4444444444444444,
              "#bd3786"
             ],
             [
              0.5555555555555556,
              "#d8576b"
             ],
             [
              0.6666666666666666,
              "#ed7953"
             ],
             [
              0.7777777777777778,
              "#fb9f3a"
             ],
             [
              0.8888888888888888,
              "#fdca26"
             ],
             [
              1,
              "#f0f921"
             ]
            ],
            "type": "heatmapgl"
           }
          ],
          "histogram": [
           {
            "marker": {
             "pattern": {
              "fillmode": "overlay",
              "size": 10,
              "solidity": 0.2
             }
            },
            "type": "histogram"
           }
          ],
          "histogram2d": [
           {
            "colorbar": {
             "outlinewidth": 0,
             "ticks": ""
            },
            "colorscale": [
             [
              0,
              "#0d0887"
             ],
             [
              0.1111111111111111,
              "#46039f"
             ],
             [
              0.2222222222222222,
              "#7201a8"
             ],
             [
              0.3333333333333333,
              "#9c179e"
             ],
             [
              0.4444444444444444,
              "#bd3786"
             ],
             [
              0.5555555555555556,
              "#d8576b"
             ],
             [
              0.6666666666666666,
              "#ed7953"
             ],
             [
              0.7777777777777778,
              "#fb9f3a"
             ],
             [
              0.8888888888888888,
              "#fdca26"
             ],
             [
              1,
              "#f0f921"
             ]
            ],
            "type": "histogram2d"
           }
          ],
          "histogram2dcontour": [
           {
            "colorbar": {
             "outlinewidth": 0,
             "ticks": ""
            },
            "colorscale": [
             [
              0,
              "#0d0887"
             ],
             [
              0.1111111111111111,
              "#46039f"
             ],
             [
              0.2222222222222222,
              "#7201a8"
             ],
             [
              0.3333333333333333,
              "#9c179e"
             ],
             [
              0.4444444444444444,
              "#bd3786"
             ],
             [
              0.5555555555555556,
              "#d8576b"
             ],
             [
              0.6666666666666666,
              "#ed7953"
             ],
             [
              0.7777777777777778,
              "#fb9f3a"
             ],
             [
              0.8888888888888888,
              "#fdca26"
             ],
             [
              1,
              "#f0f921"
             ]
            ],
            "type": "histogram2dcontour"
           }
          ],
          "mesh3d": [
           {
            "colorbar": {
             "outlinewidth": 0,
             "ticks": ""
            },
            "type": "mesh3d"
           }
          ],
          "parcoords": [
           {
            "line": {
             "colorbar": {
              "outlinewidth": 0,
              "ticks": ""
             }
            },
            "type": "parcoords"
           }
          ],
          "pie": [
           {
            "automargin": true,
            "type": "pie"
           }
          ],
          "scatter": [
           {
            "fillpattern": {
             "fillmode": "overlay",
             "size": 10,
             "solidity": 0.2
            },
            "type": "scatter"
           }
          ],
          "scatter3d": [
           {
            "line": {
             "colorbar": {
              "outlinewidth": 0,
              "ticks": ""
             }
            },
            "marker": {
             "colorbar": {
              "outlinewidth": 0,
              "ticks": ""
             }
            },
            "type": "scatter3d"
           }
          ],
          "scattercarpet": [
           {
            "marker": {
             "colorbar": {
              "outlinewidth": 0,
              "ticks": ""
             }
            },
            "type": "scattercarpet"
           }
          ],
          "scattergeo": [
           {
            "marker": {
             "colorbar": {
              "outlinewidth": 0,
              "ticks": ""
             }
            },
            "type": "scattergeo"
           }
          ],
          "scattergl": [
           {
            "marker": {
             "colorbar": {
              "outlinewidth": 0,
              "ticks": ""
             }
            },
            "type": "scattergl"
           }
          ],
          "scattermapbox": [
           {
            "marker": {
             "colorbar": {
              "outlinewidth": 0,
              "ticks": ""
             }
            },
            "type": "scattermapbox"
           }
          ],
          "scatterpolar": [
           {
            "marker": {
             "colorbar": {
              "outlinewidth": 0,
              "ticks": ""
             }
            },
            "type": "scatterpolar"
           }
          ],
          "scatterpolargl": [
           {
            "marker": {
             "colorbar": {
              "outlinewidth": 0,
              "ticks": ""
             }
            },
            "type": "scatterpolargl"
           }
          ],
          "scatterternary": [
           {
            "marker": {
             "colorbar": {
              "outlinewidth": 0,
              "ticks": ""
             }
            },
            "type": "scatterternary"
           }
          ],
          "surface": [
           {
            "colorbar": {
             "outlinewidth": 0,
             "ticks": ""
            },
            "colorscale": [
             [
              0,
              "#0d0887"
             ],
             [
              0.1111111111111111,
              "#46039f"
             ],
             [
              0.2222222222222222,
              "#7201a8"
             ],
             [
              0.3333333333333333,
              "#9c179e"
             ],
             [
              0.4444444444444444,
              "#bd3786"
             ],
             [
              0.5555555555555556,
              "#d8576b"
             ],
             [
              0.6666666666666666,
              "#ed7953"
             ],
             [
              0.7777777777777778,
              "#fb9f3a"
             ],
             [
              0.8888888888888888,
              "#fdca26"
             ],
             [
              1,
              "#f0f921"
             ]
            ],
            "type": "surface"
           }
          ],
          "table": [
           {
            "cells": {
             "fill": {
              "color": "#EBF0F8"
             },
             "line": {
              "color": "white"
             }
            },
            "header": {
             "fill": {
              "color": "#C8D4E3"
             },
             "line": {
              "color": "white"
             }
            },
            "type": "table"
           }
          ]
         },
         "layout": {
          "annotationdefaults": {
           "arrowcolor": "#2a3f5f",
           "arrowhead": 0,
           "arrowwidth": 1
          },
          "autotypenumbers": "strict",
          "coloraxis": {
           "colorbar": {
            "outlinewidth": 0,
            "ticks": ""
           }
          },
          "colorscale": {
           "diverging": [
            [
             0,
             "#8e0152"
            ],
            [
             0.1,
             "#c51b7d"
            ],
            [
             0.2,
             "#de77ae"
            ],
            [
             0.3,
             "#f1b6da"
            ],
            [
             0.4,
             "#fde0ef"
            ],
            [
             0.5,
             "#f7f7f7"
            ],
            [
             0.6,
             "#e6f5d0"
            ],
            [
             0.7,
             "#b8e186"
            ],
            [
             0.8,
             "#7fbc41"
            ],
            [
             0.9,
             "#4d9221"
            ],
            [
             1,
             "#276419"
            ]
           ],
           "sequential": [
            [
             0,
             "#0d0887"
            ],
            [
             0.1111111111111111,
             "#46039f"
            ],
            [
             0.2222222222222222,
             "#7201a8"
            ],
            [
             0.3333333333333333,
             "#9c179e"
            ],
            [
             0.4444444444444444,
             "#bd3786"
            ],
            [
             0.5555555555555556,
             "#d8576b"
            ],
            [
             0.6666666666666666,
             "#ed7953"
            ],
            [
             0.7777777777777778,
             "#fb9f3a"
            ],
            [
             0.8888888888888888,
             "#fdca26"
            ],
            [
             1,
             "#f0f921"
            ]
           ],
           "sequentialminus": [
            [
             0,
             "#0d0887"
            ],
            [
             0.1111111111111111,
             "#46039f"
            ],
            [
             0.2222222222222222,
             "#7201a8"
            ],
            [
             0.3333333333333333,
             "#9c179e"
            ],
            [
             0.4444444444444444,
             "#bd3786"
            ],
            [
             0.5555555555555556,
             "#d8576b"
            ],
            [
             0.6666666666666666,
             "#ed7953"
            ],
            [
             0.7777777777777778,
             "#fb9f3a"
            ],
            [
             0.8888888888888888,
             "#fdca26"
            ],
            [
             1,
             "#f0f921"
            ]
           ]
          },
          "colorway": [
           "#636efa",
           "#EF553B",
           "#00cc96",
           "#ab63fa",
           "#FFA15A",
           "#19d3f3",
           "#FF6692",
           "#B6E880",
           "#FF97FF",
           "#FECB52"
          ],
          "font": {
           "color": "#2a3f5f"
          },
          "geo": {
           "bgcolor": "white",
           "lakecolor": "white",
           "landcolor": "#E5ECF6",
           "showlakes": true,
           "showland": true,
           "subunitcolor": "white"
          },
          "hoverlabel": {
           "align": "left"
          },
          "hovermode": "closest",
          "mapbox": {
           "style": "light"
          },
          "paper_bgcolor": "white",
          "plot_bgcolor": "#E5ECF6",
          "polar": {
           "angularaxis": {
            "gridcolor": "white",
            "linecolor": "white",
            "ticks": ""
           },
           "bgcolor": "#E5ECF6",
           "radialaxis": {
            "gridcolor": "white",
            "linecolor": "white",
            "ticks": ""
           }
          },
          "scene": {
           "xaxis": {
            "backgroundcolor": "#E5ECF6",
            "gridcolor": "white",
            "gridwidth": 2,
            "linecolor": "white",
            "showbackground": true,
            "ticks": "",
            "zerolinecolor": "white"
           },
           "yaxis": {
            "backgroundcolor": "#E5ECF6",
            "gridcolor": "white",
            "gridwidth": 2,
            "linecolor": "white",
            "showbackground": true,
            "ticks": "",
            "zerolinecolor": "white"
           },
           "zaxis": {
            "backgroundcolor": "#E5ECF6",
            "gridcolor": "white",
            "gridwidth": 2,
            "linecolor": "white",
            "showbackground": true,
            "ticks": "",
            "zerolinecolor": "white"
           }
          },
          "shapedefaults": {
           "line": {
            "color": "#2a3f5f"
           }
          },
          "ternary": {
           "aaxis": {
            "gridcolor": "white",
            "linecolor": "white",
            "ticks": ""
           },
           "baxis": {
            "gridcolor": "white",
            "linecolor": "white",
            "ticks": ""
           },
           "bgcolor": "#E5ECF6",
           "caxis": {
            "gridcolor": "white",
            "linecolor": "white",
            "ticks": ""
           }
          },
          "title": {
           "x": 0.05
          },
          "xaxis": {
           "automargin": true,
           "gridcolor": "white",
           "linecolor": "white",
           "ticks": "",
           "title": {
            "standoff": 15
           },
           "zerolinecolor": "white",
           "zerolinewidth": 2
          },
          "yaxis": {
           "automargin": true,
           "gridcolor": "white",
           "linecolor": "white",
           "ticks": "",
           "title": {
            "standoff": 15
           },
           "zerolinecolor": "white",
           "zerolinewidth": 2
          }
         }
        },
        "title": {
         "text": "Number of Workers Who Died by Sector"
        },
        "width": 1000,
        "xaxis": {
         "anchor": "y",
         "categoryarray": [
          "Construction & construction trades",
          "Provincial & municipal government, education & health",
          "Manufacturing, packaging & processing",
          "Transportation, communication & utilities",
          "Wholesale and retail",
          "Mining & petroleum development",
          "Agriculture & forestry",
          "Business & professional services"
         ],
         "categoryorder": "total descending",
         "domain": [
          0,
          1
         ],
         "title": {
          "text": "Sector"
         }
        },
        "yaxis": {
         "anchor": "x",
         "domain": [
          0,
          1
         ],
         "title": {
          "text": "Number of workers"
         }
        }
       }
      }
     },
     "metadata": {},
     "output_type": "display_data"
    }
   ],
   "source": [
    "import pandas as pd\n",
    "import plotly.express as px\n",
    "\n",
    "# Plotting the bar chart using Plotly\n",
    "fig = px.bar(df_sort_dead, x='Sector', y='no_dead_workers', color='Sector',\n",
    "             title='Number of Workers Who Died by Sector',\n",
    "             labels={'no_dead_workers': 'Number of workers who died', 'Sector': 'Sector'},\n",
    "             hover_name='Sector', hover_data={'no_dead_workers': True, 'Sector': False})\n",
    "\n",
    "# Add average line\n",
    "fig.add_hline(y=average_dead_workers, line_dash=\"dot\", line_color=\"red\", annotation_text=f'Average: {average_dead_workers:.2f}',\n",
    "              annotation_position=\"bottom right\")\n",
    "\n",
    "# Update layout\n",
    "fig.update_layout(width=1000, height=600,\n",
    "                  xaxis={'categoryorder': 'total descending'},\n",
    "                  xaxis_title='Sector',\n",
    "                  yaxis_title='Number of workers',\n",
    "                  legend_title=None)\n",
    "\n",
    "# Show plot\n",
    "fig.show()\n"
   ]
  },
  {
   "cell_type": "code",
   "execution_count": 246,
   "metadata": {},
   "outputs": [
    {
     "name": "stderr",
     "output_type": "stream",
     "text": [
      "c:\\Users\\towme\\AppData\\Local\\Programs\\Python\\Python312\\Lib\\site-packages\\plotly\\express\\_core.py:2065: FutureWarning:\n",
      "\n",
      "When grouping with a length-1 list-like, you will need to pass a length-1 tuple to get_group in a future version of pandas. Pass `(name,)` instead of `name` to silence this warning.\n",
      "\n"
     ]
    },
    {
     "data": {
      "application/vnd.plotly.v1+json": {
       "config": {
        "plotlyServerURL": "https://plotly.com"
       },
       "data": [
        {
         "alignmentgroup": "True",
         "customdata": [
          [
           666
          ]
         ],
         "hovertemplate": "<b>%{hovertext}</b><br><br>no_injured_workers_thousand=%{y}<br>Number of injured workers who died (in thousands)=%{customdata[0]}<extra></extra>",
         "hovertext": [
          "Agriculture & forestry"
         ],
         "legendgroup": "Agriculture & forestry",
         "marker": {
          "color": "#636efa",
          "pattern": {
           "shape": ""
          }
         },
         "name": "Agriculture & forestry",
         "offsetgroup": "Agriculture & forestry",
         "orientation": "v",
         "showlegend": true,
         "textposition": "auto",
         "type": "bar",
         "x": [
          "Agriculture & forestry"
         ],
         "xaxis": "x",
         "y": [
          0.666
         ],
         "yaxis": "y"
        },
        {
         "alignmentgroup": "True",
         "customdata": [
          [
           4938
          ]
         ],
         "hovertemplate": "<b>%{hovertext}</b><br><br>no_injured_workers_thousand=%{y}<br>Number of injured workers who died (in thousands)=%{customdata[0]}<extra></extra>",
         "hovertext": [
          "Business & professional services"
         ],
         "legendgroup": "Business & professional services",
         "marker": {
          "color": "#EF553B",
          "pattern": {
           "shape": ""
          }
         },
         "name": "Business & professional services",
         "offsetgroup": "Business & professional services",
         "orientation": "v",
         "showlegend": true,
         "textposition": "auto",
         "type": "bar",
         "x": [
          "Business & professional services"
         ],
         "xaxis": "x",
         "y": [
          4.938
         ],
         "yaxis": "y"
        },
        {
         "alignmentgroup": "True",
         "customdata": [
          [
           8495
          ]
         ],
         "hovertemplate": "<b>%{hovertext}</b><br><br>no_injured_workers_thousand=%{y}<br>Number of injured workers who died (in thousands)=%{customdata[0]}<extra></extra>",
         "hovertext": [
          "Construction & construction trades"
         ],
         "legendgroup": "Construction & construction trades",
         "marker": {
          "color": "#00cc96",
          "pattern": {
           "shape": ""
          }
         },
         "name": "Construction & construction trades",
         "offsetgroup": "Construction & construction trades",
         "orientation": "v",
         "showlegend": true,
         "textposition": "auto",
         "type": "bar",
         "x": [
          "Construction & construction trades"
         ],
         "xaxis": "x",
         "y": [
          8.495
         ],
         "yaxis": "y"
        },
        {
         "alignmentgroup": "True",
         "customdata": [
          [
           13803
          ]
         ],
         "hovertemplate": "<b>%{hovertext}</b><br><br>no_injured_workers_thousand=%{y}<br>Number of injured workers who died (in thousands)=%{customdata[0]}<extra></extra>",
         "hovertext": [
          "Provincial & municipal government, education & health"
         ],
         "legendgroup": "Provincial & municipal government, education & health",
         "marker": {
          "color": "#ab63fa",
          "pattern": {
           "shape": ""
          }
         },
         "name": "Provincial & municipal government, education & health",
         "offsetgroup": "Provincial & municipal government, education & health",
         "orientation": "v",
         "showlegend": true,
         "textposition": "auto",
         "type": "bar",
         "x": [
          "Provincial & municipal government, education & health"
         ],
         "xaxis": "x",
         "y": [
          13.803
         ],
         "yaxis": "y"
        },
        {
         "alignmentgroup": "True",
         "customdata": [
          [
           5718
          ]
         ],
         "hovertemplate": "<b>%{hovertext}</b><br><br>no_injured_workers_thousand=%{y}<br>Number of injured workers who died (in thousands)=%{customdata[0]}<extra></extra>",
         "hovertext": [
          "Manufacturing, packaging & processing"
         ],
         "legendgroup": "Manufacturing, packaging & processing",
         "marker": {
          "color": "#FFA15A",
          "pattern": {
           "shape": ""
          }
         },
         "name": "Manufacturing, packaging & processing",
         "offsetgroup": "Manufacturing, packaging & processing",
         "orientation": "v",
         "showlegend": true,
         "textposition": "auto",
         "type": "bar",
         "x": [
          "Manufacturing, packaging & processing"
         ],
         "xaxis": "x",
         "y": [
          5.718
         ],
         "yaxis": "y"
        },
        {
         "alignmentgroup": "True",
         "customdata": [
          [
           2328
          ]
         ],
         "hovertemplate": "<b>%{hovertext}</b><br><br>no_injured_workers_thousand=%{y}<br>Number of injured workers who died (in thousands)=%{customdata[0]}<extra></extra>",
         "hovertext": [
          "Mining & petroleum development"
         ],
         "legendgroup": "Mining & petroleum development",
         "marker": {
          "color": "#19d3f3",
          "pattern": {
           "shape": ""
          }
         },
         "name": "Mining & petroleum development",
         "offsetgroup": "Mining & petroleum development",
         "orientation": "v",
         "showlegend": true,
         "textposition": "auto",
         "type": "bar",
         "x": [
          "Mining & petroleum development"
         ],
         "xaxis": "x",
         "y": [
          2.328
         ],
         "yaxis": "y"
        },
        {
         "alignmentgroup": "True",
         "customdata": [
          [
           4029
          ]
         ],
         "hovertemplate": "<b>%{hovertext}</b><br><br>no_injured_workers_thousand=%{y}<br>Number of injured workers who died (in thousands)=%{customdata[0]}<extra></extra>",
         "hovertext": [
          "Transportation, communication & utilities"
         ],
         "legendgroup": "Transportation, communication & utilities",
         "marker": {
          "color": "#FF6692",
          "pattern": {
           "shape": ""
          }
         },
         "name": "Transportation, communication & utilities",
         "offsetgroup": "Transportation, communication & utilities",
         "orientation": "v",
         "showlegend": true,
         "textposition": "auto",
         "type": "bar",
         "x": [
          "Transportation, communication & utilities"
         ],
         "xaxis": "x",
         "y": [
          4.029
         ],
         "yaxis": "y"
        },
        {
         "alignmentgroup": "True",
         "customdata": [
          [
           10838
          ]
         ],
         "hovertemplate": "<b>%{hovertext}</b><br><br>no_injured_workers_thousand=%{y}<br>Number of injured workers who died (in thousands)=%{customdata[0]}<extra></extra>",
         "hovertext": [
          "Wholesale and retail"
         ],
         "legendgroup": "Wholesale and retail",
         "marker": {
          "color": "#B6E880",
          "pattern": {
           "shape": ""
          }
         },
         "name": "Wholesale and retail",
         "offsetgroup": "Wholesale and retail",
         "orientation": "v",
         "showlegend": true,
         "textposition": "auto",
         "type": "bar",
         "x": [
          "Wholesale and retail"
         ],
         "xaxis": "x",
         "y": [
          10.838
         ],
         "yaxis": "y"
        }
       ],
       "layout": {
        "annotations": [
         {
          "showarrow": false,
          "text": "Average: 6.35",
          "x": 1,
          "xanchor": "right",
          "xref": "x domain",
          "y": 6.351875,
          "yanchor": "top",
          "yref": "y"
         }
        ],
        "barmode": "relative",
        "height": 600,
        "legend": {
         "title": {},
         "tracegroupgap": 0
        },
        "shapes": [
         {
          "line": {
           "color": "red",
           "dash": "dot"
          },
          "type": "line",
          "x0": 0,
          "x1": 1,
          "xref": "x domain",
          "y0": 6.351875,
          "y1": 6.351875,
          "yref": "y"
         }
        ],
        "template": {
         "data": {
          "bar": [
           {
            "error_x": {
             "color": "#2a3f5f"
            },
            "error_y": {
             "color": "#2a3f5f"
            },
            "marker": {
             "line": {
              "color": "#E5ECF6",
              "width": 0.5
             },
             "pattern": {
              "fillmode": "overlay",
              "size": 10,
              "solidity": 0.2
             }
            },
            "type": "bar"
           }
          ],
          "barpolar": [
           {
            "marker": {
             "line": {
              "color": "#E5ECF6",
              "width": 0.5
             },
             "pattern": {
              "fillmode": "overlay",
              "size": 10,
              "solidity": 0.2
             }
            },
            "type": "barpolar"
           }
          ],
          "carpet": [
           {
            "aaxis": {
             "endlinecolor": "#2a3f5f",
             "gridcolor": "white",
             "linecolor": "white",
             "minorgridcolor": "white",
             "startlinecolor": "#2a3f5f"
            },
            "baxis": {
             "endlinecolor": "#2a3f5f",
             "gridcolor": "white",
             "linecolor": "white",
             "minorgridcolor": "white",
             "startlinecolor": "#2a3f5f"
            },
            "type": "carpet"
           }
          ],
          "choropleth": [
           {
            "colorbar": {
             "outlinewidth": 0,
             "ticks": ""
            },
            "type": "choropleth"
           }
          ],
          "contour": [
           {
            "colorbar": {
             "outlinewidth": 0,
             "ticks": ""
            },
            "colorscale": [
             [
              0,
              "#0d0887"
             ],
             [
              0.1111111111111111,
              "#46039f"
             ],
             [
              0.2222222222222222,
              "#7201a8"
             ],
             [
              0.3333333333333333,
              "#9c179e"
             ],
             [
              0.4444444444444444,
              "#bd3786"
             ],
             [
              0.5555555555555556,
              "#d8576b"
             ],
             [
              0.6666666666666666,
              "#ed7953"
             ],
             [
              0.7777777777777778,
              "#fb9f3a"
             ],
             [
              0.8888888888888888,
              "#fdca26"
             ],
             [
              1,
              "#f0f921"
             ]
            ],
            "type": "contour"
           }
          ],
          "contourcarpet": [
           {
            "colorbar": {
             "outlinewidth": 0,
             "ticks": ""
            },
            "type": "contourcarpet"
           }
          ],
          "heatmap": [
           {
            "colorbar": {
             "outlinewidth": 0,
             "ticks": ""
            },
            "colorscale": [
             [
              0,
              "#0d0887"
             ],
             [
              0.1111111111111111,
              "#46039f"
             ],
             [
              0.2222222222222222,
              "#7201a8"
             ],
             [
              0.3333333333333333,
              "#9c179e"
             ],
             [
              0.4444444444444444,
              "#bd3786"
             ],
             [
              0.5555555555555556,
              "#d8576b"
             ],
             [
              0.6666666666666666,
              "#ed7953"
             ],
             [
              0.7777777777777778,
              "#fb9f3a"
             ],
             [
              0.8888888888888888,
              "#fdca26"
             ],
             [
              1,
              "#f0f921"
             ]
            ],
            "type": "heatmap"
           }
          ],
          "heatmapgl": [
           {
            "colorbar": {
             "outlinewidth": 0,
             "ticks": ""
            },
            "colorscale": [
             [
              0,
              "#0d0887"
             ],
             [
              0.1111111111111111,
              "#46039f"
             ],
             [
              0.2222222222222222,
              "#7201a8"
             ],
             [
              0.3333333333333333,
              "#9c179e"
             ],
             [
              0.4444444444444444,
              "#bd3786"
             ],
             [
              0.5555555555555556,
              "#d8576b"
             ],
             [
              0.6666666666666666,
              "#ed7953"
             ],
             [
              0.7777777777777778,
              "#fb9f3a"
             ],
             [
              0.8888888888888888,
              "#fdca26"
             ],
             [
              1,
              "#f0f921"
             ]
            ],
            "type": "heatmapgl"
           }
          ],
          "histogram": [
           {
            "marker": {
             "pattern": {
              "fillmode": "overlay",
              "size": 10,
              "solidity": 0.2
             }
            },
            "type": "histogram"
           }
          ],
          "histogram2d": [
           {
            "colorbar": {
             "outlinewidth": 0,
             "ticks": ""
            },
            "colorscale": [
             [
              0,
              "#0d0887"
             ],
             [
              0.1111111111111111,
              "#46039f"
             ],
             [
              0.2222222222222222,
              "#7201a8"
             ],
             [
              0.3333333333333333,
              "#9c179e"
             ],
             [
              0.4444444444444444,
              "#bd3786"
             ],
             [
              0.5555555555555556,
              "#d8576b"
             ],
             [
              0.6666666666666666,
              "#ed7953"
             ],
             [
              0.7777777777777778,
              "#fb9f3a"
             ],
             [
              0.8888888888888888,
              "#fdca26"
             ],
             [
              1,
              "#f0f921"
             ]
            ],
            "type": "histogram2d"
           }
          ],
          "histogram2dcontour": [
           {
            "colorbar": {
             "outlinewidth": 0,
             "ticks": ""
            },
            "colorscale": [
             [
              0,
              "#0d0887"
             ],
             [
              0.1111111111111111,
              "#46039f"
             ],
             [
              0.2222222222222222,
              "#7201a8"
             ],
             [
              0.3333333333333333,
              "#9c179e"
             ],
             [
              0.4444444444444444,
              "#bd3786"
             ],
             [
              0.5555555555555556,
              "#d8576b"
             ],
             [
              0.6666666666666666,
              "#ed7953"
             ],
             [
              0.7777777777777778,
              "#fb9f3a"
             ],
             [
              0.8888888888888888,
              "#fdca26"
             ],
             [
              1,
              "#f0f921"
             ]
            ],
            "type": "histogram2dcontour"
           }
          ],
          "mesh3d": [
           {
            "colorbar": {
             "outlinewidth": 0,
             "ticks": ""
            },
            "type": "mesh3d"
           }
          ],
          "parcoords": [
           {
            "line": {
             "colorbar": {
              "outlinewidth": 0,
              "ticks": ""
             }
            },
            "type": "parcoords"
           }
          ],
          "pie": [
           {
            "automargin": true,
            "type": "pie"
           }
          ],
          "scatter": [
           {
            "fillpattern": {
             "fillmode": "overlay",
             "size": 10,
             "solidity": 0.2
            },
            "type": "scatter"
           }
          ],
          "scatter3d": [
           {
            "line": {
             "colorbar": {
              "outlinewidth": 0,
              "ticks": ""
             }
            },
            "marker": {
             "colorbar": {
              "outlinewidth": 0,
              "ticks": ""
             }
            },
            "type": "scatter3d"
           }
          ],
          "scattercarpet": [
           {
            "marker": {
             "colorbar": {
              "outlinewidth": 0,
              "ticks": ""
             }
            },
            "type": "scattercarpet"
           }
          ],
          "scattergeo": [
           {
            "marker": {
             "colorbar": {
              "outlinewidth": 0,
              "ticks": ""
             }
            },
            "type": "scattergeo"
           }
          ],
          "scattergl": [
           {
            "marker": {
             "colorbar": {
              "outlinewidth": 0,
              "ticks": ""
             }
            },
            "type": "scattergl"
           }
          ],
          "scattermapbox": [
           {
            "marker": {
             "colorbar": {
              "outlinewidth": 0,
              "ticks": ""
             }
            },
            "type": "scattermapbox"
           }
          ],
          "scatterpolar": [
           {
            "marker": {
             "colorbar": {
              "outlinewidth": 0,
              "ticks": ""
             }
            },
            "type": "scatterpolar"
           }
          ],
          "scatterpolargl": [
           {
            "marker": {
             "colorbar": {
              "outlinewidth": 0,
              "ticks": ""
             }
            },
            "type": "scatterpolargl"
           }
          ],
          "scatterternary": [
           {
            "marker": {
             "colorbar": {
              "outlinewidth": 0,
              "ticks": ""
             }
            },
            "type": "scatterternary"
           }
          ],
          "surface": [
           {
            "colorbar": {
             "outlinewidth": 0,
             "ticks": ""
            },
            "colorscale": [
             [
              0,
              "#0d0887"
             ],
             [
              0.1111111111111111,
              "#46039f"
             ],
             [
              0.2222222222222222,
              "#7201a8"
             ],
             [
              0.3333333333333333,
              "#9c179e"
             ],
             [
              0.4444444444444444,
              "#bd3786"
             ],
             [
              0.5555555555555556,
              "#d8576b"
             ],
             [
              0.6666666666666666,
              "#ed7953"
             ],
             [
              0.7777777777777778,
              "#fb9f3a"
             ],
             [
              0.8888888888888888,
              "#fdca26"
             ],
             [
              1,
              "#f0f921"
             ]
            ],
            "type": "surface"
           }
          ],
          "table": [
           {
            "cells": {
             "fill": {
              "color": "#EBF0F8"
             },
             "line": {
              "color": "white"
             }
            },
            "header": {
             "fill": {
              "color": "#C8D4E3"
             },
             "line": {
              "color": "white"
             }
            },
            "type": "table"
           }
          ]
         },
         "layout": {
          "annotationdefaults": {
           "arrowcolor": "#2a3f5f",
           "arrowhead": 0,
           "arrowwidth": 1
          },
          "autotypenumbers": "strict",
          "coloraxis": {
           "colorbar": {
            "outlinewidth": 0,
            "ticks": ""
           }
          },
          "colorscale": {
           "diverging": [
            [
             0,
             "#8e0152"
            ],
            [
             0.1,
             "#c51b7d"
            ],
            [
             0.2,
             "#de77ae"
            ],
            [
             0.3,
             "#f1b6da"
            ],
            [
             0.4,
             "#fde0ef"
            ],
            [
             0.5,
             "#f7f7f7"
            ],
            [
             0.6,
             "#e6f5d0"
            ],
            [
             0.7,
             "#b8e186"
            ],
            [
             0.8,
             "#7fbc41"
            ],
            [
             0.9,
             "#4d9221"
            ],
            [
             1,
             "#276419"
            ]
           ],
           "sequential": [
            [
             0,
             "#0d0887"
            ],
            [
             0.1111111111111111,
             "#46039f"
            ],
            [
             0.2222222222222222,
             "#7201a8"
            ],
            [
             0.3333333333333333,
             "#9c179e"
            ],
            [
             0.4444444444444444,
             "#bd3786"
            ],
            [
             0.5555555555555556,
             "#d8576b"
            ],
            [
             0.6666666666666666,
             "#ed7953"
            ],
            [
             0.7777777777777778,
             "#fb9f3a"
            ],
            [
             0.8888888888888888,
             "#fdca26"
            ],
            [
             1,
             "#f0f921"
            ]
           ],
           "sequentialminus": [
            [
             0,
             "#0d0887"
            ],
            [
             0.1111111111111111,
             "#46039f"
            ],
            [
             0.2222222222222222,
             "#7201a8"
            ],
            [
             0.3333333333333333,
             "#9c179e"
            ],
            [
             0.4444444444444444,
             "#bd3786"
            ],
            [
             0.5555555555555556,
             "#d8576b"
            ],
            [
             0.6666666666666666,
             "#ed7953"
            ],
            [
             0.7777777777777778,
             "#fb9f3a"
            ],
            [
             0.8888888888888888,
             "#fdca26"
            ],
            [
             1,
             "#f0f921"
            ]
           ]
          },
          "colorway": [
           "#636efa",
           "#EF553B",
           "#00cc96",
           "#ab63fa",
           "#FFA15A",
           "#19d3f3",
           "#FF6692",
           "#B6E880",
           "#FF97FF",
           "#FECB52"
          ],
          "font": {
           "color": "#2a3f5f"
          },
          "geo": {
           "bgcolor": "white",
           "lakecolor": "white",
           "landcolor": "#E5ECF6",
           "showlakes": true,
           "showland": true,
           "subunitcolor": "white"
          },
          "hoverlabel": {
           "align": "left"
          },
          "hovermode": "closest",
          "mapbox": {
           "style": "light"
          },
          "paper_bgcolor": "white",
          "plot_bgcolor": "#E5ECF6",
          "polar": {
           "angularaxis": {
            "gridcolor": "white",
            "linecolor": "white",
            "ticks": ""
           },
           "bgcolor": "#E5ECF6",
           "radialaxis": {
            "gridcolor": "white",
            "linecolor": "white",
            "ticks": ""
           }
          },
          "scene": {
           "xaxis": {
            "backgroundcolor": "#E5ECF6",
            "gridcolor": "white",
            "gridwidth": 2,
            "linecolor": "white",
            "showbackground": true,
            "ticks": "",
            "zerolinecolor": "white"
           },
           "yaxis": {
            "backgroundcolor": "#E5ECF6",
            "gridcolor": "white",
            "gridwidth": 2,
            "linecolor": "white",
            "showbackground": true,
            "ticks": "",
            "zerolinecolor": "white"
           },
           "zaxis": {
            "backgroundcolor": "#E5ECF6",
            "gridcolor": "white",
            "gridwidth": 2,
            "linecolor": "white",
            "showbackground": true,
            "ticks": "",
            "zerolinecolor": "white"
           }
          },
          "shapedefaults": {
           "line": {
            "color": "#2a3f5f"
           }
          },
          "ternary": {
           "aaxis": {
            "gridcolor": "white",
            "linecolor": "white",
            "ticks": ""
           },
           "baxis": {
            "gridcolor": "white",
            "linecolor": "white",
            "ticks": ""
           },
           "bgcolor": "#E5ECF6",
           "caxis": {
            "gridcolor": "white",
            "linecolor": "white",
            "ticks": ""
           }
          },
          "title": {
           "x": 0.05
          },
          "xaxis": {
           "automargin": true,
           "gridcolor": "white",
           "linecolor": "white",
           "ticks": "",
           "title": {
            "standoff": 15
           },
           "zerolinecolor": "white",
           "zerolinewidth": 2
          },
          "yaxis": {
           "automargin": true,
           "gridcolor": "white",
           "linecolor": "white",
           "ticks": "",
           "title": {
            "standoff": 15
           },
           "zerolinecolor": "white",
           "zerolinewidth": 2
          }
         }
        },
        "title": {
         "text": "Number of Injured Workers Who Died by Sector"
        },
        "width": 1000,
        "xaxis": {
         "anchor": "y",
         "categoryarray": [
          "Agriculture & forestry",
          "Business & professional services",
          "Construction & construction trades",
          "Provincial & municipal government, education & health",
          "Manufacturing, packaging & processing",
          "Mining & petroleum development",
          "Transportation, communication & utilities",
          "Wholesale and retail"
         ],
         "categoryorder": "total descending",
         "domain": [
          0,
          1
         ],
         "title": {
          "text": "Sector"
         }
        },
        "yaxis": {
         "anchor": "x",
         "domain": [
          0,
          1
         ],
         "title": {
          "text": "Number of injured workers (in thousands)"
         }
        }
       }
      }
     },
     "metadata": {},
     "output_type": "display_data"
    }
   ],
   "source": [
    "# Calculate average number of injured workers who died (in thousands)\n",
    "average_injured_workers = df['no_injured_workers'].mean() / 1000\n",
    "\n",
    "# Divide the 'no_injured_workers' column by 1000 to show values in thousands\n",
    "df['no_injured_workers_thousand'] = df['no_injured_workers']/1000\n",
    "\n",
    "# Plotting the bar chart using Plotly\n",
    "fig = px.bar(df, x='Sector', y='no_injured_workers_thousand', color='Sector',\n",
    "             title='Number of Injured Workers Who Died by Sector',\n",
    "             labels={'no_injured_workers': 'Number of injured workers who died (in thousands)', 'Sector': 'Sector'},\n",
    "             hover_name='Sector', hover_data={'no_injured_workers': True, 'Sector': False})\n",
    "\n",
    "# Add average line (in thousands)\n",
    "fig.add_hline(y=average_injured_workers, line_dash=\"dot\", line_color=\"red\",\n",
    "              annotation_text=f'Average: {average_injured_workers:.2f}', annotation_position=\"bottom right\")\n",
    "\n",
    "# Update layout for descending order and larger plot dimensions\n",
    "fig.update_layout(width=1000, height=600, xaxis={'categoryorder': 'total descending'},\n",
    "                  xaxis_title='Sector', yaxis_title='Number of injured workers (in thousands)',\n",
    "                  legend_title=None)\n",
    "\n",
    "# Show plot\n",
    "fig.show()\n"
   ]
  },
  {
   "cell_type": "code",
   "execution_count": 259,
   "metadata": {},
   "outputs": [
    {
     "data": {
      "application/vnd.plotly.v1+json": {
       "config": {
        "plotlyServerURL": "https://plotly.com"
       },
       "data": [
        {
         "hoverinfo": "y+name",
         "marker": {
          "color": "blue"
         },
         "name": "Male",
         "text": [
          "92%",
          "91%",
          "84%",
          "81%",
          "71%",
          "57%",
          "44%",
          "32%"
         ],
         "textposition": "auto",
         "type": "bar",
         "x": [
          "Mining & petroleum development",
          "Construction & construction trades",
          "Transportation, communication & utilities",
          "Manufacturing, packaging & processing",
          "Agriculture & forestry",
          "Wholesale and retail",
          "Business & professional services",
          "Provincial & municipal government, education & health"
         ],
         "y": [
          92,
          91,
          84,
          81,
          71,
          57,
          44,
          32
         ]
        },
        {
         "hoverinfo": "y+name",
         "marker": {
          "color": "pink"
         },
         "name": "Female",
         "text": [
          "8%",
          "9%",
          "16%",
          "19%",
          "29%",
          "43%",
          "56%",
          "68%"
         ],
         "textposition": "auto",
         "type": "bar",
         "x": [
          "Mining & petroleum development",
          "Construction & construction trades",
          "Transportation, communication & utilities",
          "Manufacturing, packaging & processing",
          "Agriculture & forestry",
          "Wholesale and retail",
          "Business & professional services",
          "Provincial & municipal government, education & health"
         ],
         "y": [
          8,
          9,
          16,
          19,
          29,
          43,
          56,
          68
         ]
        }
       ],
       "layout": {
        "annotations": [
         {
          "showarrow": false,
          "text": "Average Male: 69%",
          "x": 1,
          "xanchor": "right",
          "xref": "x domain",
          "y": 69,
          "yanchor": "top",
          "yref": "y"
         },
         {
          "showarrow": false,
          "text": "Average Female: 31%",
          "x": 1,
          "xanchor": "right",
          "xref": "x domain",
          "y": 31,
          "yanchor": "bottom",
          "yref": "y"
         }
        ],
        "barmode": "group",
        "height": 600,
        "legend": {
         "title": {
          "text": "Gender"
         }
        },
        "shapes": [
         {
          "line": {
           "color": "blue",
           "dash": "dot"
          },
          "type": "line",
          "x0": 0,
          "x1": 1,
          "xref": "x domain",
          "y0": 69,
          "y1": 69,
          "yref": "y"
         },
         {
          "line": {
           "color": "pink",
           "dash": "dot"
          },
          "type": "line",
          "x0": 0,
          "x1": 1,
          "xref": "x domain",
          "y0": 31,
          "y1": 31,
          "yref": "y"
         }
        ],
        "template": {
         "data": {
          "bar": [
           {
            "error_x": {
             "color": "#2a3f5f"
            },
            "error_y": {
             "color": "#2a3f5f"
            },
            "marker": {
             "line": {
              "color": "#E5ECF6",
              "width": 0.5
             },
             "pattern": {
              "fillmode": "overlay",
              "size": 10,
              "solidity": 0.2
             }
            },
            "type": "bar"
           }
          ],
          "barpolar": [
           {
            "marker": {
             "line": {
              "color": "#E5ECF6",
              "width": 0.5
             },
             "pattern": {
              "fillmode": "overlay",
              "size": 10,
              "solidity": 0.2
             }
            },
            "type": "barpolar"
           }
          ],
          "carpet": [
           {
            "aaxis": {
             "endlinecolor": "#2a3f5f",
             "gridcolor": "white",
             "linecolor": "white",
             "minorgridcolor": "white",
             "startlinecolor": "#2a3f5f"
            },
            "baxis": {
             "endlinecolor": "#2a3f5f",
             "gridcolor": "white",
             "linecolor": "white",
             "minorgridcolor": "white",
             "startlinecolor": "#2a3f5f"
            },
            "type": "carpet"
           }
          ],
          "choropleth": [
           {
            "colorbar": {
             "outlinewidth": 0,
             "ticks": ""
            },
            "type": "choropleth"
           }
          ],
          "contour": [
           {
            "colorbar": {
             "outlinewidth": 0,
             "ticks": ""
            },
            "colorscale": [
             [
              0,
              "#0d0887"
             ],
             [
              0.1111111111111111,
              "#46039f"
             ],
             [
              0.2222222222222222,
              "#7201a8"
             ],
             [
              0.3333333333333333,
              "#9c179e"
             ],
             [
              0.4444444444444444,
              "#bd3786"
             ],
             [
              0.5555555555555556,
              "#d8576b"
             ],
             [
              0.6666666666666666,
              "#ed7953"
             ],
             [
              0.7777777777777778,
              "#fb9f3a"
             ],
             [
              0.8888888888888888,
              "#fdca26"
             ],
             [
              1,
              "#f0f921"
             ]
            ],
            "type": "contour"
           }
          ],
          "contourcarpet": [
           {
            "colorbar": {
             "outlinewidth": 0,
             "ticks": ""
            },
            "type": "contourcarpet"
           }
          ],
          "heatmap": [
           {
            "colorbar": {
             "outlinewidth": 0,
             "ticks": ""
            },
            "colorscale": [
             [
              0,
              "#0d0887"
             ],
             [
              0.1111111111111111,
              "#46039f"
             ],
             [
              0.2222222222222222,
              "#7201a8"
             ],
             [
              0.3333333333333333,
              "#9c179e"
             ],
             [
              0.4444444444444444,
              "#bd3786"
             ],
             [
              0.5555555555555556,
              "#d8576b"
             ],
             [
              0.6666666666666666,
              "#ed7953"
             ],
             [
              0.7777777777777778,
              "#fb9f3a"
             ],
             [
              0.8888888888888888,
              "#fdca26"
             ],
             [
              1,
              "#f0f921"
             ]
            ],
            "type": "heatmap"
           }
          ],
          "heatmapgl": [
           {
            "colorbar": {
             "outlinewidth": 0,
             "ticks": ""
            },
            "colorscale": [
             [
              0,
              "#0d0887"
             ],
             [
              0.1111111111111111,
              "#46039f"
             ],
             [
              0.2222222222222222,
              "#7201a8"
             ],
             [
              0.3333333333333333,
              "#9c179e"
             ],
             [
              0.4444444444444444,
              "#bd3786"
             ],
             [
              0.5555555555555556,
              "#d8576b"
             ],
             [
              0.6666666666666666,
              "#ed7953"
             ],
             [
              0.7777777777777778,
              "#fb9f3a"
             ],
             [
              0.8888888888888888,
              "#fdca26"
             ],
             [
              1,
              "#f0f921"
             ]
            ],
            "type": "heatmapgl"
           }
          ],
          "histogram": [
           {
            "marker": {
             "pattern": {
              "fillmode": "overlay",
              "size": 10,
              "solidity": 0.2
             }
            },
            "type": "histogram"
           }
          ],
          "histogram2d": [
           {
            "colorbar": {
             "outlinewidth": 0,
             "ticks": ""
            },
            "colorscale": [
             [
              0,
              "#0d0887"
             ],
             [
              0.1111111111111111,
              "#46039f"
             ],
             [
              0.2222222222222222,
              "#7201a8"
             ],
             [
              0.3333333333333333,
              "#9c179e"
             ],
             [
              0.4444444444444444,
              "#bd3786"
             ],
             [
              0.5555555555555556,
              "#d8576b"
             ],
             [
              0.6666666666666666,
              "#ed7953"
             ],
             [
              0.7777777777777778,
              "#fb9f3a"
             ],
             [
              0.8888888888888888,
              "#fdca26"
             ],
             [
              1,
              "#f0f921"
             ]
            ],
            "type": "histogram2d"
           }
          ],
          "histogram2dcontour": [
           {
            "colorbar": {
             "outlinewidth": 0,
             "ticks": ""
            },
            "colorscale": [
             [
              0,
              "#0d0887"
             ],
             [
              0.1111111111111111,
              "#46039f"
             ],
             [
              0.2222222222222222,
              "#7201a8"
             ],
             [
              0.3333333333333333,
              "#9c179e"
             ],
             [
              0.4444444444444444,
              "#bd3786"
             ],
             [
              0.5555555555555556,
              "#d8576b"
             ],
             [
              0.6666666666666666,
              "#ed7953"
             ],
             [
              0.7777777777777778,
              "#fb9f3a"
             ],
             [
              0.8888888888888888,
              "#fdca26"
             ],
             [
              1,
              "#f0f921"
             ]
            ],
            "type": "histogram2dcontour"
           }
          ],
          "mesh3d": [
           {
            "colorbar": {
             "outlinewidth": 0,
             "ticks": ""
            },
            "type": "mesh3d"
           }
          ],
          "parcoords": [
           {
            "line": {
             "colorbar": {
              "outlinewidth": 0,
              "ticks": ""
             }
            },
            "type": "parcoords"
           }
          ],
          "pie": [
           {
            "automargin": true,
            "type": "pie"
           }
          ],
          "scatter": [
           {
            "fillpattern": {
             "fillmode": "overlay",
             "size": 10,
             "solidity": 0.2
            },
            "type": "scatter"
           }
          ],
          "scatter3d": [
           {
            "line": {
             "colorbar": {
              "outlinewidth": 0,
              "ticks": ""
             }
            },
            "marker": {
             "colorbar": {
              "outlinewidth": 0,
              "ticks": ""
             }
            },
            "type": "scatter3d"
           }
          ],
          "scattercarpet": [
           {
            "marker": {
             "colorbar": {
              "outlinewidth": 0,
              "ticks": ""
             }
            },
            "type": "scattercarpet"
           }
          ],
          "scattergeo": [
           {
            "marker": {
             "colorbar": {
              "outlinewidth": 0,
              "ticks": ""
             }
            },
            "type": "scattergeo"
           }
          ],
          "scattergl": [
           {
            "marker": {
             "colorbar": {
              "outlinewidth": 0,
              "ticks": ""
             }
            },
            "type": "scattergl"
           }
          ],
          "scattermapbox": [
           {
            "marker": {
             "colorbar": {
              "outlinewidth": 0,
              "ticks": ""
             }
            },
            "type": "scattermapbox"
           }
          ],
          "scatterpolar": [
           {
            "marker": {
             "colorbar": {
              "outlinewidth": 0,
              "ticks": ""
             }
            },
            "type": "scatterpolar"
           }
          ],
          "scatterpolargl": [
           {
            "marker": {
             "colorbar": {
              "outlinewidth": 0,
              "ticks": ""
             }
            },
            "type": "scatterpolargl"
           }
          ],
          "scatterternary": [
           {
            "marker": {
             "colorbar": {
              "outlinewidth": 0,
              "ticks": ""
             }
            },
            "type": "scatterternary"
           }
          ],
          "surface": [
           {
            "colorbar": {
             "outlinewidth": 0,
             "ticks": ""
            },
            "colorscale": [
             [
              0,
              "#0d0887"
             ],
             [
              0.1111111111111111,
              "#46039f"
             ],
             [
              0.2222222222222222,
              "#7201a8"
             ],
             [
              0.3333333333333333,
              "#9c179e"
             ],
             [
              0.4444444444444444,
              "#bd3786"
             ],
             [
              0.5555555555555556,
              "#d8576b"
             ],
             [
              0.6666666666666666,
              "#ed7953"
             ],
             [
              0.7777777777777778,
              "#fb9f3a"
             ],
             [
              0.8888888888888888,
              "#fdca26"
             ],
             [
              1,
              "#f0f921"
             ]
            ],
            "type": "surface"
           }
          ],
          "table": [
           {
            "cells": {
             "fill": {
              "color": "#EBF0F8"
             },
             "line": {
              "color": "white"
             }
            },
            "header": {
             "fill": {
              "color": "#C8D4E3"
             },
             "line": {
              "color": "white"
             }
            },
            "type": "table"
           }
          ]
         },
         "layout": {
          "annotationdefaults": {
           "arrowcolor": "#2a3f5f",
           "arrowhead": 0,
           "arrowwidth": 1
          },
          "autotypenumbers": "strict",
          "coloraxis": {
           "colorbar": {
            "outlinewidth": 0,
            "ticks": ""
           }
          },
          "colorscale": {
           "diverging": [
            [
             0,
             "#8e0152"
            ],
            [
             0.1,
             "#c51b7d"
            ],
            [
             0.2,
             "#de77ae"
            ],
            [
             0.3,
             "#f1b6da"
            ],
            [
             0.4,
             "#fde0ef"
            ],
            [
             0.5,
             "#f7f7f7"
            ],
            [
             0.6,
             "#e6f5d0"
            ],
            [
             0.7,
             "#b8e186"
            ],
            [
             0.8,
             "#7fbc41"
            ],
            [
             0.9,
             "#4d9221"
            ],
            [
             1,
             "#276419"
            ]
           ],
           "sequential": [
            [
             0,
             "#0d0887"
            ],
            [
             0.1111111111111111,
             "#46039f"
            ],
            [
             0.2222222222222222,
             "#7201a8"
            ],
            [
             0.3333333333333333,
             "#9c179e"
            ],
            [
             0.4444444444444444,
             "#bd3786"
            ],
            [
             0.5555555555555556,
             "#d8576b"
            ],
            [
             0.6666666666666666,
             "#ed7953"
            ],
            [
             0.7777777777777778,
             "#fb9f3a"
            ],
            [
             0.8888888888888888,
             "#fdca26"
            ],
            [
             1,
             "#f0f921"
            ]
           ],
           "sequentialminus": [
            [
             0,
             "#0d0887"
            ],
            [
             0.1111111111111111,
             "#46039f"
            ],
            [
             0.2222222222222222,
             "#7201a8"
            ],
            [
             0.3333333333333333,
             "#9c179e"
            ],
            [
             0.4444444444444444,
             "#bd3786"
            ],
            [
             0.5555555555555556,
             "#d8576b"
            ],
            [
             0.6666666666666666,
             "#ed7953"
            ],
            [
             0.7777777777777778,
             "#fb9f3a"
            ],
            [
             0.8888888888888888,
             "#fdca26"
            ],
            [
             1,
             "#f0f921"
            ]
           ]
          },
          "colorway": [
           "#636efa",
           "#EF553B",
           "#00cc96",
           "#ab63fa",
           "#FFA15A",
           "#19d3f3",
           "#FF6692",
           "#B6E880",
           "#FF97FF",
           "#FECB52"
          ],
          "font": {
           "color": "#2a3f5f"
          },
          "geo": {
           "bgcolor": "white",
           "lakecolor": "white",
           "landcolor": "#E5ECF6",
           "showlakes": true,
           "showland": true,
           "subunitcolor": "white"
          },
          "hoverlabel": {
           "align": "left"
          },
          "hovermode": "closest",
          "mapbox": {
           "style": "light"
          },
          "paper_bgcolor": "white",
          "plot_bgcolor": "#E5ECF6",
          "polar": {
           "angularaxis": {
            "gridcolor": "white",
            "linecolor": "white",
            "ticks": ""
           },
           "bgcolor": "#E5ECF6",
           "radialaxis": {
            "gridcolor": "white",
            "linecolor": "white",
            "ticks": ""
           }
          },
          "scene": {
           "xaxis": {
            "backgroundcolor": "#E5ECF6",
            "gridcolor": "white",
            "gridwidth": 2,
            "linecolor": "white",
            "showbackground": true,
            "ticks": "",
            "zerolinecolor": "white"
           },
           "yaxis": {
            "backgroundcolor": "#E5ECF6",
            "gridcolor": "white",
            "gridwidth": 2,
            "linecolor": "white",
            "showbackground": true,
            "ticks": "",
            "zerolinecolor": "white"
           },
           "zaxis": {
            "backgroundcolor": "#E5ECF6",
            "gridcolor": "white",
            "gridwidth": 2,
            "linecolor": "white",
            "showbackground": true,
            "ticks": "",
            "zerolinecolor": "white"
           }
          },
          "shapedefaults": {
           "line": {
            "color": "#2a3f5f"
           }
          },
          "ternary": {
           "aaxis": {
            "gridcolor": "white",
            "linecolor": "white",
            "ticks": ""
           },
           "baxis": {
            "gridcolor": "white",
            "linecolor": "white",
            "ticks": ""
           },
           "bgcolor": "#E5ECF6",
           "caxis": {
            "gridcolor": "white",
            "linecolor": "white",
            "ticks": ""
           }
          },
          "title": {
           "x": 0.05
          },
          "xaxis": {
           "automargin": true,
           "gridcolor": "white",
           "linecolor": "white",
           "ticks": "",
           "title": {
            "standoff": 15
           },
           "zerolinecolor": "white",
           "zerolinewidth": 2
          },
          "yaxis": {
           "automargin": true,
           "gridcolor": "white",
           "linecolor": "white",
           "ticks": "",
           "title": {
            "standoff": 15
           },
           "zerolinecolor": "white",
           "zerolinewidth": 2
          }
         }
        },
        "title": {
         "text": "Injuries by Gender"
        },
        "width": 1000,
        "xaxis": {
         "categoryorder": "total descending",
         "title": {
          "text": "Sector"
         }
        },
        "yaxis": {
         "title": {
          "text": "Percentage"
         }
        }
       }
      }
     },
     "metadata": {},
     "output_type": "display_data"
    }
   ],
   "source": [
    "import plotly.graph_objects as go\n",
    "\n",
    "# Sort the DataFrame by male_percentage in descending order\n",
    "df_sorted = df.sort_values(by='male_percentage', ascending=False)\n",
    "\n",
    "# Divide the male and female percentages by 100 to convert them to proportions\n",
    "df['male_percentage'] = df['injuries_by_gender'].apply(lambda x: x['male']) \n",
    "df['female_percentage'] = df['injuries_by_gender'].apply(lambda x: x['female']) \n",
    "\n",
    "# Calculate average number of injured workers by gender (in thousands)\n",
    "average_male_percentage = df_sorted['injuries_by_gender'].apply(lambda x: x['male']).mean()\n",
    "average_female_percentage = df_sorted['injuries_by_gender'].apply(lambda x: x['female']).mean()\n",
    "\n",
    "# Plotting the bar chart using Plotly\n",
    "fig = go.Figure()\n",
    "fig.add_trace(go.Bar(\n",
    "    x=df_sorted['Sector'],\n",
    "    y=df_sorted['male_percentage'],\n",
    "    name='Male',\n",
    "    marker_color='blue',\n",
    "    hoverinfo='y+name',\n",
    "    text=df_sorted['male_percentage'].apply(lambda x: f'{x:.0f}%'),\n",
    "    textposition='auto'\n",
    "))\n",
    "fig.add_trace(go.Bar(\n",
    "    x=df_sorted['Sector'],\n",
    "    y=df_sorted['female_percentage'],\n",
    "    name='Female',\n",
    "    marker_color='pink',\n",
    "    hoverinfo='y+name',\n",
    "    text=df_sorted['female_percentage'].apply(lambda x: f'{x:.0f}%'),\n",
    "    textposition='auto'\n",
    "))\n",
    "\n",
    "# Add average line (in proportions)\n",
    "fig.add_hline(y=average_male_percentage, line_dash=\"dot\", line_color=\"blue\",\n",
    "              annotation_text=f'Average Male: {average_male_percentage:.0f}%', annotation_position=\"bottom right\")\n",
    "fig.add_hline(y=average_female_percentage, line_dash=\"dot\", line_color=\"pink\",\n",
    "              annotation_text=f'Average Female: {average_female_percentage:.0f}%', annotation_position=\"top right\")\n",
    "\n",
    "# Update layout for larger plot dimensions and descending order\n",
    "fig.update_layout(title='Injuries by Gender',\n",
    "                  xaxis_title='Sector', yaxis_title='Percentage',\n",
    "                  barmode='group', legend_title='Gender',\n",
    "                  width=1000, height=600,\n",
    "                  xaxis={'categoryorder': 'total descending'})  # Sort x-axis in descending order\n",
    "\n",
    "# Show plot\n",
    "fig.show()\n"
   ]
  },
  {
   "cell_type": "code",
   "execution_count": 266,
   "metadata": {},
   "outputs": [
    {
     "data": {
      "application/vnd.plotly.v1+json": {
       "config": {
        "plotlyServerURL": "https://plotly.com"
       },
       "data": [
        {
         "name": "Agriculture & forestry",
         "text": [
          "15-24"
         ],
         "textposition": "auto",
         "type": "bar",
         "x": [
          "Agriculture & forestry"
         ],
         "y": [
          4.76
         ]
        },
        {
         "name": "Business & professional services",
         "text": [
          "15-24"
         ],
         "textposition": "auto",
         "type": "bar",
         "x": [
          "Business & professional services"
         ],
         "y": [
          2.81
         ]
        },
        {
         "name": "Construction & construction trades",
         "text": [
          "25-34"
         ],
         "textposition": "auto",
         "type": "bar",
         "x": [
          "Construction & construction trades"
         ],
         "y": [
          3.38
         ]
        },
        {
         "name": "Provincial & municipal government, education & health",
         "text": [
          "45-54"
         ],
         "textposition": "auto",
         "type": "bar",
         "x": [
          "Provincial & municipal government, education & health"
         ],
         "y": [
          4.72
         ]
        },
        {
         "name": "Manufacturing, packaging & processing",
         "text": [
          "45-54"
         ],
         "textposition": "auto",
         "type": "bar",
         "x": [
          "Manufacturing, packaging & processing"
         ],
         "y": [
          3.84
         ]
        },
        {
         "name": "Mining & petroleum development",
         "text": [
          "35-44"
         ],
         "textposition": "auto",
         "type": "bar",
         "x": [
          "Mining & petroleum development"
         ],
         "y": [
          2.15
         ]
        },
        {
         "name": "Transportation, communication & utilities",
         "text": [
          "55-64"
         ],
         "textposition": "auto",
         "type": "bar",
         "x": [
          "Transportation, communication & utilities"
         ],
         "y": [
          3.61
         ]
        },
        {
         "name": "Wholesale and retail",
         "text": [
          "15-24"
         ],
         "textposition": "auto",
         "type": "bar",
         "x": [
          "Wholesale and retail"
         ],
         "y": [
          5.06
         ]
        }
       ],
       "layout": {
        "barmode": "group",
        "height": 600,
        "template": {
         "data": {
          "bar": [
           {
            "error_x": {
             "color": "#2a3f5f"
            },
            "error_y": {
             "color": "#2a3f5f"
            },
            "marker": {
             "line": {
              "color": "#E5ECF6",
              "width": 0.5
             },
             "pattern": {
              "fillmode": "overlay",
              "size": 10,
              "solidity": 0.2
             }
            },
            "type": "bar"
           }
          ],
          "barpolar": [
           {
            "marker": {
             "line": {
              "color": "#E5ECF6",
              "width": 0.5
             },
             "pattern": {
              "fillmode": "overlay",
              "size": 10,
              "solidity": 0.2
             }
            },
            "type": "barpolar"
           }
          ],
          "carpet": [
           {
            "aaxis": {
             "endlinecolor": "#2a3f5f",
             "gridcolor": "white",
             "linecolor": "white",
             "minorgridcolor": "white",
             "startlinecolor": "#2a3f5f"
            },
            "baxis": {
             "endlinecolor": "#2a3f5f",
             "gridcolor": "white",
             "linecolor": "white",
             "minorgridcolor": "white",
             "startlinecolor": "#2a3f5f"
            },
            "type": "carpet"
           }
          ],
          "choropleth": [
           {
            "colorbar": {
             "outlinewidth": 0,
             "ticks": ""
            },
            "type": "choropleth"
           }
          ],
          "contour": [
           {
            "colorbar": {
             "outlinewidth": 0,
             "ticks": ""
            },
            "colorscale": [
             [
              0,
              "#0d0887"
             ],
             [
              0.1111111111111111,
              "#46039f"
             ],
             [
              0.2222222222222222,
              "#7201a8"
             ],
             [
              0.3333333333333333,
              "#9c179e"
             ],
             [
              0.4444444444444444,
              "#bd3786"
             ],
             [
              0.5555555555555556,
              "#d8576b"
             ],
             [
              0.6666666666666666,
              "#ed7953"
             ],
             [
              0.7777777777777778,
              "#fb9f3a"
             ],
             [
              0.8888888888888888,
              "#fdca26"
             ],
             [
              1,
              "#f0f921"
             ]
            ],
            "type": "contour"
           }
          ],
          "contourcarpet": [
           {
            "colorbar": {
             "outlinewidth": 0,
             "ticks": ""
            },
            "type": "contourcarpet"
           }
          ],
          "heatmap": [
           {
            "colorbar": {
             "outlinewidth": 0,
             "ticks": ""
            },
            "colorscale": [
             [
              0,
              "#0d0887"
             ],
             [
              0.1111111111111111,
              "#46039f"
             ],
             [
              0.2222222222222222,
              "#7201a8"
             ],
             [
              0.3333333333333333,
              "#9c179e"
             ],
             [
              0.4444444444444444,
              "#bd3786"
             ],
             [
              0.5555555555555556,
              "#d8576b"
             ],
             [
              0.6666666666666666,
              "#ed7953"
             ],
             [
              0.7777777777777778,
              "#fb9f3a"
             ],
             [
              0.8888888888888888,
              "#fdca26"
             ],
             [
              1,
              "#f0f921"
             ]
            ],
            "type": "heatmap"
           }
          ],
          "heatmapgl": [
           {
            "colorbar": {
             "outlinewidth": 0,
             "ticks": ""
            },
            "colorscale": [
             [
              0,
              "#0d0887"
             ],
             [
              0.1111111111111111,
              "#46039f"
             ],
             [
              0.2222222222222222,
              "#7201a8"
             ],
             [
              0.3333333333333333,
              "#9c179e"
             ],
             [
              0.4444444444444444,
              "#bd3786"
             ],
             [
              0.5555555555555556,
              "#d8576b"
             ],
             [
              0.6666666666666666,
              "#ed7953"
             ],
             [
              0.7777777777777778,
              "#fb9f3a"
             ],
             [
              0.8888888888888888,
              "#fdca26"
             ],
             [
              1,
              "#f0f921"
             ]
            ],
            "type": "heatmapgl"
           }
          ],
          "histogram": [
           {
            "marker": {
             "pattern": {
              "fillmode": "overlay",
              "size": 10,
              "solidity": 0.2
             }
            },
            "type": "histogram"
           }
          ],
          "histogram2d": [
           {
            "colorbar": {
             "outlinewidth": 0,
             "ticks": ""
            },
            "colorscale": [
             [
              0,
              "#0d0887"
             ],
             [
              0.1111111111111111,
              "#46039f"
             ],
             [
              0.2222222222222222,
              "#7201a8"
             ],
             [
              0.3333333333333333,
              "#9c179e"
             ],
             [
              0.4444444444444444,
              "#bd3786"
             ],
             [
              0.5555555555555556,
              "#d8576b"
             ],
             [
              0.6666666666666666,
              "#ed7953"
             ],
             [
              0.7777777777777778,
              "#fb9f3a"
             ],
             [
              0.8888888888888888,
              "#fdca26"
             ],
             [
              1,
              "#f0f921"
             ]
            ],
            "type": "histogram2d"
           }
          ],
          "histogram2dcontour": [
           {
            "colorbar": {
             "outlinewidth": 0,
             "ticks": ""
            },
            "colorscale": [
             [
              0,
              "#0d0887"
             ],
             [
              0.1111111111111111,
              "#46039f"
             ],
             [
              0.2222222222222222,
              "#7201a8"
             ],
             [
              0.3333333333333333,
              "#9c179e"
             ],
             [
              0.4444444444444444,
              "#bd3786"
             ],
             [
              0.5555555555555556,
              "#d8576b"
             ],
             [
              0.6666666666666666,
              "#ed7953"
             ],
             [
              0.7777777777777778,
              "#fb9f3a"
             ],
             [
              0.8888888888888888,
              "#fdca26"
             ],
             [
              1,
              "#f0f921"
             ]
            ],
            "type": "histogram2dcontour"
           }
          ],
          "mesh3d": [
           {
            "colorbar": {
             "outlinewidth": 0,
             "ticks": ""
            },
            "type": "mesh3d"
           }
          ],
          "parcoords": [
           {
            "line": {
             "colorbar": {
              "outlinewidth": 0,
              "ticks": ""
             }
            },
            "type": "parcoords"
           }
          ],
          "pie": [
           {
            "automargin": true,
            "type": "pie"
           }
          ],
          "scatter": [
           {
            "fillpattern": {
             "fillmode": "overlay",
             "size": 10,
             "solidity": 0.2
            },
            "type": "scatter"
           }
          ],
          "scatter3d": [
           {
            "line": {
             "colorbar": {
              "outlinewidth": 0,
              "ticks": ""
             }
            },
            "marker": {
             "colorbar": {
              "outlinewidth": 0,
              "ticks": ""
             }
            },
            "type": "scatter3d"
           }
          ],
          "scattercarpet": [
           {
            "marker": {
             "colorbar": {
              "outlinewidth": 0,
              "ticks": ""
             }
            },
            "type": "scattercarpet"
           }
          ],
          "scattergeo": [
           {
            "marker": {
             "colorbar": {
              "outlinewidth": 0,
              "ticks": ""
             }
            },
            "type": "scattergeo"
           }
          ],
          "scattergl": [
           {
            "marker": {
             "colorbar": {
              "outlinewidth": 0,
              "ticks": ""
             }
            },
            "type": "scattergl"
           }
          ],
          "scattermapbox": [
           {
            "marker": {
             "colorbar": {
              "outlinewidth": 0,
              "ticks": ""
             }
            },
            "type": "scattermapbox"
           }
          ],
          "scatterpolar": [
           {
            "marker": {
             "colorbar": {
              "outlinewidth": 0,
              "ticks": ""
             }
            },
            "type": "scatterpolar"
           }
          ],
          "scatterpolargl": [
           {
            "marker": {
             "colorbar": {
              "outlinewidth": 0,
              "ticks": ""
             }
            },
            "type": "scatterpolargl"
           }
          ],
          "scatterternary": [
           {
            "marker": {
             "colorbar": {
              "outlinewidth": 0,
              "ticks": ""
             }
            },
            "type": "scatterternary"
           }
          ],
          "surface": [
           {
            "colorbar": {
             "outlinewidth": 0,
             "ticks": ""
            },
            "colorscale": [
             [
              0,
              "#0d0887"
             ],
             [
              0.1111111111111111,
              "#46039f"
             ],
             [
              0.2222222222222222,
              "#7201a8"
             ],
             [
              0.3333333333333333,
              "#9c179e"
             ],
             [
              0.4444444444444444,
              "#bd3786"
             ],
             [
              0.5555555555555556,
              "#d8576b"
             ],
             [
              0.6666666666666666,
              "#ed7953"
             ],
             [
              0.7777777777777778,
              "#fb9f3a"
             ],
             [
              0.8888888888888888,
              "#fdca26"
             ],
             [
              1,
              "#f0f921"
             ]
            ],
            "type": "surface"
           }
          ],
          "table": [
           {
            "cells": {
             "fill": {
              "color": "#EBF0F8"
             },
             "line": {
              "color": "white"
             }
            },
            "header": {
             "fill": {
              "color": "#C8D4E3"
             },
             "line": {
              "color": "white"
             }
            },
            "type": "table"
           }
          ]
         },
         "layout": {
          "annotationdefaults": {
           "arrowcolor": "#2a3f5f",
           "arrowhead": 0,
           "arrowwidth": 1
          },
          "autotypenumbers": "strict",
          "coloraxis": {
           "colorbar": {
            "outlinewidth": 0,
            "ticks": ""
           }
          },
          "colorscale": {
           "diverging": [
            [
             0,
             "#8e0152"
            ],
            [
             0.1,
             "#c51b7d"
            ],
            [
             0.2,
             "#de77ae"
            ],
            [
             0.3,
             "#f1b6da"
            ],
            [
             0.4,
             "#fde0ef"
            ],
            [
             0.5,
             "#f7f7f7"
            ],
            [
             0.6,
             "#e6f5d0"
            ],
            [
             0.7,
             "#b8e186"
            ],
            [
             0.8,
             "#7fbc41"
            ],
            [
             0.9,
             "#4d9221"
            ],
            [
             1,
             "#276419"
            ]
           ],
           "sequential": [
            [
             0,
             "#0d0887"
            ],
            [
             0.1111111111111111,
             "#46039f"
            ],
            [
             0.2222222222222222,
             "#7201a8"
            ],
            [
             0.3333333333333333,
             "#9c179e"
            ],
            [
             0.4444444444444444,
             "#bd3786"
            ],
            [
             0.5555555555555556,
             "#d8576b"
            ],
            [
             0.6666666666666666,
             "#ed7953"
            ],
            [
             0.7777777777777778,
             "#fb9f3a"
            ],
            [
             0.8888888888888888,
             "#fdca26"
            ],
            [
             1,
             "#f0f921"
            ]
           ],
           "sequentialminus": [
            [
             0,
             "#0d0887"
            ],
            [
             0.1111111111111111,
             "#46039f"
            ],
            [
             0.2222222222222222,
             "#7201a8"
            ],
            [
             0.3333333333333333,
             "#9c179e"
            ],
            [
             0.4444444444444444,
             "#bd3786"
            ],
            [
             0.5555555555555556,
             "#d8576b"
            ],
            [
             0.6666666666666666,
             "#ed7953"
            ],
            [
             0.7777777777777778,
             "#fb9f3a"
            ],
            [
             0.8888888888888888,
             "#fdca26"
            ],
            [
             1,
             "#f0f921"
            ]
           ]
          },
          "colorway": [
           "#636efa",
           "#EF553B",
           "#00cc96",
           "#ab63fa",
           "#FFA15A",
           "#19d3f3",
           "#FF6692",
           "#B6E880",
           "#FF97FF",
           "#FECB52"
          ],
          "font": {
           "color": "#2a3f5f"
          },
          "geo": {
           "bgcolor": "white",
           "lakecolor": "white",
           "landcolor": "#E5ECF6",
           "showlakes": true,
           "showland": true,
           "subunitcolor": "white"
          },
          "hoverlabel": {
           "align": "left"
          },
          "hovermode": "closest",
          "mapbox": {
           "style": "light"
          },
          "paper_bgcolor": "white",
          "plot_bgcolor": "#E5ECF6",
          "polar": {
           "angularaxis": {
            "gridcolor": "white",
            "linecolor": "white",
            "ticks": ""
           },
           "bgcolor": "#E5ECF6",
           "radialaxis": {
            "gridcolor": "white",
            "linecolor": "white",
            "ticks": ""
           }
          },
          "scene": {
           "xaxis": {
            "backgroundcolor": "#E5ECF6",
            "gridcolor": "white",
            "gridwidth": 2,
            "linecolor": "white",
            "showbackground": true,
            "ticks": "",
            "zerolinecolor": "white"
           },
           "yaxis": {
            "backgroundcolor": "#E5ECF6",
            "gridcolor": "white",
            "gridwidth": 2,
            "linecolor": "white",
            "showbackground": true,
            "ticks": "",
            "zerolinecolor": "white"
           },
           "zaxis": {
            "backgroundcolor": "#E5ECF6",
            "gridcolor": "white",
            "gridwidth": 2,
            "linecolor": "white",
            "showbackground": true,
            "ticks": "",
            "zerolinecolor": "white"
           }
          },
          "shapedefaults": {
           "line": {
            "color": "#2a3f5f"
           }
          },
          "ternary": {
           "aaxis": {
            "gridcolor": "white",
            "linecolor": "white",
            "ticks": ""
           },
           "baxis": {
            "gridcolor": "white",
            "linecolor": "white",
            "ticks": ""
           },
           "bgcolor": "#E5ECF6",
           "caxis": {
            "gridcolor": "white",
            "linecolor": "white",
            "ticks": ""
           }
          },
          "title": {
           "x": 0.05
          },
          "xaxis": {
           "automargin": true,
           "gridcolor": "white",
           "linecolor": "white",
           "ticks": "",
           "title": {
            "standoff": 15
           },
           "zerolinecolor": "white",
           "zerolinewidth": 2
          },
          "yaxis": {
           "automargin": true,
           "gridcolor": "white",
           "linecolor": "white",
           "ticks": "",
           "title": {
            "standoff": 15
           },
           "zerolinecolor": "white",
           "zerolinewidth": 2
          }
         }
        },
        "title": {
         "text": "Age group with highest injury claims by Sector (per 100 person-years)"
        },
        "width": 1000,
        "xaxis": {
         "categoryorder": "total descending",
         "title": {
          "text": "Sector"
         }
        },
        "yaxis": {
         "title": {
          "text": "Injury Claims (per 100 person-years)"
         }
        }
       }
      }
     },
     "metadata": {},
     "output_type": "display_data"
    }
   ],
   "source": [
    "import plotly.graph_objects as go\n",
    "\n",
    "# Create lists to store data for the plot\n",
    "sectors = []\n",
    "age_groups = []\n",
    "injury_claims = []\n",
    "\n",
    "# Iterate over each row in the DataFrame\n",
    "for index, row in df.iterrows():\n",
    "    sector = row['Sector']\n",
    "    age_injury_dict = row['age_with_highest_injury_claims']\n",
    "    for age_group, claims in age_injury_dict.items():\n",
    "        sectors.append(sector)\n",
    "        age_groups.append(age_group)\n",
    "        injury_claims.append(claims)\n",
    "\n",
    "# Create the bar plot\n",
    "fig = go.Figure()\n",
    "\n",
    "# Add bars for each sector\n",
    "for sector in df['Sector']:\n",
    "    sector_indeces = [i for i, sec in enumerate(sectors) if sec == sector]\n",
    "    sector_age_groups = [age_groups[i] for i in sector_indeces]\n",
    "    sector_claims = [injury_claims[i] for i in sector_indeces]\n",
    "\n",
    "    fig.add_trace(go.Bar(\n",
    "        x=[sector],\n",
    "        y=sector_claims,\n",
    "        name=sector,\n",
    "        text=sector_age_groups,  # Annotate bars with age groups\n",
    "        textposition='auto'\n",
    "    ))\n",
    "\n",
    "# Update layout\n",
    "fig.update_layout(\n",
    "    title='Age group with highest injury claims by Sector (per 100 person-years)',\n",
    "    xaxis_title='Sector',\n",
    "    yaxis_title='Injury Claims (per 100 person-years)',\n",
    "    barmode='group',\n",
    "    width=1000,\n",
    "    height=600,\n",
    "    xaxis={'categoryorder': 'total descending'}\n",
    ")\n",
    "\n",
    "# Show plot\n",
    "fig.show()\n"
   ]
  },
  {
   "cell_type": "code",
   "execution_count": 395,
   "metadata": {},
   "outputs": [
    {
     "data": {
      "application/vnd.plotly.v1+json": {
       "config": {
        "plotlyServerURL": "https://plotly.com"
       },
       "data": [
        {
         "hoverinfo": "text",
         "name": "1st Most Common",
         "offsetgroup": "injury1",
         "text": [
          "68% Sprains /  strains / tears",
          "60% Sprains /  strains / tears",
          "58% Sprains /  strains / tears",
          "52% Sprains /  strains / tears",
          "51% Sprains /  strains / tears",
          "51% Sprains /  strains / tears",
          "50% Sprains /  strains / tears",
          "40% Sprains /  strains / tears"
         ],
         "textposition": "auto",
         "type": "bar",
         "x": [
          "Provincial & municipal government, education & health",
          "Wholesale and retail",
          "Transportation, communication & utilities",
          "Mining & petroleum development",
          "Business & professional services",
          "Construction & construction trades",
          "Manufacturing, packaging & processing",
          "Agriculture & forestry"
         ],
         "y": [
          68,
          60,
          58,
          52,
          51,
          51,
          50,
          40
         ]
        },
        {
         "hoverinfo": "text",
         "name": "2nd Most Common",
         "offsetgroup": "injury2",
         "text": [
          "15% Other injuries",
          "18% Other injuries",
          "18% Other injuries",
          "18% Wounds and  bruises",
          "19% Wounds and  bruises",
          "21% Wounds and  bruises",
          "25% Wounds and  bruises",
          "24% Wounds and  bruises"
         ],
         "textposition": "auto",
         "type": "bar",
         "x": [
          "Provincial & municipal government, education & health",
          "Wholesale and retail",
          "Transportation, communication & utilities",
          "Mining & petroleum development",
          "Business & professional services",
          "Construction & construction trades",
          "Manufacturing, packaging & processing",
          "Agriculture & forestry"
         ],
         "y": [
          15,
          18,
          18,
          18,
          19,
          21,
          25,
          24
         ]
        },
        {
         "hoverinfo": "text",
         "name": "3rd Most Common",
         "offsetgroup": "injury3",
         "text": [
          "13% Wounds and  bruises",
          "16% Wounds and  bruises",
          "14% Wounds and  bruises",
          "16% Other injuries",
          "16% Other injuries",
          "15% Other injuries",
          "16% Other injuries",
          "20% Other injuries"
         ],
         "textposition": "auto",
         "type": "bar",
         "x": [
          "Provincial & municipal government, education & health",
          "Wholesale and retail",
          "Transportation, communication & utilities",
          "Mining & petroleum development",
          "Business & professional services",
          "Construction & construction trades",
          "Manufacturing, packaging & processing",
          "Agriculture & forestry"
         ],
         "y": [
          13,
          16,
          14,
          16,
          16,
          15,
          16,
          20
         ]
        }
       ],
       "layout": {
        "barmode": "group",
        "height": 600,
        "legend": {
         "title": {
          "text": "Common Injuries"
         }
        },
        "template": {
         "data": {
          "bar": [
           {
            "error_x": {
             "color": "#2a3f5f"
            },
            "error_y": {
             "color": "#2a3f5f"
            },
            "marker": {
             "line": {
              "color": "#E5ECF6",
              "width": 0.5
             },
             "pattern": {
              "fillmode": "overlay",
              "size": 10,
              "solidity": 0.2
             }
            },
            "type": "bar"
           }
          ],
          "barpolar": [
           {
            "marker": {
             "line": {
              "color": "#E5ECF6",
              "width": 0.5
             },
             "pattern": {
              "fillmode": "overlay",
              "size": 10,
              "solidity": 0.2
             }
            },
            "type": "barpolar"
           }
          ],
          "carpet": [
           {
            "aaxis": {
             "endlinecolor": "#2a3f5f",
             "gridcolor": "white",
             "linecolor": "white",
             "minorgridcolor": "white",
             "startlinecolor": "#2a3f5f"
            },
            "baxis": {
             "endlinecolor": "#2a3f5f",
             "gridcolor": "white",
             "linecolor": "white",
             "minorgridcolor": "white",
             "startlinecolor": "#2a3f5f"
            },
            "type": "carpet"
           }
          ],
          "choropleth": [
           {
            "colorbar": {
             "outlinewidth": 0,
             "ticks": ""
            },
            "type": "choropleth"
           }
          ],
          "contour": [
           {
            "colorbar": {
             "outlinewidth": 0,
             "ticks": ""
            },
            "colorscale": [
             [
              0,
              "#0d0887"
             ],
             [
              0.1111111111111111,
              "#46039f"
             ],
             [
              0.2222222222222222,
              "#7201a8"
             ],
             [
              0.3333333333333333,
              "#9c179e"
             ],
             [
              0.4444444444444444,
              "#bd3786"
             ],
             [
              0.5555555555555556,
              "#d8576b"
             ],
             [
              0.6666666666666666,
              "#ed7953"
             ],
             [
              0.7777777777777778,
              "#fb9f3a"
             ],
             [
              0.8888888888888888,
              "#fdca26"
             ],
             [
              1,
              "#f0f921"
             ]
            ],
            "type": "contour"
           }
          ],
          "contourcarpet": [
           {
            "colorbar": {
             "outlinewidth": 0,
             "ticks": ""
            },
            "type": "contourcarpet"
           }
          ],
          "heatmap": [
           {
            "colorbar": {
             "outlinewidth": 0,
             "ticks": ""
            },
            "colorscale": [
             [
              0,
              "#0d0887"
             ],
             [
              0.1111111111111111,
              "#46039f"
             ],
             [
              0.2222222222222222,
              "#7201a8"
             ],
             [
              0.3333333333333333,
              "#9c179e"
             ],
             [
              0.4444444444444444,
              "#bd3786"
             ],
             [
              0.5555555555555556,
              "#d8576b"
             ],
             [
              0.6666666666666666,
              "#ed7953"
             ],
             [
              0.7777777777777778,
              "#fb9f3a"
             ],
             [
              0.8888888888888888,
              "#fdca26"
             ],
             [
              1,
              "#f0f921"
             ]
            ],
            "type": "heatmap"
           }
          ],
          "heatmapgl": [
           {
            "colorbar": {
             "outlinewidth": 0,
             "ticks": ""
            },
            "colorscale": [
             [
              0,
              "#0d0887"
             ],
             [
              0.1111111111111111,
              "#46039f"
             ],
             [
              0.2222222222222222,
              "#7201a8"
             ],
             [
              0.3333333333333333,
              "#9c179e"
             ],
             [
              0.4444444444444444,
              "#bd3786"
             ],
             [
              0.5555555555555556,
              "#d8576b"
             ],
             [
              0.6666666666666666,
              "#ed7953"
             ],
             [
              0.7777777777777778,
              "#fb9f3a"
             ],
             [
              0.8888888888888888,
              "#fdca26"
             ],
             [
              1,
              "#f0f921"
             ]
            ],
            "type": "heatmapgl"
           }
          ],
          "histogram": [
           {
            "marker": {
             "pattern": {
              "fillmode": "overlay",
              "size": 10,
              "solidity": 0.2
             }
            },
            "type": "histogram"
           }
          ],
          "histogram2d": [
           {
            "colorbar": {
             "outlinewidth": 0,
             "ticks": ""
            },
            "colorscale": [
             [
              0,
              "#0d0887"
             ],
             [
              0.1111111111111111,
              "#46039f"
             ],
             [
              0.2222222222222222,
              "#7201a8"
             ],
             [
              0.3333333333333333,
              "#9c179e"
             ],
             [
              0.4444444444444444,
              "#bd3786"
             ],
             [
              0.5555555555555556,
              "#d8576b"
             ],
             [
              0.6666666666666666,
              "#ed7953"
             ],
             [
              0.7777777777777778,
              "#fb9f3a"
             ],
             [
              0.8888888888888888,
              "#fdca26"
             ],
             [
              1,
              "#f0f921"
             ]
            ],
            "type": "histogram2d"
           }
          ],
          "histogram2dcontour": [
           {
            "colorbar": {
             "outlinewidth": 0,
             "ticks": ""
            },
            "colorscale": [
             [
              0,
              "#0d0887"
             ],
             [
              0.1111111111111111,
              "#46039f"
             ],
             [
              0.2222222222222222,
              "#7201a8"
             ],
             [
              0.3333333333333333,
              "#9c179e"
             ],
             [
              0.4444444444444444,
              "#bd3786"
             ],
             [
              0.5555555555555556,
              "#d8576b"
             ],
             [
              0.6666666666666666,
              "#ed7953"
             ],
             [
              0.7777777777777778,
              "#fb9f3a"
             ],
             [
              0.8888888888888888,
              "#fdca26"
             ],
             [
              1,
              "#f0f921"
             ]
            ],
            "type": "histogram2dcontour"
           }
          ],
          "mesh3d": [
           {
            "colorbar": {
             "outlinewidth": 0,
             "ticks": ""
            },
            "type": "mesh3d"
           }
          ],
          "parcoords": [
           {
            "line": {
             "colorbar": {
              "outlinewidth": 0,
              "ticks": ""
             }
            },
            "type": "parcoords"
           }
          ],
          "pie": [
           {
            "automargin": true,
            "type": "pie"
           }
          ],
          "scatter": [
           {
            "fillpattern": {
             "fillmode": "overlay",
             "size": 10,
             "solidity": 0.2
            },
            "type": "scatter"
           }
          ],
          "scatter3d": [
           {
            "line": {
             "colorbar": {
              "outlinewidth": 0,
              "ticks": ""
             }
            },
            "marker": {
             "colorbar": {
              "outlinewidth": 0,
              "ticks": ""
             }
            },
            "type": "scatter3d"
           }
          ],
          "scattercarpet": [
           {
            "marker": {
             "colorbar": {
              "outlinewidth": 0,
              "ticks": ""
             }
            },
            "type": "scattercarpet"
           }
          ],
          "scattergeo": [
           {
            "marker": {
             "colorbar": {
              "outlinewidth": 0,
              "ticks": ""
             }
            },
            "type": "scattergeo"
           }
          ],
          "scattergl": [
           {
            "marker": {
             "colorbar": {
              "outlinewidth": 0,
              "ticks": ""
             }
            },
            "type": "scattergl"
           }
          ],
          "scattermapbox": [
           {
            "marker": {
             "colorbar": {
              "outlinewidth": 0,
              "ticks": ""
             }
            },
            "type": "scattermapbox"
           }
          ],
          "scatterpolar": [
           {
            "marker": {
             "colorbar": {
              "outlinewidth": 0,
              "ticks": ""
             }
            },
            "type": "scatterpolar"
           }
          ],
          "scatterpolargl": [
           {
            "marker": {
             "colorbar": {
              "outlinewidth": 0,
              "ticks": ""
             }
            },
            "type": "scatterpolargl"
           }
          ],
          "scatterternary": [
           {
            "marker": {
             "colorbar": {
              "outlinewidth": 0,
              "ticks": ""
             }
            },
            "type": "scatterternary"
           }
          ],
          "surface": [
           {
            "colorbar": {
             "outlinewidth": 0,
             "ticks": ""
            },
            "colorscale": [
             [
              0,
              "#0d0887"
             ],
             [
              0.1111111111111111,
              "#46039f"
             ],
             [
              0.2222222222222222,
              "#7201a8"
             ],
             [
              0.3333333333333333,
              "#9c179e"
             ],
             [
              0.4444444444444444,
              "#bd3786"
             ],
             [
              0.5555555555555556,
              "#d8576b"
             ],
             [
              0.6666666666666666,
              "#ed7953"
             ],
             [
              0.7777777777777778,
              "#fb9f3a"
             ],
             [
              0.8888888888888888,
              "#fdca26"
             ],
             [
              1,
              "#f0f921"
             ]
            ],
            "type": "surface"
           }
          ],
          "table": [
           {
            "cells": {
             "fill": {
              "color": "#EBF0F8"
             },
             "line": {
              "color": "white"
             }
            },
            "header": {
             "fill": {
              "color": "#C8D4E3"
             },
             "line": {
              "color": "white"
             }
            },
            "type": "table"
           }
          ]
         },
         "layout": {
          "annotationdefaults": {
           "arrowcolor": "#2a3f5f",
           "arrowhead": 0,
           "arrowwidth": 1
          },
          "autotypenumbers": "strict",
          "coloraxis": {
           "colorbar": {
            "outlinewidth": 0,
            "ticks": ""
           }
          },
          "colorscale": {
           "diverging": [
            [
             0,
             "#8e0152"
            ],
            [
             0.1,
             "#c51b7d"
            ],
            [
             0.2,
             "#de77ae"
            ],
            [
             0.3,
             "#f1b6da"
            ],
            [
             0.4,
             "#fde0ef"
            ],
            [
             0.5,
             "#f7f7f7"
            ],
            [
             0.6,
             "#e6f5d0"
            ],
            [
             0.7,
             "#b8e186"
            ],
            [
             0.8,
             "#7fbc41"
            ],
            [
             0.9,
             "#4d9221"
            ],
            [
             1,
             "#276419"
            ]
           ],
           "sequential": [
            [
             0,
             "#0d0887"
            ],
            [
             0.1111111111111111,
             "#46039f"
            ],
            [
             0.2222222222222222,
             "#7201a8"
            ],
            [
             0.3333333333333333,
             "#9c179e"
            ],
            [
             0.4444444444444444,
             "#bd3786"
            ],
            [
             0.5555555555555556,
             "#d8576b"
            ],
            [
             0.6666666666666666,
             "#ed7953"
            ],
            [
             0.7777777777777778,
             "#fb9f3a"
            ],
            [
             0.8888888888888888,
             "#fdca26"
            ],
            [
             1,
             "#f0f921"
            ]
           ],
           "sequentialminus": [
            [
             0,
             "#0d0887"
            ],
            [
             0.1111111111111111,
             "#46039f"
            ],
            [
             0.2222222222222222,
             "#7201a8"
            ],
            [
             0.3333333333333333,
             "#9c179e"
            ],
            [
             0.4444444444444444,
             "#bd3786"
            ],
            [
             0.5555555555555556,
             "#d8576b"
            ],
            [
             0.6666666666666666,
             "#ed7953"
            ],
            [
             0.7777777777777778,
             "#fb9f3a"
            ],
            [
             0.8888888888888888,
             "#fdca26"
            ],
            [
             1,
             "#f0f921"
            ]
           ]
          },
          "colorway": [
           "#636efa",
           "#EF553B",
           "#00cc96",
           "#ab63fa",
           "#FFA15A",
           "#19d3f3",
           "#FF6692",
           "#B6E880",
           "#FF97FF",
           "#FECB52"
          ],
          "font": {
           "color": "#2a3f5f"
          },
          "geo": {
           "bgcolor": "white",
           "lakecolor": "white",
           "landcolor": "#E5ECF6",
           "showlakes": true,
           "showland": true,
           "subunitcolor": "white"
          },
          "hoverlabel": {
           "align": "left"
          },
          "hovermode": "closest",
          "mapbox": {
           "style": "light"
          },
          "paper_bgcolor": "white",
          "plot_bgcolor": "#E5ECF6",
          "polar": {
           "angularaxis": {
            "gridcolor": "white",
            "linecolor": "white",
            "ticks": ""
           },
           "bgcolor": "#E5ECF6",
           "radialaxis": {
            "gridcolor": "white",
            "linecolor": "white",
            "ticks": ""
           }
          },
          "scene": {
           "xaxis": {
            "backgroundcolor": "#E5ECF6",
            "gridcolor": "white",
            "gridwidth": 2,
            "linecolor": "white",
            "showbackground": true,
            "ticks": "",
            "zerolinecolor": "white"
           },
           "yaxis": {
            "backgroundcolor": "#E5ECF6",
            "gridcolor": "white",
            "gridwidth": 2,
            "linecolor": "white",
            "showbackground": true,
            "ticks": "",
            "zerolinecolor": "white"
           },
           "zaxis": {
            "backgroundcolor": "#E5ECF6",
            "gridcolor": "white",
            "gridwidth": 2,
            "linecolor": "white",
            "showbackground": true,
            "ticks": "",
            "zerolinecolor": "white"
           }
          },
          "shapedefaults": {
           "line": {
            "color": "#2a3f5f"
           }
          },
          "ternary": {
           "aaxis": {
            "gridcolor": "white",
            "linecolor": "white",
            "ticks": ""
           },
           "baxis": {
            "gridcolor": "white",
            "linecolor": "white",
            "ticks": ""
           },
           "bgcolor": "#E5ECF6",
           "caxis": {
            "gridcolor": "white",
            "linecolor": "white",
            "ticks": ""
           }
          },
          "title": {
           "x": 0.05
          },
          "xaxis": {
           "automargin": true,
           "gridcolor": "white",
           "linecolor": "white",
           "ticks": "",
           "title": {
            "standoff": 15
           },
           "zerolinecolor": "white",
           "zerolinewidth": 2
          },
          "yaxis": {
           "automargin": true,
           "gridcolor": "white",
           "linecolor": "white",
           "ticks": "",
           "title": {
            "standoff": 15
           },
           "zerolinecolor": "white",
           "zerolinewidth": 2
          }
         }
        },
        "title": {
         "text": "Top 3 Common Injuries by Sector"
        },
        "width": 1000,
        "xaxis": {
         "title": {
          "text": "Sector"
         }
        },
        "yaxis": {
         "title": {
          "text": "Proportion of Injuries in the Sector"
         }
        }
       }
      }
     },
     "metadata": {},
     "output_type": "display_data"
    }
   ],
   "source": [
    "df['injury1']=df[\"common_types of_injuries\"].apply(lambda x:list(x.values())[0])\n",
    "df['injury2']=df[\"common_types of_injuries\"].apply(lambda x:list(x.values())[1])\n",
    "df['injury3']=df[\"common_types of_injuries\"].apply(lambda x:list(x.values())[2])\n",
    "\n",
    "# Sort the DataFrame based on the values of 'injury1' in descending order\n",
    "df_sorted_common_injury = df.sort_values(by='injury1', ascending=False)\n",
    "\n",
    "# Plotting the bar chart using Plotly\n",
    "fig = go.Figure()\n",
    "\n",
    "# Iterate over the top 3 common injuries\n",
    "for i, col in enumerate(['injury1', 'injury2', 'injury3']):\n",
    "    fig.add_trace(go.Bar(\n",
    "        x=df_sorted_common_injury['Sector'],\n",
    "        y=df_sorted_common_injury[col],\n",
    "        name=f'{i+1}st Most Common' if i == 0 else f'{i+1}nd Most Common' if i == 1 else f'{i+1}rd Most Common', \n",
    "        hoverinfo='text',\n",
    "        text=df_sorted_common_injury[col].apply(lambda x: f'{x:.0f}%') + ' ' + df_sorted_common_injury[\"common_types of_injuries\"].apply(lambda x:list(x.keys())[i]),\n",
    "        textposition='auto',\n",
    "        offsetgroup=col\n",
    "    ))\n",
    "\n",
    "# Update layout for larger plot dimensions and descending order\n",
    "fig.update_layout(\n",
    "    title='Top 3 Common Injuries by Sector',\n",
    "    xaxis_title='Sector',\n",
    "    yaxis_title='Proportion of Injuries in the Sector',\n",
    "    barmode='group',\n",
    "    legend_title='Common Injuries',\n",
    "    width=1000,\n",
    "    height=600\n",
    ")\n",
    "\n",
    "# Show plot\n",
    "fig.show()\n"
   ]
  },
  {
   "cell_type": "code",
   "execution_count": 407,
   "metadata": {},
   "outputs": [
    {
     "data": {
      "text/plain": [
       "0    {'Sprains /  strains / tears': 40, 'Wounds and...\n",
       "1    {'Sprains /  strains / tears': 51, 'Wounds and...\n",
       "2    {'Sprains /  strains / tears': 51, 'Wounds and...\n",
       "3    {'Sprains /  strains / tears': 68, 'Other inju...\n",
       "4    {'Sprains /  strains / tears': 50, 'Wounds and...\n",
       "5    {'Sprains /  strains / tears': 52, 'Wounds and...\n",
       "6    {'Sprains /  strains / tears': 58, 'Other inju...\n",
       "7    {'Sprains /  strains / tears': 60, 'Other inju...\n",
       "Name: common_types of_injuries, dtype: object"
      ]
     },
     "execution_count": 407,
     "metadata": {},
     "output_type": "execute_result"
    }
   ],
   "source": [
    "df[\"common_types of_injuries\"]"
   ]
  },
  {
   "cell_type": "code",
   "execution_count": 408,
   "metadata": {},
   "outputs": [
    {
     "data": {
      "application/vnd.plotly.v1+json": {
       "config": {
        "plotlyServerURL": "https://plotly.com"
       },
       "data": [
        {
         "hoverinfo": "text",
         "marker": {
          "color": "red"
         },
         "name": "1st Most Common",
         "offsetgroup": "common_parts1",
         "text": [
          "37% Respiratory system",
          "18% Respiratory system",
          "17% Respiratory system",
          "16% Respiratory system",
          "13% Hand or wrist",
          "12% Hand or wrist",
          "12% Foot, ankle or toe",
          "11% Hand or wrist"
         ],
         "textposition": "auto",
         "type": "bar",
         "x": [
          "Mining & petroleum development",
          "Manufacturing, packaging & processing",
          "Provincial & municipal government, education & health",
          "Construction & construction trades",
          "Agriculture & forestry",
          "Business & professional services",
          "Transportation, communication & utilities",
          "Wholesale and retail"
         ],
         "y": [
          37,
          18,
          17,
          16,
          13,
          12,
          12,
          11
         ]
        },
        {
         "hoverinfo": "text",
         "marker": {
          "color": "green"
         },
         "name": "2nd Most Common",
         "offsetgroup": "common_parts2",
         "text": [
          "8% Foot, ankle  or toe",
          "12% Finger",
          "13% Trunk",
          "10% Trunk",
          "15% Trunk",
          "10% Trunk",
          "13% Trunk",
          "13% Trunk"
         ],
         "textposition": "auto",
         "type": "bar",
         "x": [
          "Mining & petroleum development",
          "Manufacturing, packaging & processing",
          "Provincial & municipal government, education & health",
          "Construction & construction trades",
          "Agriculture & forestry",
          "Business & professional services",
          "Transportation, communication & utilities",
          "Wholesale and retail"
         ],
         "y": [
          8,
          12,
          13,
          10,
          15,
          10,
          13,
          13
         ]
        },
        {
         "hoverinfo": "text",
         "marker": {
          "color": "blue"
         },
         "name": "3rd Most Common",
         "offsetgroup": "common_parts3",
         "text": [
          "8% Trunk",
          "15% Back",
          "20% Back",
          "16% Back",
          "14% Ankle, foot  or toe",
          "16% Back",
          "22% Back",
          "23% Back"
         ],
         "textposition": "auto",
         "type": "bar",
         "x": [
          "Mining & petroleum development",
          "Manufacturing, packaging & processing",
          "Provincial & municipal government, education & health",
          "Construction & construction trades",
          "Agriculture & forestry",
          "Business & professional services",
          "Transportation, communication & utilities",
          "Wholesale and retail"
         ],
         "y": [
          8,
          15,
          20,
          16,
          14,
          16,
          22,
          23
         ]
        }
       ],
       "layout": {
        "barmode": "group",
        "height": 600,
        "legend": {
         "title": {
          "text": "Commonly Injured Parts"
         }
        },
        "template": {
         "data": {
          "bar": [
           {
            "error_x": {
             "color": "#2a3f5f"
            },
            "error_y": {
             "color": "#2a3f5f"
            },
            "marker": {
             "line": {
              "color": "#E5ECF6",
              "width": 0.5
             },
             "pattern": {
              "fillmode": "overlay",
              "size": 10,
              "solidity": 0.2
             }
            },
            "type": "bar"
           }
          ],
          "barpolar": [
           {
            "marker": {
             "line": {
              "color": "#E5ECF6",
              "width": 0.5
             },
             "pattern": {
              "fillmode": "overlay",
              "size": 10,
              "solidity": 0.2
             }
            },
            "type": "barpolar"
           }
          ],
          "carpet": [
           {
            "aaxis": {
             "endlinecolor": "#2a3f5f",
             "gridcolor": "white",
             "linecolor": "white",
             "minorgridcolor": "white",
             "startlinecolor": "#2a3f5f"
            },
            "baxis": {
             "endlinecolor": "#2a3f5f",
             "gridcolor": "white",
             "linecolor": "white",
             "minorgridcolor": "white",
             "startlinecolor": "#2a3f5f"
            },
            "type": "carpet"
           }
          ],
          "choropleth": [
           {
            "colorbar": {
             "outlinewidth": 0,
             "ticks": ""
            },
            "type": "choropleth"
           }
          ],
          "contour": [
           {
            "colorbar": {
             "outlinewidth": 0,
             "ticks": ""
            },
            "colorscale": [
             [
              0,
              "#0d0887"
             ],
             [
              0.1111111111111111,
              "#46039f"
             ],
             [
              0.2222222222222222,
              "#7201a8"
             ],
             [
              0.3333333333333333,
              "#9c179e"
             ],
             [
              0.4444444444444444,
              "#bd3786"
             ],
             [
              0.5555555555555556,
              "#d8576b"
             ],
             [
              0.6666666666666666,
              "#ed7953"
             ],
             [
              0.7777777777777778,
              "#fb9f3a"
             ],
             [
              0.8888888888888888,
              "#fdca26"
             ],
             [
              1,
              "#f0f921"
             ]
            ],
            "type": "contour"
           }
          ],
          "contourcarpet": [
           {
            "colorbar": {
             "outlinewidth": 0,
             "ticks": ""
            },
            "type": "contourcarpet"
           }
          ],
          "heatmap": [
           {
            "colorbar": {
             "outlinewidth": 0,
             "ticks": ""
            },
            "colorscale": [
             [
              0,
              "#0d0887"
             ],
             [
              0.1111111111111111,
              "#46039f"
             ],
             [
              0.2222222222222222,
              "#7201a8"
             ],
             [
              0.3333333333333333,
              "#9c179e"
             ],
             [
              0.4444444444444444,
              "#bd3786"
             ],
             [
              0.5555555555555556,
              "#d8576b"
             ],
             [
              0.6666666666666666,
              "#ed7953"
             ],
             [
              0.7777777777777778,
              "#fb9f3a"
             ],
             [
              0.8888888888888888,
              "#fdca26"
             ],
             [
              1,
              "#f0f921"
             ]
            ],
            "type": "heatmap"
           }
          ],
          "heatmapgl": [
           {
            "colorbar": {
             "outlinewidth": 0,
             "ticks": ""
            },
            "colorscale": [
             [
              0,
              "#0d0887"
             ],
             [
              0.1111111111111111,
              "#46039f"
             ],
             [
              0.2222222222222222,
              "#7201a8"
             ],
             [
              0.3333333333333333,
              "#9c179e"
             ],
             [
              0.4444444444444444,
              "#bd3786"
             ],
             [
              0.5555555555555556,
              "#d8576b"
             ],
             [
              0.6666666666666666,
              "#ed7953"
             ],
             [
              0.7777777777777778,
              "#fb9f3a"
             ],
             [
              0.8888888888888888,
              "#fdca26"
             ],
             [
              1,
              "#f0f921"
             ]
            ],
            "type": "heatmapgl"
           }
          ],
          "histogram": [
           {
            "marker": {
             "pattern": {
              "fillmode": "overlay",
              "size": 10,
              "solidity": 0.2
             }
            },
            "type": "histogram"
           }
          ],
          "histogram2d": [
           {
            "colorbar": {
             "outlinewidth": 0,
             "ticks": ""
            },
            "colorscale": [
             [
              0,
              "#0d0887"
             ],
             [
              0.1111111111111111,
              "#46039f"
             ],
             [
              0.2222222222222222,
              "#7201a8"
             ],
             [
              0.3333333333333333,
              "#9c179e"
             ],
             [
              0.4444444444444444,
              "#bd3786"
             ],
             [
              0.5555555555555556,
              "#d8576b"
             ],
             [
              0.6666666666666666,
              "#ed7953"
             ],
             [
              0.7777777777777778,
              "#fb9f3a"
             ],
             [
              0.8888888888888888,
              "#fdca26"
             ],
             [
              1,
              "#f0f921"
             ]
            ],
            "type": "histogram2d"
           }
          ],
          "histogram2dcontour": [
           {
            "colorbar": {
             "outlinewidth": 0,
             "ticks": ""
            },
            "colorscale": [
             [
              0,
              "#0d0887"
             ],
             [
              0.1111111111111111,
              "#46039f"
             ],
             [
              0.2222222222222222,
              "#7201a8"
             ],
             [
              0.3333333333333333,
              "#9c179e"
             ],
             [
              0.4444444444444444,
              "#bd3786"
             ],
             [
              0.5555555555555556,
              "#d8576b"
             ],
             [
              0.6666666666666666,
              "#ed7953"
             ],
             [
              0.7777777777777778,
              "#fb9f3a"
             ],
             [
              0.8888888888888888,
              "#fdca26"
             ],
             [
              1,
              "#f0f921"
             ]
            ],
            "type": "histogram2dcontour"
           }
          ],
          "mesh3d": [
           {
            "colorbar": {
             "outlinewidth": 0,
             "ticks": ""
            },
            "type": "mesh3d"
           }
          ],
          "parcoords": [
           {
            "line": {
             "colorbar": {
              "outlinewidth": 0,
              "ticks": ""
             }
            },
            "type": "parcoords"
           }
          ],
          "pie": [
           {
            "automargin": true,
            "type": "pie"
           }
          ],
          "scatter": [
           {
            "fillpattern": {
             "fillmode": "overlay",
             "size": 10,
             "solidity": 0.2
            },
            "type": "scatter"
           }
          ],
          "scatter3d": [
           {
            "line": {
             "colorbar": {
              "outlinewidth": 0,
              "ticks": ""
             }
            },
            "marker": {
             "colorbar": {
              "outlinewidth": 0,
              "ticks": ""
             }
            },
            "type": "scatter3d"
           }
          ],
          "scattercarpet": [
           {
            "marker": {
             "colorbar": {
              "outlinewidth": 0,
              "ticks": ""
             }
            },
            "type": "scattercarpet"
           }
          ],
          "scattergeo": [
           {
            "marker": {
             "colorbar": {
              "outlinewidth": 0,
              "ticks": ""
             }
            },
            "type": "scattergeo"
           }
          ],
          "scattergl": [
           {
            "marker": {
             "colorbar": {
              "outlinewidth": 0,
              "ticks": ""
             }
            },
            "type": "scattergl"
           }
          ],
          "scattermapbox": [
           {
            "marker": {
             "colorbar": {
              "outlinewidth": 0,
              "ticks": ""
             }
            },
            "type": "scattermapbox"
           }
          ],
          "scatterpolar": [
           {
            "marker": {
             "colorbar": {
              "outlinewidth": 0,
              "ticks": ""
             }
            },
            "type": "scatterpolar"
           }
          ],
          "scatterpolargl": [
           {
            "marker": {
             "colorbar": {
              "outlinewidth": 0,
              "ticks": ""
             }
            },
            "type": "scatterpolargl"
           }
          ],
          "scatterternary": [
           {
            "marker": {
             "colorbar": {
              "outlinewidth": 0,
              "ticks": ""
             }
            },
            "type": "scatterternary"
           }
          ],
          "surface": [
           {
            "colorbar": {
             "outlinewidth": 0,
             "ticks": ""
            },
            "colorscale": [
             [
              0,
              "#0d0887"
             ],
             [
              0.1111111111111111,
              "#46039f"
             ],
             [
              0.2222222222222222,
              "#7201a8"
             ],
             [
              0.3333333333333333,
              "#9c179e"
             ],
             [
              0.4444444444444444,
              "#bd3786"
             ],
             [
              0.5555555555555556,
              "#d8576b"
             ],
             [
              0.6666666666666666,
              "#ed7953"
             ],
             [
              0.7777777777777778,
              "#fb9f3a"
             ],
             [
              0.8888888888888888,
              "#fdca26"
             ],
             [
              1,
              "#f0f921"
             ]
            ],
            "type": "surface"
           }
          ],
          "table": [
           {
            "cells": {
             "fill": {
              "color": "#EBF0F8"
             },
             "line": {
              "color": "white"
             }
            },
            "header": {
             "fill": {
              "color": "#C8D4E3"
             },
             "line": {
              "color": "white"
             }
            },
            "type": "table"
           }
          ]
         },
         "layout": {
          "annotationdefaults": {
           "arrowcolor": "#2a3f5f",
           "arrowhead": 0,
           "arrowwidth": 1
          },
          "autotypenumbers": "strict",
          "coloraxis": {
           "colorbar": {
            "outlinewidth": 0,
            "ticks": ""
           }
          },
          "colorscale": {
           "diverging": [
            [
             0,
             "#8e0152"
            ],
            [
             0.1,
             "#c51b7d"
            ],
            [
             0.2,
             "#de77ae"
            ],
            [
             0.3,
             "#f1b6da"
            ],
            [
             0.4,
             "#fde0ef"
            ],
            [
             0.5,
             "#f7f7f7"
            ],
            [
             0.6,
             "#e6f5d0"
            ],
            [
             0.7,
             "#b8e186"
            ],
            [
             0.8,
             "#7fbc41"
            ],
            [
             0.9,
             "#4d9221"
            ],
            [
             1,
             "#276419"
            ]
           ],
           "sequential": [
            [
             0,
             "#0d0887"
            ],
            [
             0.1111111111111111,
             "#46039f"
            ],
            [
             0.2222222222222222,
             "#7201a8"
            ],
            [
             0.3333333333333333,
             "#9c179e"
            ],
            [
             0.4444444444444444,
             "#bd3786"
            ],
            [
             0.5555555555555556,
             "#d8576b"
            ],
            [
             0.6666666666666666,
             "#ed7953"
            ],
            [
             0.7777777777777778,
             "#fb9f3a"
            ],
            [
             0.8888888888888888,
             "#fdca26"
            ],
            [
             1,
             "#f0f921"
            ]
           ],
           "sequentialminus": [
            [
             0,
             "#0d0887"
            ],
            [
             0.1111111111111111,
             "#46039f"
            ],
            [
             0.2222222222222222,
             "#7201a8"
            ],
            [
             0.3333333333333333,
             "#9c179e"
            ],
            [
             0.4444444444444444,
             "#bd3786"
            ],
            [
             0.5555555555555556,
             "#d8576b"
            ],
            [
             0.6666666666666666,
             "#ed7953"
            ],
            [
             0.7777777777777778,
             "#fb9f3a"
            ],
            [
             0.8888888888888888,
             "#fdca26"
            ],
            [
             1,
             "#f0f921"
            ]
           ]
          },
          "colorway": [
           "#636efa",
           "#EF553B",
           "#00cc96",
           "#ab63fa",
           "#FFA15A",
           "#19d3f3",
           "#FF6692",
           "#B6E880",
           "#FF97FF",
           "#FECB52"
          ],
          "font": {
           "color": "#2a3f5f"
          },
          "geo": {
           "bgcolor": "white",
           "lakecolor": "white",
           "landcolor": "#E5ECF6",
           "showlakes": true,
           "showland": true,
           "subunitcolor": "white"
          },
          "hoverlabel": {
           "align": "left"
          },
          "hovermode": "closest",
          "mapbox": {
           "style": "light"
          },
          "paper_bgcolor": "white",
          "plot_bgcolor": "#E5ECF6",
          "polar": {
           "angularaxis": {
            "gridcolor": "white",
            "linecolor": "white",
            "ticks": ""
           },
           "bgcolor": "#E5ECF6",
           "radialaxis": {
            "gridcolor": "white",
            "linecolor": "white",
            "ticks": ""
           }
          },
          "scene": {
           "xaxis": {
            "backgroundcolor": "#E5ECF6",
            "gridcolor": "white",
            "gridwidth": 2,
            "linecolor": "white",
            "showbackground": true,
            "ticks": "",
            "zerolinecolor": "white"
           },
           "yaxis": {
            "backgroundcolor": "#E5ECF6",
            "gridcolor": "white",
            "gridwidth": 2,
            "linecolor": "white",
            "showbackground": true,
            "ticks": "",
            "zerolinecolor": "white"
           },
           "zaxis": {
            "backgroundcolor": "#E5ECF6",
            "gridcolor": "white",
            "gridwidth": 2,
            "linecolor": "white",
            "showbackground": true,
            "ticks": "",
            "zerolinecolor": "white"
           }
          },
          "shapedefaults": {
           "line": {
            "color": "#2a3f5f"
           }
          },
          "ternary": {
           "aaxis": {
            "gridcolor": "white",
            "linecolor": "white",
            "ticks": ""
           },
           "baxis": {
            "gridcolor": "white",
            "linecolor": "white",
            "ticks": ""
           },
           "bgcolor": "#E5ECF6",
           "caxis": {
            "gridcolor": "white",
            "linecolor": "white",
            "ticks": ""
           }
          },
          "title": {
           "x": 0.05
          },
          "xaxis": {
           "automargin": true,
           "gridcolor": "white",
           "linecolor": "white",
           "ticks": "",
           "title": {
            "standoff": 15
           },
           "zerolinecolor": "white",
           "zerolinewidth": 2
          },
          "yaxis": {
           "automargin": true,
           "gridcolor": "white",
           "linecolor": "white",
           "ticks": "",
           "title": {
            "standoff": 15
           },
           "zerolinecolor": "white",
           "zerolinewidth": 2
          }
         }
        },
        "title": {
         "text": "Top 3 Commonly Injured Parts of the Body by Sector"
        },
        "width": 1000,
        "xaxis": {
         "title": {
          "text": "Sector"
         }
        },
        "yaxis": {
         "title": {
          "text": "Proportion of Injuries in the Sector"
         }
        }
       }
      }
     },
     "metadata": {},
     "output_type": "display_data"
    }
   ],
   "source": [
    "df['common_parts1']=df[\"commonly_injured_parts\"].apply(lambda x:list(x.values())[0])\n",
    "df['common_parts2']=df[\"commonly_injured_parts\"].apply(lambda x:list(x.values())[1])\n",
    "df['common_parts3']=df[\"commonly_injured_parts\"].apply(lambda x:list(x.values())[2])\n",
    "\n",
    "# Sort the DataFrame based on the values of 'injury1' in descending order\n",
    "df_sorted_common_parts = df.sort_values(by='common_parts1', ascending=False)\n",
    "\n",
    "# Plotting the bar chart using Plotly\n",
    "fig = go.Figure()\n",
    "\n",
    "# Iterate over the top 3 commonly injured parts\n",
    "for i, part in enumerate(['common_parts1', 'common_parts2', 'common_parts3']):\n",
    "    fig.add_trace(go.Bar(\n",
    "        x=df_sorted_common_parts['Sector'],\n",
    "        y=df_sorted_common_parts[part],\n",
    "        name=f'{i+1}st Most Common' if i == 0 else f'{i+1}nd Most Common' if i == 1 else f'{i+1}rd Most Common',\n",
    "        marker_color='red' if i == 0 else 'green' if i == 1 else 'blue',\n",
    "        hoverinfo='text',\n",
    "        text=df_sorted_common_parts[part].apply(lambda x: f'{x:.0f}%') + ' ' + df_sorted_common_parts[\"commonly_injured_parts\"].apply(lambda x:list(x.keys())[i]),\n",
    "        textposition='auto',\n",
    "        offsetgroup=part\n",
    "    ))\n",
    "\n",
    "# Update layout for larger plot dimensions and descending order\n",
    "fig.update_layout(\n",
    "    title='Top 3 Commonly Injured Parts of the Body by Sector',\n",
    "    xaxis_title='Sector',\n",
    "    yaxis_title='Proportion of Injuries in the Sector',\n",
    "    barmode='group',\n",
    "    legend_title='Commonly Injured Parts',\n",
    "    width=1000,\n",
    "    height=600\n",
    ")\n",
    "\n",
    "# Show plot\n",
    "fig.show()\n"
   ]
  },
  {
   "cell_type": "code",
   "execution_count": 381,
   "metadata": {},
   "outputs": [
    {
     "data": {
      "text/plain": [
       "0    {'Bodily reaction  and exertion': 26, 'Slips, ...\n",
       "1    {'Bodily reaction  and exertion': 34, 'Slips, ...\n",
       "2    {'Bodily reaction  and exertion': 32, 'Slips, ...\n",
       "3    {'Bodily reaction  and exertion': 41, 'Exposur...\n",
       "4    {'Bodily reaction  and exertion': 36, 'Exposur...\n",
       "5    {'Exposures to harmful substance': 40, 'Bodily...\n",
       "6    {'Bodily reaction  and exertion': 40, 'Slips, ...\n",
       "7    {'Bodily reaction  and exertion': 49, 'Struck ...\n",
       "Name: top_three_causes, dtype: object"
      ]
     },
     "execution_count": 381,
     "metadata": {},
     "output_type": "execute_result"
    }
   ],
   "source": [
    "df['top_three_causes']"
   ]
  },
  {
   "cell_type": "code",
   "execution_count": 409,
   "metadata": {},
   "outputs": [
    {
     "data": {
      "application/vnd.plotly.v1+json": {
       "config": {
        "plotlyServerURL": "https://plotly.com"
       },
       "data": [
        {
         "hoverinfo": "text",
         "marker": {
          "color": "red"
         },
         "name": "1st Most Common",
         "offsetgroup": "cause1",
         "text": [
          "49% Bodily reaction  and exertion",
          "41% Bodily reaction  and exertion",
          "40% Exposures to harmful substance",
          "40% Bodily reaction  and exertion",
          "36% Bodily reaction  and exertion",
          "34% Bodily reaction  and exertion",
          "32% Bodily reaction  and exertion",
          "26% Bodily reaction  and exertion"
         ],
         "textposition": "auto",
         "type": "bar",
         "x": [
          "Wholesale and retail",
          "Provincial & municipal government, education & health",
          "Mining & petroleum development",
          "Transportation, communication & utilities",
          "Manufacturing, packaging & processing",
          "Business & professional services",
          "Construction & construction trades",
          "Agriculture & forestry"
         ],
         "y": [
          49,
          41,
          40,
          40,
          36,
          34,
          32,
          26
         ]
        },
        {
         "hoverinfo": "text",
         "marker": {
          "color": "green"
         },
         "name": "2nd Most Common",
         "offsetgroup": "cause2",
         "text": [
          "16% Struck by or against objects",
          "19% Exposures to harmful substance",
          "23% Bodily reaction  and exertion",
          "25% Slips, trips  and falls",
          "19% Exposures to harmful substance",
          "23% Slips, trips  and falls",
          "19% Slips, trips  and falls",
          "22% Slips, trips  and falls"
         ],
         "textposition": "auto",
         "type": "bar",
         "x": [
          "Wholesale and retail",
          "Provincial & municipal government, education & health",
          "Mining & petroleum development",
          "Transportation, communication & utilities",
          "Manufacturing, packaging & processing",
          "Business & professional services",
          "Construction & construction trades",
          "Agriculture & forestry"
         ],
         "y": [
          16,
          19,
          23,
          25,
          19,
          23,
          19,
          22
         ]
        },
        {
         "hoverinfo": "text",
         "marker": {
          "color": "blue"
         },
         "name": "3rd Most Common",
         "offsetgroup": "cause3",
         "text": [
          "15% Slips, trips  and falls",
          "15% Slips, trips  and falls",
          "11% Slips, trips and falls",
          "11% Struck by or against objects",
          "15% Struck by or  against objects",
          "13% Struck by or  against objects",
          "17% Exposures to harmful substance",
          "18% Struck by or  against objects"
         ],
         "textposition": "auto",
         "type": "bar",
         "x": [
          "Wholesale and retail",
          "Provincial & municipal government, education & health",
          "Mining & petroleum development",
          "Transportation, communication & utilities",
          "Manufacturing, packaging & processing",
          "Business & professional services",
          "Construction & construction trades",
          "Agriculture & forestry"
         ],
         "y": [
          15,
          15,
          11,
          11,
          15,
          13,
          17,
          18
         ]
        }
       ],
       "layout": {
        "barmode": "group",
        "height": 600,
        "legend": {
         "title": {
          "text": "Commonly Injured Parts"
         }
        },
        "template": {
         "data": {
          "bar": [
           {
            "error_x": {
             "color": "#2a3f5f"
            },
            "error_y": {
             "color": "#2a3f5f"
            },
            "marker": {
             "line": {
              "color": "#E5ECF6",
              "width": 0.5
             },
             "pattern": {
              "fillmode": "overlay",
              "size": 10,
              "solidity": 0.2
             }
            },
            "type": "bar"
           }
          ],
          "barpolar": [
           {
            "marker": {
             "line": {
              "color": "#E5ECF6",
              "width": 0.5
             },
             "pattern": {
              "fillmode": "overlay",
              "size": 10,
              "solidity": 0.2
             }
            },
            "type": "barpolar"
           }
          ],
          "carpet": [
           {
            "aaxis": {
             "endlinecolor": "#2a3f5f",
             "gridcolor": "white",
             "linecolor": "white",
             "minorgridcolor": "white",
             "startlinecolor": "#2a3f5f"
            },
            "baxis": {
             "endlinecolor": "#2a3f5f",
             "gridcolor": "white",
             "linecolor": "white",
             "minorgridcolor": "white",
             "startlinecolor": "#2a3f5f"
            },
            "type": "carpet"
           }
          ],
          "choropleth": [
           {
            "colorbar": {
             "outlinewidth": 0,
             "ticks": ""
            },
            "type": "choropleth"
           }
          ],
          "contour": [
           {
            "colorbar": {
             "outlinewidth": 0,
             "ticks": ""
            },
            "colorscale": [
             [
              0,
              "#0d0887"
             ],
             [
              0.1111111111111111,
              "#46039f"
             ],
             [
              0.2222222222222222,
              "#7201a8"
             ],
             [
              0.3333333333333333,
              "#9c179e"
             ],
             [
              0.4444444444444444,
              "#bd3786"
             ],
             [
              0.5555555555555556,
              "#d8576b"
             ],
             [
              0.6666666666666666,
              "#ed7953"
             ],
             [
              0.7777777777777778,
              "#fb9f3a"
             ],
             [
              0.8888888888888888,
              "#fdca26"
             ],
             [
              1,
              "#f0f921"
             ]
            ],
            "type": "contour"
           }
          ],
          "contourcarpet": [
           {
            "colorbar": {
             "outlinewidth": 0,
             "ticks": ""
            },
            "type": "contourcarpet"
           }
          ],
          "heatmap": [
           {
            "colorbar": {
             "outlinewidth": 0,
             "ticks": ""
            },
            "colorscale": [
             [
              0,
              "#0d0887"
             ],
             [
              0.1111111111111111,
              "#46039f"
             ],
             [
              0.2222222222222222,
              "#7201a8"
             ],
             [
              0.3333333333333333,
              "#9c179e"
             ],
             [
              0.4444444444444444,
              "#bd3786"
             ],
             [
              0.5555555555555556,
              "#d8576b"
             ],
             [
              0.6666666666666666,
              "#ed7953"
             ],
             [
              0.7777777777777778,
              "#fb9f3a"
             ],
             [
              0.8888888888888888,
              "#fdca26"
             ],
             [
              1,
              "#f0f921"
             ]
            ],
            "type": "heatmap"
           }
          ],
          "heatmapgl": [
           {
            "colorbar": {
             "outlinewidth": 0,
             "ticks": ""
            },
            "colorscale": [
             [
              0,
              "#0d0887"
             ],
             [
              0.1111111111111111,
              "#46039f"
             ],
             [
              0.2222222222222222,
              "#7201a8"
             ],
             [
              0.3333333333333333,
              "#9c179e"
             ],
             [
              0.4444444444444444,
              "#bd3786"
             ],
             [
              0.5555555555555556,
              "#d8576b"
             ],
             [
              0.6666666666666666,
              "#ed7953"
             ],
             [
              0.7777777777777778,
              "#fb9f3a"
             ],
             [
              0.8888888888888888,
              "#fdca26"
             ],
             [
              1,
              "#f0f921"
             ]
            ],
            "type": "heatmapgl"
           }
          ],
          "histogram": [
           {
            "marker": {
             "pattern": {
              "fillmode": "overlay",
              "size": 10,
              "solidity": 0.2
             }
            },
            "type": "histogram"
           }
          ],
          "histogram2d": [
           {
            "colorbar": {
             "outlinewidth": 0,
             "ticks": ""
            },
            "colorscale": [
             [
              0,
              "#0d0887"
             ],
             [
              0.1111111111111111,
              "#46039f"
             ],
             [
              0.2222222222222222,
              "#7201a8"
             ],
             [
              0.3333333333333333,
              "#9c179e"
             ],
             [
              0.4444444444444444,
              "#bd3786"
             ],
             [
              0.5555555555555556,
              "#d8576b"
             ],
             [
              0.6666666666666666,
              "#ed7953"
             ],
             [
              0.7777777777777778,
              "#fb9f3a"
             ],
             [
              0.8888888888888888,
              "#fdca26"
             ],
             [
              1,
              "#f0f921"
             ]
            ],
            "type": "histogram2d"
           }
          ],
          "histogram2dcontour": [
           {
            "colorbar": {
             "outlinewidth": 0,
             "ticks": ""
            },
            "colorscale": [
             [
              0,
              "#0d0887"
             ],
             [
              0.1111111111111111,
              "#46039f"
             ],
             [
              0.2222222222222222,
              "#7201a8"
             ],
             [
              0.3333333333333333,
              "#9c179e"
             ],
             [
              0.4444444444444444,
              "#bd3786"
             ],
             [
              0.5555555555555556,
              "#d8576b"
             ],
             [
              0.6666666666666666,
              "#ed7953"
             ],
             [
              0.7777777777777778,
              "#fb9f3a"
             ],
             [
              0.8888888888888888,
              "#fdca26"
             ],
             [
              1,
              "#f0f921"
             ]
            ],
            "type": "histogram2dcontour"
           }
          ],
          "mesh3d": [
           {
            "colorbar": {
             "outlinewidth": 0,
             "ticks": ""
            },
            "type": "mesh3d"
           }
          ],
          "parcoords": [
           {
            "line": {
             "colorbar": {
              "outlinewidth": 0,
              "ticks": ""
             }
            },
            "type": "parcoords"
           }
          ],
          "pie": [
           {
            "automargin": true,
            "type": "pie"
           }
          ],
          "scatter": [
           {
            "fillpattern": {
             "fillmode": "overlay",
             "size": 10,
             "solidity": 0.2
            },
            "type": "scatter"
           }
          ],
          "scatter3d": [
           {
            "line": {
             "colorbar": {
              "outlinewidth": 0,
              "ticks": ""
             }
            },
            "marker": {
             "colorbar": {
              "outlinewidth": 0,
              "ticks": ""
             }
            },
            "type": "scatter3d"
           }
          ],
          "scattercarpet": [
           {
            "marker": {
             "colorbar": {
              "outlinewidth": 0,
              "ticks": ""
             }
            },
            "type": "scattercarpet"
           }
          ],
          "scattergeo": [
           {
            "marker": {
             "colorbar": {
              "outlinewidth": 0,
              "ticks": ""
             }
            },
            "type": "scattergeo"
           }
          ],
          "scattergl": [
           {
            "marker": {
             "colorbar": {
              "outlinewidth": 0,
              "ticks": ""
             }
            },
            "type": "scattergl"
           }
          ],
          "scattermapbox": [
           {
            "marker": {
             "colorbar": {
              "outlinewidth": 0,
              "ticks": ""
             }
            },
            "type": "scattermapbox"
           }
          ],
          "scatterpolar": [
           {
            "marker": {
             "colorbar": {
              "outlinewidth": 0,
              "ticks": ""
             }
            },
            "type": "scatterpolar"
           }
          ],
          "scatterpolargl": [
           {
            "marker": {
             "colorbar": {
              "outlinewidth": 0,
              "ticks": ""
             }
            },
            "type": "scatterpolargl"
           }
          ],
          "scatterternary": [
           {
            "marker": {
             "colorbar": {
              "outlinewidth": 0,
              "ticks": ""
             }
            },
            "type": "scatterternary"
           }
          ],
          "surface": [
           {
            "colorbar": {
             "outlinewidth": 0,
             "ticks": ""
            },
            "colorscale": [
             [
              0,
              "#0d0887"
             ],
             [
              0.1111111111111111,
              "#46039f"
             ],
             [
              0.2222222222222222,
              "#7201a8"
             ],
             [
              0.3333333333333333,
              "#9c179e"
             ],
             [
              0.4444444444444444,
              "#bd3786"
             ],
             [
              0.5555555555555556,
              "#d8576b"
             ],
             [
              0.6666666666666666,
              "#ed7953"
             ],
             [
              0.7777777777777778,
              "#fb9f3a"
             ],
             [
              0.8888888888888888,
              "#fdca26"
             ],
             [
              1,
              "#f0f921"
             ]
            ],
            "type": "surface"
           }
          ],
          "table": [
           {
            "cells": {
             "fill": {
              "color": "#EBF0F8"
             },
             "line": {
              "color": "white"
             }
            },
            "header": {
             "fill": {
              "color": "#C8D4E3"
             },
             "line": {
              "color": "white"
             }
            },
            "type": "table"
           }
          ]
         },
         "layout": {
          "annotationdefaults": {
           "arrowcolor": "#2a3f5f",
           "arrowhead": 0,
           "arrowwidth": 1
          },
          "autotypenumbers": "strict",
          "coloraxis": {
           "colorbar": {
            "outlinewidth": 0,
            "ticks": ""
           }
          },
          "colorscale": {
           "diverging": [
            [
             0,
             "#8e0152"
            ],
            [
             0.1,
             "#c51b7d"
            ],
            [
             0.2,
             "#de77ae"
            ],
            [
             0.3,
             "#f1b6da"
            ],
            [
             0.4,
             "#fde0ef"
            ],
            [
             0.5,
             "#f7f7f7"
            ],
            [
             0.6,
             "#e6f5d0"
            ],
            [
             0.7,
             "#b8e186"
            ],
            [
             0.8,
             "#7fbc41"
            ],
            [
             0.9,
             "#4d9221"
            ],
            [
             1,
             "#276419"
            ]
           ],
           "sequential": [
            [
             0,
             "#0d0887"
            ],
            [
             0.1111111111111111,
             "#46039f"
            ],
            [
             0.2222222222222222,
             "#7201a8"
            ],
            [
             0.3333333333333333,
             "#9c179e"
            ],
            [
             0.4444444444444444,
             "#bd3786"
            ],
            [
             0.5555555555555556,
             "#d8576b"
            ],
            [
             0.6666666666666666,
             "#ed7953"
            ],
            [
             0.7777777777777778,
             "#fb9f3a"
            ],
            [
             0.8888888888888888,
             "#fdca26"
            ],
            [
             1,
             "#f0f921"
            ]
           ],
           "sequentialminus": [
            [
             0,
             "#0d0887"
            ],
            [
             0.1111111111111111,
             "#46039f"
            ],
            [
             0.2222222222222222,
             "#7201a8"
            ],
            [
             0.3333333333333333,
             "#9c179e"
            ],
            [
             0.4444444444444444,
             "#bd3786"
            ],
            [
             0.5555555555555556,
             "#d8576b"
            ],
            [
             0.6666666666666666,
             "#ed7953"
            ],
            [
             0.7777777777777778,
             "#fb9f3a"
            ],
            [
             0.8888888888888888,
             "#fdca26"
            ],
            [
             1,
             "#f0f921"
            ]
           ]
          },
          "colorway": [
           "#636efa",
           "#EF553B",
           "#00cc96",
           "#ab63fa",
           "#FFA15A",
           "#19d3f3",
           "#FF6692",
           "#B6E880",
           "#FF97FF",
           "#FECB52"
          ],
          "font": {
           "color": "#2a3f5f"
          },
          "geo": {
           "bgcolor": "white",
           "lakecolor": "white",
           "landcolor": "#E5ECF6",
           "showlakes": true,
           "showland": true,
           "subunitcolor": "white"
          },
          "hoverlabel": {
           "align": "left"
          },
          "hovermode": "closest",
          "mapbox": {
           "style": "light"
          },
          "paper_bgcolor": "white",
          "plot_bgcolor": "#E5ECF6",
          "polar": {
           "angularaxis": {
            "gridcolor": "white",
            "linecolor": "white",
            "ticks": ""
           },
           "bgcolor": "#E5ECF6",
           "radialaxis": {
            "gridcolor": "white",
            "linecolor": "white",
            "ticks": ""
           }
          },
          "scene": {
           "xaxis": {
            "backgroundcolor": "#E5ECF6",
            "gridcolor": "white",
            "gridwidth": 2,
            "linecolor": "white",
            "showbackground": true,
            "ticks": "",
            "zerolinecolor": "white"
           },
           "yaxis": {
            "backgroundcolor": "#E5ECF6",
            "gridcolor": "white",
            "gridwidth": 2,
            "linecolor": "white",
            "showbackground": true,
            "ticks": "",
            "zerolinecolor": "white"
           },
           "zaxis": {
            "backgroundcolor": "#E5ECF6",
            "gridcolor": "white",
            "gridwidth": 2,
            "linecolor": "white",
            "showbackground": true,
            "ticks": "",
            "zerolinecolor": "white"
           }
          },
          "shapedefaults": {
           "line": {
            "color": "#2a3f5f"
           }
          },
          "ternary": {
           "aaxis": {
            "gridcolor": "white",
            "linecolor": "white",
            "ticks": ""
           },
           "baxis": {
            "gridcolor": "white",
            "linecolor": "white",
            "ticks": ""
           },
           "bgcolor": "#E5ECF6",
           "caxis": {
            "gridcolor": "white",
            "linecolor": "white",
            "ticks": ""
           }
          },
          "title": {
           "x": 0.05
          },
          "xaxis": {
           "automargin": true,
           "gridcolor": "white",
           "linecolor": "white",
           "ticks": "",
           "title": {
            "standoff": 15
           },
           "zerolinecolor": "white",
           "zerolinewidth": 2
          },
          "yaxis": {
           "automargin": true,
           "gridcolor": "white",
           "linecolor": "white",
           "ticks": "",
           "title": {
            "standoff": 15
           },
           "zerolinecolor": "white",
           "zerolinewidth": 2
          }
         }
        },
        "title": {
         "text": "Top 3 Causes of Injuries by Sector"
        },
        "width": 1000,
        "xaxis": {
         "title": {
          "text": "Sector"
         }
        },
        "yaxis": {
         "title": {
          "text": "Proportion of Injuries in the Sector"
         }
        }
       }
      }
     },
     "metadata": {},
     "output_type": "display_data"
    }
   ],
   "source": [
    "# Extract top three causes\n",
    "df['cause1'] = df['top_three_causes'].apply(lambda x: list(x.values())[0])\n",
    "df['cause2'] = df['top_three_causes'].apply(lambda x: list(x.values())[1])\n",
    "df['cause3'] = df['top_three_causes'].apply(lambda x: list(x.values())[2])\n",
    "\n",
    "# Sort the DataFrame based on the values of 'injury1' in descending order\n",
    "df_sorted_causes = df.sort_values(by='cause1', ascending=False)\n",
    "\n",
    "# Plotting the bar chart using Plotly\n",
    "fig = go.Figure()\n",
    "\n",
    "# Iterate over the top 3 commonly injured parts\n",
    "for i, part in enumerate(['cause1', 'cause2', 'cause3']):\n",
    "    fig.add_trace(go.Bar(\n",
    "        x=df_sorted_causes['Sector'],\n",
    "        y=df_sorted_causes[part],\n",
    "        name=f'{i+1}st Most Common' if i == 0 else f'{i+1}nd Most Common' if i == 1 else f'{i+1}rd Most Common',\n",
    "        marker_color='red' if i == 0 else 'green' if i == 1 else 'blue',\n",
    "        hoverinfo='text',\n",
    "        text=df_sorted_causes[part].apply(lambda x: f'{x:.0f}%') + ' ' + df_sorted_causes[\"top_three_causes\"].apply(lambda x:list(x.keys())[i]),\n",
    "        textposition='auto',\n",
    "        offsetgroup=part\n",
    "    ))\n",
    "\n",
    "# Update layout for larger plot dimensions and descending order\n",
    "fig.update_layout(\n",
    "    title='Top 3 Causes of Injuries by Sector',\n",
    "    xaxis_title='Sector',\n",
    "    yaxis_title='Proportion of Injuries in the Sector',\n",
    "    barmode='group',\n",
    "    legend_title='Commonly Injured Parts',\n",
    "    width=1000,\n",
    "    height=600\n",
    ")\n",
    "\n",
    "# Show plot\n",
    "fig.show()\n"
   ]
  },
  {
   "cell_type": "code",
   "execution_count": null,
   "metadata": {},
   "outputs": [
    {
     "name": "stdout",
     "output_type": "stream",
     "text": [
      "Number of workers who died: []\n",
      "Number of workers injured: []\n",
      "Injuries by gender: [{'male_percentage': '61', 'female_percentage': '39'}]\n",
      "Age with highest injury claims: []\n",
      "Commonly injured parts of the body: []\n",
      "Top three causes of injuries among workers: []\n",
      "Common types of injuries: []\n",
      "Common types of injuries: {'Sprains/ strains/ tears': 53}\n"
     ]
    }
   ],
   "source": [
    "import re\n",
    "\n",
    "\n",
    "# Initialize lists to store extracted information\n",
    "workers_died = []\n",
    "workers_injured = []\n",
    "injuries_by_gender = []\n",
    "age_highest_injury_claims = []\n",
    "commonly_injured_parts = []\n",
    "top_three_causes = []\n",
    "common_types_of_injuries = []\n",
    "\n",
    "# Patterns for extracting information\n",
    "patterns = {\n",
    "    'workers_died': r'(\\d+)(?=\\s*Number\\s+of\\s+workers\\s+who\\s+died)', \n",
    "    'workers_injured': r'(\\d{1,3}(,\\d{3})*)(?=\\n[iI]njury claims by workers in 2020)',\n",
    "    'injuries_by_gender': r'(?P<male>\\d+)%\\n\\s*male\\s*(?P<female>\\d+)%', \n",
    "    'age_highest_injury_claims': r'Age\\s+with\\s+highest\\s+injury\\s+claims\\s*(\\d+)',\n",
    "    'commonly_injured_parts': r'Commonly\\s+injured\\s+parts\\s+of\\s+the\\s+body\\n(.*?)%\\s+male',\n",
    "    'top_three_causes': r'Top three causes of \\ninjuries among workers \\n([\\w\\s]+?)\\s+(\\d+)%\\n([\\w\\s]+?)\\s+(\\d+)%\\n([\\w\\s]+?)\\s+(\\d+)%',\n",
    "    'common_types_of_injuries': r'Common types of injuries\\n(.*?)Commonly injured \\nparts of the body'\n",
    "}\n",
    "\n",
    "# Iterate over each element in the list\n",
    "for text in m:\n",
    "    for key, pattern in patterns.items():\n",
    "        # Use regular expression to find the information\n",
    "        match = re.search(pattern, text, re.DOTALL)\n",
    "        if match:\n",
    "            if key == 'injuries_by_gender':\n",
    "                injuries_by_gender.append({\n",
    "                    'male_percentage': match.group(1),\n",
    "                    'female_percentage': match.group(2)\n",
    "                    # 'details': match.group(1)\n",
    "                })\n",
    "            elif key == 'commonly_injured_parts':\n",
    "                commonly_injured_parts.append(match.group(1))\n",
    "            elif key == 'top_three_causes':\n",
    "                top_three_causes_sub={}\n",
    "                top_three_causes_sub[match.group(1).strip()] = int(match.group(2))\n",
    "                top_three_causes_sub[match.group(3).strip()]=  int(match.group(4))\n",
    "                top_three_causes_sub[match.group(5).strip()] = int(match.group(6))\n",
    "                top_three_causes.append(top_three_causes_sub)\n",
    "            elif key == 'common_types_of_injuries':\n",
    "                injuries_dict ={}\n",
    "                common_injuries = match.group(1).strip().split('\\n')\n",
    "                common_types_of_injuries.append(match.group(1).strip().split('\\n'))\n",
    "                for injury in common_injuries:\n",
    "                    parts = injury.split('  ')\n",
    "                    if len(parts) == 2:\n",
    "                        name, percentage = parts\n",
    "                        injuries_dict[name.strip()] = int(percentage.strip('%'))\n",
    "            else:\n",
    "                data = match.group(1)\n",
    "                if '%' in data:\n",
    "                    data = data.split('%')[0]\n",
    "                data = data.strip()\n",
    "                if data.isnumeric():\n",
    "                    data = int(data)\n",
    "                globals()[key].append(data)\n",
    "\n",
    "workers_injured_int = [int(value.replace(',', '')) if isinstance(value, str) else value for value in workers_injured]\n",
    "\n",
    "# Print the extracted information\n",
    "print(\"Number of workers who died:\", workers_died)\n",
    "print(\"Number of workers injured:\", workers_injured_int)\n",
    "print(\"Injuries by gender:\", injuries_by_gender)\n",
    "print(\"Age with highest injury claims:\", age_highest_injury_claims)\n",
    "print(\"Commonly injured parts of the body:\", commonly_injured_parts)\n",
    "print(\"Top three causes of injuries among workers:\", top_three_causes)\n",
    "print(\"Common types of injuries:\", common_types_of_injuries)\n",
    "print(\"Common types of injuries:\", injuries_dict)"
   ]
  },
  {
   "cell_type": "code",
   "execution_count": 260,
   "metadata": {},
   "outputs": [
    {
     "data": {
      "text/plain": [
       "0    {'15-24': 4.76}\n",
       "1    {'15-24': 2.81}\n",
       "2    {'25-34': 3.38}\n",
       "3    {'45-54': 4.72}\n",
       "4    {'45-54': 3.84}\n",
       "5    {'35-44': 2.15}\n",
       "6    {'55-64': 3.61}\n",
       "7    {'15-24': 5.06}\n",
       "Name: age_with_highest_injury_claims, dtype: object"
      ]
     },
     "execution_count": 260,
     "metadata": {},
     "output_type": "execute_result"
    }
   ],
   "source": [
    "df['age_with_highest_injury_claims']"
   ]
  },
  {
   "cell_type": "code",
   "execution_count": 183,
   "metadata": {},
   "outputs": [
    {
     "name": "stdout",
     "output_type": "stream",
     "text": [
      "    File Workers Died Workers Injured          Injuries by Gender  \\\n",
      "0  agric         None            None  {'male': 65, 'female': 35}   \n",
      "\n",
      "  Age with Highest Injury Claims Commonly Injured Parts Top Three Causes  \\\n",
      "0                {'15-24': 4.47}                   None             None   \n",
      "\n",
      "  Common Types of Injuries  \n",
      "0                     None  \n"
     ]
    }
   ],
   "source": [
    "\n",
    "data = []\n",
    "file_names= ['agric']\n",
    "\n",
    "# Iterate over file names\n",
    "for file in file_names:\n",
    "    # Extract text from PDF\n",
    "    file_text = extract_text_from_pdf(file + \"_2022.pdf\")\n",
    "    \n",
    "    # Extract workers died\n",
    "    match = re.search(r'Industries\\s*(\\d+)', file_text)  Industries\\s*(\\d+)\n",
    "    workers_died = int(match.group(1)) if match else None\n",
    "    \n",
    "    # Extract workers injured\n",
    "    match = re.search(r'sector([\\d,]+)', file_text)\n",
    "    workers_injured = int(match.group(1).replace(',', '')) if match else None\n",
    "    \n",
    "    # Extract injuries by gender\n",
    "    match = re.search(r'(\\d{1,2})%\\nmale(\\d{1,2})%\\nfemale', file_text)\n",
    "    if match:\n",
    "        male_percentage = int(match.group(1))\n",
    "        female_percentage = int(match.group(2))\n",
    "        injuries_by_gender = {'male': male_percentage, 'female': female_percentage}\n",
    "    else:\n",
    "        injuries_by_gender = None\n",
    "    \n",
    "    # Extract age with highest injury claims\n",
    "    match = re.search(r'(\\d{2}-\\d{2})\\s{1,2}year olds\\n([\\d.]+)', file_text)\n",
    "    age_highest_injury_claims = {match.group(1): float(match.group(2))} if match else None\n",
    "    \n",
    "    # Extract commonly injured parts\n",
    "    file_text= file_text.replace('\\n','')\n",
    "    pattern = r'100 person-years(.*?)\\s(\\d+)%(.*?)\\s(\\d+)%(.*?)\\s(\\d+)%' \n",
    "    matches = re.findall(pattern, file_text)\n",
    "    commonly_injured_parts = {\n",
    "        matches[0][0].strip(): int(matches[0][1]),\n",
    "        matches[0][2].strip(): int(matches[0][3]),\n",
    "        matches[0][4].strip(): int(matches[0][5])\n",
    "    } if matches else None\n",
    "    \n",
    "    # Extract top three causes of injuries\n",
    "    pattern = r'Causes(.*?)\\s(\\d+)%(.*?)\\s(\\d+)%(.*?)\\s(\\d+)%' \n",
    "    matches = re.findall(pattern, file_text)\n",
    "    top_three_causes = {\n",
    "        matches[0][0].strip(): int(matches[0][1]),\n",
    "        matches[0][2].strip(): int(matches[0][3]),\n",
    "        matches[0][4].strip(): int(matches[0][5])\n",
    "    } if matches else None\n",
    "    \n",
    "    # Extract common types of injuries\n",
    "    pattern = r'Types(.*?)\\s(\\d+)%(.*?)\\s(\\d+)%(.*?)\\s(\\d+)%' \n",
    "    matches = re.findall(pattern, file_text)\n",
    "    common_types_of_injuries = {\n",
    "        matches[0][0].strip(): int(matches[0][1]),\n",
    "        matches[0][2].strip(): int(matches[0][3]),\n",
    "        matches[0][4].strip(): int(matches[0][5])\n",
    "    } if matches else None\n",
    "    \n",
    "    # Append extracted data to the list\n",
    "    data.append({\n",
    "        'File': file,\n",
    "        'Workers Died': workers_died,\n",
    "        'Workers Injured': workers_injured,\n",
    "        'Injuries by Gender': injuries_by_gender,\n",
    "        'Age with Highest Injury Claims': age_highest_injury_claims,\n",
    "        'Commonly Injured Parts': commonly_injured_parts,\n",
    "        'Top Three Causes': top_three_causes,\n",
    "        'Common Types of Injuries': common_types_of_injuries\n",
    "    })\n",
    "\n",
    "# Create a DataFrame from the collected data\n",
    "df = pd.DataFrame(data)\n",
    "\n",
    "# Display the DataFrame\n",
    "print(df)\n"
   ]
  },
  {
   "cell_type": "code",
   "execution_count": 174,
   "metadata": {},
   "outputs": [
    {
     "data": {
      "text/html": [
       "<div>\n",
       "<style scoped>\n",
       "    .dataframe tbody tr th:only-of-type {\n",
       "        vertical-align: middle;\n",
       "    }\n",
       "\n",
       "    .dataframe tbody tr th {\n",
       "        vertical-align: top;\n",
       "    }\n",
       "\n",
       "    .dataframe thead th {\n",
       "        text-align: right;\n",
       "    }\n",
       "</style>\n",
       "<table border=\"1\" class=\"dataframe\">\n",
       "  <thead>\n",
       "    <tr style=\"text-align: right;\">\n",
       "      <th></th>\n",
       "      <th>File</th>\n",
       "      <th>Workers Died</th>\n",
       "      <th>Workers Injured</th>\n",
       "      <th>Injuries by Gender</th>\n",
       "      <th>Age with Highest Injury Claims</th>\n",
       "      <th>Commonly Injured Parts</th>\n",
       "      <th>Top Three Causes</th>\n",
       "      <th>Common Types of Injuries</th>\n",
       "    </tr>\n",
       "  </thead>\n",
       "  <tbody>\n",
       "    <tr>\n",
       "      <th>0</th>\n",
       "      <td>agric</td>\n",
       "      <td>None</td>\n",
       "      <td>None</td>\n",
       "      <td>{'male': 65, 'female': 35}</td>\n",
       "      <td>{'15-24': 4.47}</td>\n",
       "      <td>None</td>\n",
       "      <td>None</td>\n",
       "      <td>None</td>\n",
       "    </tr>\n",
       "  </tbody>\n",
       "</table>\n",
       "</div>"
      ],
      "text/plain": [
       "    File Workers Died Workers Injured          Injuries by Gender  \\\n",
       "0  agric         None            None  {'male': 65, 'female': 35}   \n",
       "\n",
       "  Age with Highest Injury Claims Commonly Injured Parts Top Three Causes  \\\n",
       "0                {'15-24': 4.47}                   None             None   \n",
       "\n",
       "  Common Types of Injuries  \n",
       "0                     None  "
      ]
     },
     "execution_count": 174,
     "metadata": {},
     "output_type": "execute_result"
    }
   ],
   "source": [
    "df"
   ]
  }
 ],
 "metadata": {
  "kernelspec": {
   "display_name": "Python 3",
   "language": "python",
   "name": "python3"
  },
  "language_info": {
   "codemirror_mode": {
    "name": "ipython",
    "version": 3
   },
   "file_extension": ".py",
   "mimetype": "text/x-python",
   "name": "python",
   "nbconvert_exporter": "python",
   "pygments_lexer": "ipython3",
   "version": "3.12.1"
  }
 },
 "nbformat": 4,
 "nbformat_minor": 2
}
